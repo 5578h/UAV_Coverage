{
 "cells": [
  {
   "cell_type": "markdown",
   "metadata": {},
   "source": [
    "# Grid World --- past all grids (agent prefer to visit unvisited grids)\n",
    "##### Charles Zhang\n",
    "##### Jun 17"
   ]
  },
  {
   "cell_type": "markdown",
   "metadata": {},
   "source": [
    "###  1. Cover and Get Back"
   ]
  },
  {
   "cell_type": "code",
   "execution_count": 5,
   "metadata": {},
   "outputs": [],
   "source": [
    "import numpy as np"
   ]
  },
  {
   "cell_type": "code",
   "execution_count": 6,
   "metadata": {},
   "outputs": [],
   "source": [
    "BOARD_ROWS = 4\n",
    "BOARD_COLS = 5\n",
    "START = (0, 0)\n",
    "END = (0, 0)"
   ]
  },
  {
   "cell_type": "code",
   "execution_count": 7,
   "metadata": {},
   "outputs": [],
   "source": [
    "class State:\n",
    "\n",
    "    def __init__(self, state=START):\n",
    "        self.board = np.zeros([BOARD_ROWS, BOARD_COLS])\n",
    "        self.state = state    # tuple of the coordinate\n",
    "        self.is_end = False\n",
    "\n",
    "    def check_end(self):\n",
    "        if self.state == END:\n",
    "            self.is_end = True\n",
    "\n",
    "    def next_position(self, action):\n",
    "        if action == \"up\":\n",
    "            next_state = (self.state[0] - 1, self.state[1])\n",
    "        elif action == \"down\":\n",
    "            next_state = (self.state[0] + 1, self.state[1])\n",
    "        elif action == \"left\":\n",
    "            next_state = (self.state[0], self.state[1] - 1)\n",
    "        else:\n",
    "            next_state = (self.state[0], self.state[1] + 1)\n",
    "        # boundary condition \n",
    "        if (next_state[0] >= 0) and (next_state[0] < BOARD_ROWS):\n",
    "            if (next_state[1] >= 0) and (next_state[1] < BOARD_COLS):\n",
    "                return next_state\n",
    "        return self.state"
   ]
  },
  {
   "cell_type": "code",
   "execution_count": 10,
   "metadata": {},
   "outputs": [],
   "source": [
    "class Agent:\n",
    "\n",
    "    def __init__(self):\n",
    "        self.actions = [\"up\", \"down\", \"left\", \"right\"]      # space\n",
    "        self.State = State()\n",
    "        self.is_end = self.State.is_end\n",
    "        self.alpha = 0.3      # learning rate\n",
    "        self.exp_rate = 1     # epsilon-greedy parameter\n",
    "        self.decay_gamma = 0.9\n",
    "        self.Q_values = {}             # init Q table (dict)\n",
    "        for i in range(BOARD_ROWS):    \n",
    "            for j in range(BOARD_COLS):\n",
    "                self.Q_values[(i, j)] = {}\n",
    "                for a in self.actions:\n",
    "                    self.Q_values[(i, j)][a] = 0\n",
    "        # init a list to check if each grid is past          \n",
    "        self.past_all = np.zeros((BOARD_ROWS, BOARD_COLS), dtype=bool).tolist()\n",
    "        self.steps = []         # store the steps for each episode \n",
    "    \n",
    "    def optimal_action(self):\n",
    "        # greedy move\n",
    "        max_value = -10000\n",
    "        action = \"\"\n",
    "        for a in self.actions:\n",
    "            next_value = self.Q_values[self.State.state][a]\n",
    "            if next_value >= max_value:\n",
    "                action = a\n",
    "                max_value = next_value\n",
    "        return action\n",
    "    \n",
    "    def get_action(self):\n",
    "        \"\"\"\n",
    "        The agent should choose randomly among the positions that have\n",
    "        not been visited, and if all possible positions are visited, \n",
    "        then move randomly and receive a negative reward\n",
    "        \"\"\"\n",
    "        if np.random.uniform(0, 1) <= self.exp_rate:\n",
    "            # Get four potential positions of the current state\n",
    "            t = []\n",
    "            for a in self.actions:\n",
    "                p = self.State.next_position(a)\n",
    "                if self.past_all[p[0]][p[1]] is True:\n",
    "                    t.append(1)\n",
    "                else:\n",
    "                    t.append(0)\n",
    "            if sum(t) == len(t):\n",
    "                return np.random.choice(self.actions)\n",
    "            # Else try to get an available unvisited position randomly\n",
    "            else:\n",
    "                while True:\n",
    "                    action = np.random.choice(self.actions)\n",
    "                    next_state = self.State.next_position(action)\n",
    "                    if self.past_all[next_state[0]][next_state[1]] is False:\n",
    "                        return action\n",
    "                    else:\n",
    "                        continue\n",
    "        else:\n",
    "            return self.optimal_action()\n",
    "    \n",
    "    def give_reward(self):\n",
    "        \"\"\"\n",
    "        + 1 reward for visiting the unvisited grid\n",
    "        -.1 reward for visiting the visited grid\n",
    "        \"\"\"\n",
    "        reward = 0\n",
    "        if self.past_all[self.State.state[0]][self.State.state[1]] is False:\n",
    "            reward += 1\n",
    "        else:\n",
    "            reward -= .1\n",
    "        return reward\n",
    "    \n",
    "    def set_action(self, action):\n",
    "        # set current stat past\n",
    "        curr_state = self.State.state\n",
    "        self.past_all[curr_state[0]][curr_state[1]] = True\n",
    "        # get the next state\n",
    "        next_state = self.State.next_position(action)  \n",
    "        self.State = State(state=next_state)\n",
    "        reward = self.give_reward()\n",
    "        # set the next state past\n",
    "        if self.past_all[next_state[0]][next_state[1]] is False:\n",
    "            self.past_all[next_state[0]][next_state[1]] = True\n",
    "        # give the global reward if finish an epsiode\n",
    "        if self.State.state==START and self.check_all_past():\n",
    "            reward += 1\n",
    "        # update the Q table\n",
    "        qs_of_next_state = []\n",
    "        for q_value in self.Q_values[next_state]:  \n",
    "            qs_of_next_state.append(self.Q_values[next_state][q_value])\n",
    "        delta = self.alpha*(reward + self.decay_gamma*(max(qs_of_next_state)) -\n",
    "                            self.Q_values[curr_state][action])\n",
    "        self.Q_values[curr_state][action] = round(self.Q_values[curr_state][action]+delta, 4)\n",
    "\n",
    "    def reset(self):\n",
    "        for i in range(BOARD_ROWS):\n",
    "            for j in range(BOARD_COLS):\n",
    "                self.past_all[i][j] = False\n",
    "        self.State = State()\n",
    "        self.is_end = self.State.is_end\n",
    "    \n",
    "    def check_all_past(self):\n",
    "        for i in self.past_all:\n",
    "            for j in i:\n",
    "                if j is False:\n",
    "                    return False\n",
    "        return True\n",
    "    \n",
    "    def show_path(self):\n",
    "        for i in range(BOARD_ROWS):\n",
    "            print('---------------------------------------')\n",
    "            row_string = \"| \"\n",
    "            for j in range(BOARD_COLS):\n",
    "                best_move = \"\"\n",
    "                best_val = -1000\n",
    "                for a in self.Q_values[(i,j)]:\n",
    "                    if self.Q_values[(i,j)][a] > best_val:\n",
    "                        best_val = self.Q_values[(i,j)][a]\n",
    "                        best_move = a            \n",
    "                row_string = row_string + \" \" + best_move + \" |\"\n",
    "            print(row_string)\n",
    "        print('---------------------------------------')\n",
    "\n",
    "    def train(self, rounds=1000):\n",
    "        print(\"Training...\")\n",
    "        for r in range(rounds): \n",
    "            self.reset()\n",
    "            self.exp_rate *= 0.99  # decaying epsilon-greedy\n",
    "            step = 0\n",
    "            while True:\n",
    "                action = self.get_action()\n",
    "                self.set_action(action)\n",
    "                self.State.check_end()\n",
    "                self.is_end = self.State.is_end\n",
    "                step += 1\n",
    "                if self.is_end and self.check_all_past():\n",
    "                    break\n",
    "            self.steps.append(step)\n",
    "        print(\"Training finished!\")"
   ]
  },
  {
   "cell_type": "code",
   "execution_count": 11,
   "metadata": {
    "scrolled": false
   },
   "outputs": [
    {
     "name": "stdout",
     "output_type": "stream",
     "text": [
      "Training...\n",
      "Training finished!\n"
     ]
    }
   ],
   "source": [
    "agent = Agent()\n",
    "agent.train()"
   ]
  },
  {
   "cell_type": "code",
   "execution_count": 12,
   "metadata": {},
   "outputs": [
    {
     "data": {
      "text/plain": [
       "{(0, 0): {'down': -0.9633, 'left': -0.9931, 'right': 9.9735, 'up': -0.9722},\n",
       " (0, 1): {'down': -0.9604, 'left': -0.9932, 'right': 9.9716, 'up': -0.9931},\n",
       " (0, 2): {'down': 9.9697, 'left': -0.9914, 'right': -0.931, 'up': -0.9915},\n",
       " (0, 3): {'down': -0.9915, 'left': -0.9917, 'right': 9.9631, 'up': -0.964},\n",
       " (0, 4): {'down': 9.9606, 'left': -0.9928, 'right': -0.9128, 'up': -0.8829},\n",
       " (1, 0): {'down': -0.967, 'left': -0.9931, 'right': -0.9051, 'up': 9.8756},\n",
       " (1, 1): {'down': -0.9802, 'left': 9.8872, 'right': -0.9664, 'up': -0.9919},\n",
       " (1, 2): {'down': -0.9917, 'left': -0.9597, 'right': 9.9676, 'up': -0.9917},\n",
       " (1, 3): {'down': 2.2666, 'left': -0.9917, 'right': 2.3402, 'up': 9.9654},\n",
       " (1, 4): {'down': 9.9577, 'left': -0.9621, 'right': -0.9924, 'up': -0.9933},\n",
       " (2, 0): {'down': -0.9233, 'left': -0.9772, 'right': 9.9073, 'up': -0.8686},\n",
       " (2, 1): {'down': -0.8777, 'left': -0.9914, 'right': -0.9913, 'up': 9.8977},\n",
       " (2, 2): {'down': 9.9365, 'left': -0.8815, 'right': -0.9915, 'up': -0.9932},\n",
       " (2, 3): {'down': -0.9614, 'left': 9.9419, 'right': -0.9624, 'up': -0.9706},\n",
       " (2, 4): {'down': 9.9545, 'left': -0.9922, 'right': -0.9924, 'up': -0.9144},\n",
       " (3, 0): {'down': -0.9495, 'left': -0.9932, 'right': -0.9688, 'up': 9.9159},\n",
       " (3, 1): {'down': -0.9923, 'left': 9.9236, 'right': -0.9933, 'up': -0.9905},\n",
       " (3, 2): {'down': -0.8906, 'left': 9.9305, 'right': -0.9932, 'up': -0.9931},\n",
       " (3, 3): {'down': -0.9933, 'left': -0.9933, 'right': -0.9142, 'up': 9.9467},\n",
       " (3, 4): {'down': -0.9933, 'left': 9.9509, 'right': -0.9921, 'up': -0.9919}}"
      ]
     },
     "execution_count": 12,
     "metadata": {},
     "output_type": "execute_result"
    }
   ],
   "source": [
    "agent.Q_values"
   ]
  },
  {
   "cell_type": "code",
   "execution_count": 15,
   "metadata": {},
   "outputs": [
    {
     "ename": "TypeError",
     "evalue": "'module' object is not callable",
     "output_type": "error",
     "traceback": [
      "\u001b[0;31m---------------------------------------------------------------------------\u001b[0m",
      "\u001b[0;31mTypeError\u001b[0m                                 Traceback (most recent call last)",
      "\u001b[0;32m<ipython-input-15-43cdc2b15e11>\u001b[0m in \u001b[0;36m<module>\u001b[0;34m()\u001b[0m\n\u001b[1;32m     15\u001b[0m \u001b[0my\u001b[0m \u001b[0;34m=\u001b[0m \u001b[0magent\u001b[0m\u001b[0;34m.\u001b[0m\u001b[0msteps\u001b[0m\u001b[0;34m\u001b[0m\u001b[0m\n\u001b[1;32m     16\u001b[0m \u001b[0;34m\u001b[0m\u001b[0m\n\u001b[0;32m---> 17\u001b[0;31m \u001b[0mplt\u001b[0m\u001b[0;34m(\u001b[0m\u001b[0mx\u001b[0m\u001b[0;34m,\u001b[0m \u001b[0msmooth\u001b[0m\u001b[0;34m(\u001b[0m\u001b[0my\u001b[0m\u001b[0;34m,\u001b[0m\u001b[0;36m3\u001b[0m\u001b[0;34m)\u001b[0m\u001b[0;34m,\u001b[0m \u001b[0;34m'r-'\u001b[0m\u001b[0;34m,\u001b[0m \u001b[0mlw\u001b[0m\u001b[0;34m=\u001b[0m\u001b[0;36m2\u001b[0m\u001b[0;34m)\u001b[0m\u001b[0;34m\u001b[0m\u001b[0m\n\u001b[0m\u001b[1;32m     18\u001b[0m \u001b[0;34m\u001b[0m\u001b[0m\n\u001b[1;32m     19\u001b[0m \u001b[0;34m\u001b[0m\u001b[0m\n",
      "\u001b[0;31mTypeError\u001b[0m: 'module' object is not callable"
     ]
    }
   ],
   "source": [
    "import matplotlib.pyplot as plt\n",
    "%matplotlib inline\n",
    "\n",
    "\n",
    "\n",
    "x = []\n",
    "for i in range(1000):\n",
    "    x.append(i)\n",
    "\n",
    "def smooth(y, box_pts):\n",
    "    box = np.ones(box_pts)/box_pts\n",
    "    y_smooth = np.convolve(y, box, mode='same')\n",
    "    return y_smooth\n",
    "\n",
    "y = agent.steps\n",
    "\n",
    "plt(x, smooth(y,3), 'r-', lw=2)\n",
    "\n",
    "\n",
    "\n",
    "plt.ylabel('Number of Steps')\n",
    "plt.xlabel('Episode')\n",
    "plt.title('Q Learning Convergence')\n",
    "plt.show()"
   ]
  },
  {
   "cell_type": "code",
   "execution_count": null,
   "metadata": {},
   "outputs": [],
   "source": [
    "min(agent.steps)"
   ]
  },
  {
   "cell_type": "markdown",
   "metadata": {},
   "source": [
    "#### Optimal Policy"
   ]
  },
  {
   "cell_type": "code",
   "execution_count": null,
   "metadata": {},
   "outputs": [],
   "source": [
    "agent.show_path()"
   ]
  },
  {
   "cell_type": "markdown",
   "metadata": {},
   "source": [
    "### 2. If the connected graph does not have a Euler's Path"
   ]
  },
  {
   "cell_type": "code",
   "execution_count": null,
   "metadata": {},
   "outputs": [],
   "source": [
    "BOARD_ROWS = 3\n",
    "BOARD_COLS = 3\n",
    "START = (0, 0)\n",
    "END = (0, 0)\n",
    "agent = Agent()\n",
    "agent.train(rounds=100)\n",
    "x = []\n",
    "for i in range(100):\n",
    "    x.append(i)\n",
    "y = agent.steps\n",
    "plt.plot(x,y)\n",
    "plt.ylabel('Number of Steps')\n",
    "plt.xlabel('Episode')\n",
    "plt.title('Q Learning Convergence')\n",
    "plt.show()"
   ]
  },
  {
   "cell_type": "markdown",
   "metadata": {},
   "source": [
    "#### If I set up the restriction that the agent should come back once covered all grids, not surprisingly, values in Q tables are very closed. "
   ]
  },
  {
   "cell_type": "code",
   "execution_count": null,
   "metadata": {},
   "outputs": [],
   "source": [
    "agent.Q_values"
   ]
  },
  {
   "cell_type": "code",
   "execution_count": null,
   "metadata": {},
   "outputs": [],
   "source": [
    "min(agent.steps)"
   ]
  },
  {
   "cell_type": "markdown",
   "metadata": {},
   "source": [
    "### 3. Task for only coverage not getting back"
   ]
  },
  {
   "cell_type": "code",
   "execution_count": null,
   "metadata": {},
   "outputs": [],
   "source": [
    "BOARD_ROWS = 3\n",
    "BOARD_COLS = 3\n",
    "START = (0, 0)\n",
    "# END = (0, 0)\n",
    "\n",
    "class Agent:\n",
    "    \"\"\"\n",
    "    Only coverage not get back \n",
    "    Same code except for cheking end\n",
    "    \"\"\"\n",
    "\n",
    "    def __init__(self):\n",
    "        self.actions = [\"up\", \"down\", \"left\", \"right\"]      # space\n",
    "        self.State = State()\n",
    "        self.is_end = self.State.is_end\n",
    "        self.alpha = 0.3\n",
    "        self.exp_rate = 1\n",
    "        self.decay_gamma = 0.9\n",
    "        self.Q_values = {}             # init Q values (dict)\n",
    "        for i in range(BOARD_ROWS):\n",
    "            for j in range(BOARD_COLS):\n",
    "                self.Q_values[(i, j)] = {}\n",
    "                for a in self.actions:\n",
    "                    self.Q_values[(i, j)][a] = 0\n",
    "        self.past_all = []\n",
    "        for i in range(BOARD_ROWS):\n",
    "            t = []\n",
    "            for j in range(BOARD_COLS): \n",
    "                t.append(False)\n",
    "            self.past_all.append(t)\n",
    "        self.steps = []\n",
    "    \n",
    "    def optimal_action(self):\n",
    "        max_value = -100\n",
    "        action = \"\"\n",
    "        for a in self.actions:\n",
    "            next_value = self.Q_values[self.State.state][a]\n",
    "            if next_value >= max_value:\n",
    "                action = a\n",
    "                max_value = next_value\n",
    "        return action\n",
    "    \n",
    "    def get_action(self):\n",
    "        if np.random.uniform(0, 1) <= self.exp_rate:\n",
    "             t = []\n",
    "            for a in self.actions:\n",
    "                p = self.State.next_position(a)\n",
    "                if self.past_all[p[0]][p[1]] is True:\n",
    "                    t.append(1)\n",
    "                else:\n",
    "                    t.append(0)\n",
    "            if sum(t) == len(t):\n",
    "                return np.random.choice(self.actions)\n",
    "            else:\n",
    "                while True:\n",
    "                    action = np.random.choice(self.actions)\n",
    "                    next_state = self.State.next_position(action)\n",
    "                    if self.past_all[next_state[0]][next_state[1]] == False:\n",
    "                        return action\n",
    "                    else:\n",
    "                        continue\n",
    "        else:\n",
    "            return self.optimal_action()\n",
    "    \n",
    "    def give_reward(self):\n",
    "        reward = 0\n",
    "        if self.past_all[self.State.state[0]][self.State.state[1]] is False:\n",
    "            reward += 1\n",
    "        else:\n",
    "            reward -= .1\n",
    "        return reward\n",
    "    \n",
    "    def set_action(self, action):\n",
    "        curr_state = self.State.state\n",
    "        self.past_all[curr_state[0]][curr_state[1]] = True\n",
    "        next_state = self.State.next_position(action)  \n",
    "        self.State = State(state=next_state)\n",
    "        reward = self.give_reward()\n",
    "        if self.past_all[next_state[0]][next_state[1]] is False:\n",
    "            self.past_all[next_state[0]][next_state[1]] = True\n",
    "#         if self.State.state==START and self.check_all_past():\n",
    "#             reward += 1\n",
    "        qs_of_next_state = []\n",
    "        for q_value in self.Q_values[next_state]:  \n",
    "            qs_of_next_state.append(self.Q_values[next_state][q_value])\n",
    "        delta = self.alpha*(reward + self.decay_gamma*(max(qs_of_next_state)) -\n",
    "                            self.Q_values[curr_state][action])\n",
    "        self.Q_values[curr_state][action] = round(self.Q_values[curr_state][action]+delta, 4)\n",
    "        \n",
    "    def reset(self):\n",
    "        for i in range(BOARD_ROWS):\n",
    "            for j in range(BOARD_COLS):\n",
    "                self.past_all[i][j] = False\n",
    "        self.State = State()\n",
    "        self.is_end = self.State.is_end\n",
    "    \n",
    "    def check_all_past(self):\n",
    "        for i in self.past_all:\n",
    "            for j in i:\n",
    "                if j is False:\n",
    "                    return False\n",
    "        return True\n",
    "    \n",
    "     def show_path(self):\n",
    "        for i in range(BOARD_ROWS):\n",
    "            print('---------------------------------------')\n",
    "            row_string = \"| \"\n",
    "            for j in range(BOARD_COLS):\n",
    "                best_move = \"\"\n",
    "                best_val = -1000\n",
    "                for a in self.Q_values[(i,j)]:\n",
    "                    if self.Q_values[(i,j)][a] > best_val:\n",
    "                        best_val = self.Q_values[(i,j)][a]\n",
    "                        best_move = a            \n",
    "                row_string = row_string + \" \" + best_move + \" |\"\n",
    "            print(row_string)\n",
    "        print('---------------------------------------')\n",
    "        \n",
    "    def train(self, rounds=100):\n",
    "        print(\"Training...\")\n",
    "        for r in range(rounds): \n",
    "            self.reset()\n",
    "            self.exp_rate *= 0.9\n",
    "            step = 0\n",
    "            while True:\n",
    "                action = self.get_action()\n",
    "                self.set_action(action)\n",
    "                self.State.check_end()\n",
    "                self.is_end = self.State.is_end\n",
    "                step += 1\n",
    "                #if (self.is_end == True) and (self.check_all_past() == True):\n",
    "                if self.check_all_past() == True:\n",
    "                    break\n",
    "            self.steps.append(step)\n",
    "        print(\"Training finished!\")"
   ]
  },
  {
   "cell_type": "code",
   "execution_count": null,
   "metadata": {},
   "outputs": [],
   "source": [
    "agent = Agent()\n",
    "agent.train()\n",
    "x = []\n",
    "for i in range(100):\n",
    "    x.append(i)\n",
    "y = agent.steps\n",
    "plt.plot(x,y)\n",
    "plt.ylabel('Number of Steps')\n",
    "plt.xlabel('Episode')\n",
    "plt.title('Q Learning Convergence')\n",
    "plt.show()"
   ]
  },
  {
   "cell_type": "code",
   "execution_count": null,
   "metadata": {},
   "outputs": [],
   "source": [
    "agent.Q_values"
   ]
  },
  {
   "cell_type": "code",
   "execution_count": null,
   "metadata": {},
   "outputs": [],
   "source": [
    "min(agent.steps)"
   ]
  },
  {
   "cell_type": "markdown",
   "metadata": {},
   "source": [
    "#### Optimal  Policy"
   ]
  },
  {
   "cell_type": "code",
   "execution_count": null,
   "metadata": {},
   "outputs": [],
   "source": [
    "agent.show_path()"
   ]
  }
 ],
 "metadata": {
  "kernelspec": {
   "display_name": "Python 3",
   "language": "python",
   "name": "python3"
  },
  "language_info": {
   "codemirror_mode": {
    "name": "ipython",
    "version": 3
   },
   "file_extension": ".py",
   "mimetype": "text/x-python",
   "name": "python",
   "nbconvert_exporter": "python",
   "pygments_lexer": "ipython3",
   "version": "3.6.4"
  }
 },
 "nbformat": 4,
 "nbformat_minor": 2
}
