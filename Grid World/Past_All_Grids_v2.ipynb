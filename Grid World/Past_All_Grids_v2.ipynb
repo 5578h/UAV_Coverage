{
 "cells": [
  {
   "cell_type": "markdown",
   "metadata": {},
   "source": [
    "# Grid World --- past all grids\n",
    "##### Charles Zhang\n",
    "##### Jun 17"
   ]
  },
  {
   "cell_type": "markdown",
   "metadata": {},
   "source": [
    "###  1. Cover and Get Back"
   ]
  },
  {
   "cell_type": "code",
   "execution_count": 1,
   "metadata": {},
   "outputs": [],
   "source": [
    "import numpy as np"
   ]
  },
  {
   "cell_type": "code",
   "execution_count": 2,
   "metadata": {},
   "outputs": [],
   "source": [
    "BOARD_ROWS = 3\n",
    "BOARD_COLS = 4\n",
    "START = (0, 0)\n",
    "END = (0, 0)"
   ]
  },
  {
   "cell_type": "code",
   "execution_count": 3,
   "metadata": {},
   "outputs": [],
   "source": [
    "class State:\n",
    "\n",
    "    def __init__(self, state=START):\n",
    "        self.board = np.zeros([BOARD_ROWS, BOARD_COLS])\n",
    "        self.state = state    # tuple of the coordinate\n",
    "        self.is_end = False\n",
    "\n",
    "    def check_end(self):\n",
    "        if self.state == END:\n",
    "            self.is_end = True\n",
    "\n",
    "    def next_position(self, action):\n",
    "        if action == \"up\":\n",
    "            next_state = (self.state[0] - 1, self.state[1])\n",
    "        elif action == \"down\":\n",
    "            next_state = (self.state[0] + 1, self.state[1])\n",
    "        elif action == \"left\":\n",
    "            next_state = (self.state[0], self.state[1] - 1)\n",
    "        else:\n",
    "            next_state = (self.state[0], self.state[1] + 1)\n",
    "        if (next_state[0] >= 0) and (next_state[0] < BOARD_ROWS):\n",
    "            if (next_state[1] >= 0) and (next_state[1] < BOARD_COLS):\n",
    "                return next_state\n",
    "        return self.state"
   ]
  },
  {
   "cell_type": "code",
   "execution_count": 4,
   "metadata": {},
   "outputs": [],
   "source": [
    "class Agent:\n",
    "\n",
    "    def __init__(self):\n",
    "        self.actions = [\"up\", \"down\", \"left\", \"right\"]      # space\n",
    "        self.State = State()\n",
    "        self.is_end = self.State.is_end\n",
    "        self.alpha = 0.3\n",
    "        self.exp_rate = 1\n",
    "        self.decay_gamma = 0.9\n",
    "        self.Q_values = {}             # init Q values (dict)\n",
    "        for i in range(BOARD_ROWS):\n",
    "            for j in range(BOARD_COLS):\n",
    "                self.Q_values[(i, j)] = {}\n",
    "                for a in self.actions:\n",
    "                    self.Q_values[(i, j)][a] = 0\n",
    "        self.past_all = []\n",
    "        for i in range(BOARD_ROWS):\n",
    "            t = []\n",
    "            for j in range(BOARD_COLS): \n",
    "                t.append(False)\n",
    "            self.past_all.append(t)\n",
    "        self.steps = []\n",
    "    \n",
    "    def optimal_action(self):\n",
    "        max_value = -100\n",
    "        action = \"\"\n",
    "        for a in self.actions:\n",
    "            next_value = self.Q_values[self.State.state][a]\n",
    "            if next_value >= max_value:\n",
    "                action = a\n",
    "                max_value = next_value\n",
    "        return action\n",
    "    \n",
    "    def get_action(self):\n",
    "        if np.random.uniform(0, 1) <= self.exp_rate:\n",
    "            up = self.State.next_position(\"up\")\n",
    "            down = self.State.next_position(\"down\")\n",
    "            left = self.State.next_position(\"left\")\n",
    "            right = self.State.next_position(\"right\")\n",
    "            rule = [self.past_all[up[0]][up[1]] is True,\n",
    "                    self.past_all[down[0]][down[1]] is True,\n",
    "                    self.past_all[left[0]][left[1]] is True,\n",
    "                    self.past_all[right[0]][right[1]] is True ]\n",
    "            if all(rule):\n",
    "                action = np.random.choice(self.actions)\n",
    "                return action\n",
    "            else:\n",
    "                while True:\n",
    "                    action = np.random.choice(self.actions)\n",
    "                    next_state = self.State.next_position(action)\n",
    "                    if self.past_all[next_state[0]][next_state[1]] == False:\n",
    "                        return action\n",
    "                    else:\n",
    "                        continue\n",
    "        else:\n",
    "            return self.optimal_action()\n",
    "    \n",
    "    def give_reward(self):\n",
    "        reward = 0\n",
    "        if self.past_all[self.State.state[0]][self.State.state[1]] is False:\n",
    "            reward += 1\n",
    "        else:\n",
    "            reward -= .1\n",
    "        return reward\n",
    "    \n",
    "    def set_action(self, action):\n",
    "        curr_state = self.State.state\n",
    "        self.past_all[curr_state[0]][curr_state[1]] = True\n",
    "        next_state = self.State.next_position(action)  \n",
    "        self.State = State(state=next_state)\n",
    "        reward = self.give_reward()\n",
    "        if self.past_all[next_state[0]][next_state[1]] is False:\n",
    "            self.past_all[next_state[0]][next_state[1]] = True\n",
    "        if self.State.state==START and self.check_all_past():\n",
    "            reward += 1\n",
    "        qs_of_next_state = []\n",
    "        for q_value in self.Q_values[next_state]:  \n",
    "            qs_of_next_state.append(self.Q_values[next_state][q_value])\n",
    "        delta = self.alpha*(reward + self.decay_gamma*(max(qs_of_next_state)) -\n",
    "                            self.Q_values[curr_state][action])\n",
    "        self.Q_values[curr_state][action] = round(self.Q_values[curr_state][action]+delta, 4)\n",
    "        \n",
    "\n",
    "    def reset(self):\n",
    "        for i in range(BOARD_ROWS):\n",
    "            for j in range(BOARD_COLS):\n",
    "                self.past_all[i][j] = False\n",
    "        self.State = State()\n",
    "        self.is_end = self.State.is_end\n",
    "    \n",
    "    def check_all_past(self):\n",
    "        for i in self.past_all:\n",
    "            for j in i:\n",
    "                if j is False:\n",
    "                    return False\n",
    "        return True\n",
    "\n",
    "    def train(self, rounds=100):\n",
    "        print(\"Training...\")\n",
    "        for r in range(rounds): \n",
    "            self.reset()\n",
    "            self.exp_rate *= 0.9\n",
    "            step = 0\n",
    "            while True:\n",
    "                action = self.get_action()\n",
    "                self.set_action(action)\n",
    "                self.State.check_end()\n",
    "                self.is_end = self.State.is_end\n",
    "                step += 1\n",
    "                if (self.is_end == True) and (self.check_all_past() == True):\n",
    "                # if self.check_all_past() == True:\n",
    "                    break\n",
    "            self.steps.append(step)\n",
    "        print(\"Training finished!\")"
   ]
  },
  {
   "cell_type": "code",
   "execution_count": 5,
   "metadata": {
    "scrolled": false
   },
   "outputs": [
    {
     "name": "stdout",
     "output_type": "stream",
     "text": [
      "Training...\n",
      "Training finished!\n"
     ]
    }
   ],
   "source": [
    "agent = Agent()\n",
    "agent.train()"
   ]
  },
  {
   "cell_type": "code",
   "execution_count": 6,
   "metadata": {},
   "outputs": [
    {
     "data": {
      "text/plain": [
       "{(0, 0): {'down': 9.3041, 'left': 1.8099, 'right': 2.296, 'up': 1.7459},\n",
       " (0, 1): {'down': 2.0814, 'left': 9.2276, 'right': 2.3457, 'up': 3.1232},\n",
       " (0, 2): {'down': 9.2643, 'left': 2.4425, 'right': 0.6682, 'up': 0.1822},\n",
       " (0, 3): {'down': 0.3535, 'left': 9.2735, 'right': 1.2145, 'up': 0.167},\n",
       " (1, 0): {'down': 9.3007, 'left': 1.1125, 'right': 2.5205, 'up': 1.0273},\n",
       " (1, 1): {'down': 0.4394, 'left': 1.1455, 'right': 1.2747, 'up': 9.2411},\n",
       " (1, 2): {'down': 0.1174, 'left': 9.2534, 'right': 0.3144, 'up': 0.6917},\n",
       " (1, 3): {'down': 0.2462, 'left': 1.1465, 'right': 0.302, 'up': 9.2808},\n",
       " (2, 0): {'down': 0, 'left': 0.0405, 'right': 9.2976, 'up': 0},\n",
       " (2, 1): {'down': 0.522, 'left': 0.9975, 'right': 9.2944, 'up': 1.722},\n",
       " (2, 2): {'down': 0.19, 'left': 0.051, 'right': 9.2909, 'up': 2.2419},\n",
       " (2, 3): {'down': 0.1798, 'left': 0.5827, 'right': 0.0239, 'up': 9.2865}}"
      ]
     },
     "execution_count": 6,
     "metadata": {},
     "output_type": "execute_result"
    }
   ],
   "source": [
    "agent.Q_values"
   ]
  },
  {
   "cell_type": "code",
   "execution_count": 7,
   "metadata": {},
   "outputs": [
    {
     "data": {
      "image/png": "[encoded data removed]",
      "text/plain": [
       "<Figure size 432x288 with 1 Axes>"
      ]
     },
     "metadata": {},
     "output_type": "display_data"
    }
   ],
   "source": [
    "import matplotlib.pyplot as plt\n",
    "%matplotlib inline\n",
    "x = []\n",
    "for i in range(100):\n",
    "    x.append(i)\n",
    "y = agent.steps\n",
    "plt.plot(x,y)\n",
    "plt.ylabel('Number of Steps')\n",
    "plt.xlabel('Episode')\n",
    "plt.title('Q Learning Convergence')\n",
    "plt.show()"
   ]
  },
  {
   "cell_type": "code",
   "execution_count": 8,
   "metadata": {},
   "outputs": [
    {
     "data": {
      "text/plain": [
       "12"
      ]
     },
     "execution_count": 8,
     "metadata": {},
     "output_type": "execute_result"
    }
   ],
   "source": [
    "min(agent.steps)"
   ]
  },
  {
   "cell_type": "markdown",
   "metadata": {},
   "source": [
    "#### Optimal Policy"
   ]
  },
  {
   "cell_type": "code",
   "execution_count": 9,
   "metadata": {},
   "outputs": [
    {
     "name": "stdout",
     "output_type": "stream",
     "text": [
      "----------------------------------\n",
      "|  down | left | down | left |\n",
      "----------------------------------\n",
      "|  down | up | left | up |\n",
      "----------------------------------\n",
      "|  right | right | right | up |\n",
      "----------------------------------\n"
     ]
    }
   ],
   "source": [
    "for i in range(BOARD_ROWS):\n",
    "    print('----------------------------------')\n",
    "    row_string = \"| \"\n",
    "    for j in range(BOARD_COLS):\n",
    "        best_val = -1000\n",
    "        for a in agent.Q_values[(i,j)]:\n",
    "            if agent.Q_values[(i,j)][a] > best_val:\n",
    "                best_val = agent.Q_values[(i,j)][a]\n",
    "                best_move = a            \n",
    "        row_string = row_string + \" \" + best_move + \" |\"\n",
    "    print(row_string)\n",
    "print('----------------------------------')"
   ]
  },
  {
   "cell_type": "markdown",
   "metadata": {},
   "source": [
    "### 2. If the connected graph does not have a Euler's Path"
   ]
  },
  {
   "cell_type": "code",
   "execution_count": 10,
   "metadata": {},
   "outputs": [
    {
     "name": "stdout",
     "output_type": "stream",
     "text": [
      "Training...\n",
      "Training finished!\n"
     ]
    },
    {
     "data": {
      "image/png": "[encoded data removed]",
      "text/plain": [
       "<Figure size 432x288 with 1 Axes>"
      ]
     },
     "metadata": {},
     "output_type": "display_data"
    }
   ],
   "source": [
    "BOARD_ROWS = 3\n",
    "BOARD_COLS = 3\n",
    "START = (0, 0)\n",
    "END = (0, 0)\n",
    "agent = Agent()\n",
    "agent.train()\n",
    "x = []\n",
    "for i in range(100):\n",
    "    x.append(i)\n",
    "y = agent.steps\n",
    "plt.plot(x,y)\n",
    "plt.ylabel('Number of Steps')\n",
    "plt.xlabel('Episode')\n",
    "plt.title('Q Learning Convergence')\n",
    "plt.show()"
   ]
  },
  {
   "cell_type": "markdown",
   "metadata": {},
   "source": [
    "If I set up the restriction that the agent should come back once covered all grids, not surprisingly, values in Q tables are very closed. "
   ]
  },
  {
   "cell_type": "code",
   "execution_count": 11,
   "metadata": {},
   "outputs": [
    {
     "data": {
      "text/plain": [
       "{(0, 0): {'down': 0.0367, 'left': 0.0391, 'right': 0.0378, 'up': 0.0331},\n",
       " (0, 1): {'down': -0.0156, 'left': 0, 'right': 0.0101, 'up': -0.0064},\n",
       " (0, 2): {'down': 0.0069, 'left': -0.0036, 'right': -0.01, 'up': 0.0073},\n",
       " (1, 0): {'down': -0.0151, 'left': 0.0051, 'right': 0.0097, 'up': 0.2927},\n",
       " (1, 1): {'down': -0.0004, 'left': -0.0251, 'right': -0.0058, 'up': -0.0112},\n",
       " (1, 2): {'down': -0.0058, 'left': -0.0204, 'right': -0.0044, 'up': -0.0165},\n",
       " (2, 0): {'down': -0.0077, 'left': -0.0216, 'right': 0.0514, 'up': -0.0173},\n",
       " (2, 1): {'down': 0.0141, 'left': -0.0099, 'right': 0.0135, 'up': -0.0168},\n",
       " (2, 2): {'down': -0.011, 'left': -0.0075, 'right': -0.0041, 'up': -0.0309}}"
      ]
     },
     "execution_count": 11,
     "metadata": {},
     "output_type": "execute_result"
    }
   ],
   "source": [
    "agent.Q_values"
   ]
  },
  {
   "cell_type": "code",
   "execution_count": 12,
   "metadata": {},
   "outputs": [
    {
     "data": {
      "text/plain": [
       "12"
      ]
     },
     "execution_count": 12,
     "metadata": {},
     "output_type": "execute_result"
    }
   ],
   "source": [
    "min(agent.steps)"
   ]
  },
  {
   "cell_type": "markdown",
   "metadata": {},
   "source": [
    "### 3. Task for only coverage not getting back"
   ]
  },
  {
   "cell_type": "code",
   "execution_count": 13,
   "metadata": {},
   "outputs": [],
   "source": [
    "BOARD_ROWS = 3\n",
    "BOARD_COLS = 3\n",
    "START = (0, 0)\n",
    "# END = (0, 0)\n",
    "\n",
    "# only coverage not get back\n",
    "class Agent:\n",
    "\n",
    "    def __init__(self):\n",
    "        self.actions = [\"up\", \"down\", \"left\", \"right\"]      # space\n",
    "        self.State = State()\n",
    "        self.is_end = self.State.is_end\n",
    "        self.alpha = 0.3\n",
    "        self.exp_rate = 1\n",
    "        self.decay_gamma = 0.9\n",
    "        self.Q_values = {}             # init Q values (dict)\n",
    "        for i in range(BOARD_ROWS):\n",
    "            for j in range(BOARD_COLS):\n",
    "                self.Q_values[(i, j)] = {}\n",
    "                for a in self.actions:\n",
    "                    self.Q_values[(i, j)][a] = 0\n",
    "        self.past_all = []\n",
    "        for i in range(BOARD_ROWS):\n",
    "            t = []\n",
    "            for j in range(BOARD_COLS): \n",
    "                t.append(False)\n",
    "            self.past_all.append(t)\n",
    "        self.steps = []\n",
    "    \n",
    "    def optimal_action(self):\n",
    "        max_value = -100\n",
    "        action = \"\"\n",
    "        for a in self.actions:\n",
    "            next_value = self.Q_values[self.State.state][a]\n",
    "            if next_value >= max_value:\n",
    "                action = a\n",
    "                max_value = next_value\n",
    "        return action\n",
    "    \n",
    "    def get_action(self):\n",
    "        if np.random.uniform(0, 1) <= self.exp_rate:\n",
    "            up = self.State.next_position(\"up\")\n",
    "            down = self.State.next_position(\"down\")\n",
    "            left = self.State.next_position(\"left\")\n",
    "            right = self.State.next_position(\"right\")\n",
    "            rule = [self.past_all[up[0]][up[1]] is True,\n",
    "                    self.past_all[down[0]][down[1]] is True,\n",
    "                    self.past_all[left[0]][left[1]] is True,\n",
    "                    self.past_all[right[0]][right[1]] is True ]\n",
    "            if all(rule):\n",
    "                action = np.random.choice(self.actions)\n",
    "                return action\n",
    "            else:\n",
    "                while True:\n",
    "                    action = np.random.choice(self.actions)\n",
    "                    next_state = self.State.next_position(action)\n",
    "                    if self.past_all[next_state[0]][next_state[1]] == False:\n",
    "                        return action\n",
    "                    else:\n",
    "                        continue\n",
    "        else:\n",
    "            return self.optimal_action()\n",
    "    \n",
    "    def give_reward(self):\n",
    "        reward = 0\n",
    "        if self.past_all[self.State.state[0]][self.State.state[1]] is False:\n",
    "            reward += 1\n",
    "        else:\n",
    "            reward -= .1\n",
    "        return reward\n",
    "    \n",
    "    def set_action(self, action):\n",
    "        curr_state = self.State.state\n",
    "        self.past_all[curr_state[0]][curr_state[1]] = True\n",
    "        next_state = self.State.next_position(action)  \n",
    "        self.State = State(state=next_state)\n",
    "        reward = self.give_reward()\n",
    "        if self.past_all[next_state[0]][next_state[1]] is False:\n",
    "            self.past_all[next_state[0]][next_state[1]] = True\n",
    "#         if self.State.state==START and self.check_all_past():\n",
    "#             reward += 1\n",
    "        qs_of_next_state = []\n",
    "        for q_value in self.Q_values[next_state]:  \n",
    "            qs_of_next_state.append(self.Q_values[next_state][q_value])\n",
    "        delta = self.alpha*(reward + self.decay_gamma*(max(qs_of_next_state)) -\n",
    "                            self.Q_values[curr_state][action])\n",
    "        self.Q_values[curr_state][action] = round(self.Q_values[curr_state][action]+delta, 4)\n",
    "        \n",
    "\n",
    "    def reset(self):\n",
    "        for i in range(BOARD_ROWS):\n",
    "            for j in range(BOARD_COLS):\n",
    "                self.past_all[i][j] = False\n",
    "        self.State = State()\n",
    "        self.is_end = self.State.is_end\n",
    "    \n",
    "    def check_all_past(self):\n",
    "        for i in self.past_all:\n",
    "            for j in i:\n",
    "                if j is False:\n",
    "                    return False\n",
    "        return True\n",
    "\n",
    "    def train(self, rounds=100):\n",
    "        print(\"Training...\")\n",
    "        for r in range(rounds): \n",
    "            self.reset()\n",
    "            self.exp_rate *= 0.9\n",
    "            step = 0\n",
    "            while True:\n",
    "                action = self.get_action()\n",
    "                self.set_action(action)\n",
    "                self.State.check_end()\n",
    "                self.is_end = self.State.is_end\n",
    "                step += 1\n",
    "                #if (self.is_end == True) and (self.check_all_past() == True):\n",
    "                if self.check_all_past() == True:\n",
    "                    break\n",
    "            self.steps.append(step)\n",
    "        print(\"Training finished!\")"
   ]
  },
  {
   "cell_type": "code",
   "execution_count": 14,
   "metadata": {},
   "outputs": [
    {
     "name": "stdout",
     "output_type": "stream",
     "text": [
      "Training...\n",
      "Training finished!\n"
     ]
    },
    {
     "data": {
      "image/png": "[encoded data removed]",
      "text/plain": [
       "<Figure size 432x288 with 1 Axes>"
      ]
     },
     "metadata": {},
     "output_type": "display_data"
    }
   ],
   "source": [
    "agent = Agent()\n",
    "agent.train()\n",
    "x = []\n",
    "for i in range(100):\n",
    "    x.append(i)\n",
    "y = agent.steps\n",
    "plt.plot(x,y)\n",
    "plt.ylabel('Number of Steps')\n",
    "plt.xlabel('Episode')\n",
    "plt.title('Q Learning Convergence')\n",
    "plt.show()"
   ]
  },
  {
   "cell_type": "code",
   "execution_count": 15,
   "metadata": {},
   "outputs": [
    {
     "data": {
      "text/plain": [
       "{(0, 0): {'down': 7.1699, 'left': 0.5061, 'right': 0.6322, 'up': 2.3341},\n",
       " (0, 1): {'down': 4.0842, 'left': 0, 'right': 0.5789, 'up': 0},\n",
       " (0, 2): {'down': 0.6384, 'left': 4.6757, 'right': -0.03, 'up': 0},\n",
       " (1, 0): {'down': 6.8556, 'left': 0, 'right': 1.349, 'up': 0},\n",
       " (1, 1): {'down': 0.8797, 'left': 3.427, 'right': 0.051, 'up': 0},\n",
       " (1, 2): {'down': 0.0733, 'left': 0, 'right': 0.0195, 'up': 5.208},\n",
       " (2, 0): {'down': 0, 'left': 0, 'right': 6.5064, 'up': 0.716},\n",
       " (2, 1): {'down': 0, 'left': 0.8683, 'right': 6.1183, 'up': 2.3909},\n",
       " (2, 2): {'down': 0.051, 'left': 0.051, 'right': 0.0867, 'up': 5.6871}}"
      ]
     },
     "execution_count": 15,
     "metadata": {},
     "output_type": "execute_result"
    }
   ],
   "source": [
    "agent.Q_values"
   ]
  },
  {
   "cell_type": "code",
   "execution_count": 16,
   "metadata": {},
   "outputs": [
    {
     "data": {
      "text/plain": [
       "8"
      ]
     },
     "execution_count": 16,
     "metadata": {},
     "output_type": "execute_result"
    }
   ],
   "source": [
    "min(agent.steps)"
   ]
  },
  {
   "cell_type": "markdown",
   "metadata": {},
   "source": [
    "#### Optimal  Policy"
   ]
  },
  {
   "cell_type": "code",
   "execution_count": 17,
   "metadata": {},
   "outputs": [
    {
     "name": "stdout",
     "output_type": "stream",
     "text": [
      "----------------------------------\n",
      "|  down | down | left |\n",
      "----------------------------------\n",
      "|  down | left | up |\n",
      "----------------------------------\n",
      "|  right | right | up |\n",
      "----------------------------------\n"
     ]
    }
   ],
   "source": [
    "for i in range(BOARD_ROWS):\n",
    "    print('----------------------------------')\n",
    "    row_string = \"| \"\n",
    "    for j in range(BOARD_COLS):\n",
    "        best_val = -1000\n",
    "        for a in agent.Q_values[(i,j)]:\n",
    "            if agent.Q_values[(i,j)][a] > best_val:\n",
    "                best_val = agent.Q_values[(i,j)][a]\n",
    "                best_move = a            \n",
    "        row_string = row_string + \" \" + best_move + \" |\"\n",
    "    print(row_string)\n",
    "print('----------------------------------')"
   ]
  }
 ],
 "metadata": {
  "kernelspec": {
   "display_name": "Python 3",
   "language": "python",
   "name": "python3"
  },
  "language_info": {
   "codemirror_mode": {
    "name": "ipython",
    "version": 3
   },
   "file_extension": ".py",
   "mimetype": "text/x-python",
   "name": "python",
   "nbconvert_exporter": "python",
   "pygments_lexer": "ipython3",
   "version": "3.6.4"
  }
 },
 "nbformat": 4,
 "nbformat_minor": 2
}
