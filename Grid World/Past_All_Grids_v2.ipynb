{
 "cells": [
  {
   "cell_type": "markdown",
   "metadata": {},
   "source": [
    "# Grid World --- past all grids\n",
    "##### Charles Zhang\n",
    "##### Jun 17"
   ]
  },
  {
   "cell_type": "markdown",
   "metadata": {},
   "source": [
    "###  1. Cover and Get Back"
   ]
  },
  {
   "cell_type": "code",
   "execution_count": 1,
   "metadata": {},
   "outputs": [],
   "source": [
    "import numpy as np"
   ]
  },
  {
   "cell_type": "code",
   "execution_count": 2,
   "metadata": {},
   "outputs": [],
   "source": [
    "BOARD_ROWS = 4\n",
    "BOARD_COLS = 5\n",
    "START = (0, 0)\n",
    "END = (0, 0)"
   ]
  },
  {
   "cell_type": "code",
   "execution_count": 3,
   "metadata": {},
   "outputs": [],
   "source": [
    "class State:\n",
    "\n",
    "    def __init__(self, state=START):\n",
    "        self.board = np.zeros([BOARD_ROWS, BOARD_COLS])\n",
    "        self.state = state    # tuple of the coordinate\n",
    "        self.is_end = False\n",
    "\n",
    "    def check_end(self):\n",
    "        if self.state == END:\n",
    "            self.is_end = True\n",
    "\n",
    "    def next_position(self, action):\n",
    "        if action == \"up\":\n",
    "            next_state = (self.state[0] - 1, self.state[1])\n",
    "        elif action == \"down\":\n",
    "            next_state = (self.state[0] + 1, self.state[1])\n",
    "        elif action == \"left\":\n",
    "            next_state = (self.state[0], self.state[1] - 1)\n",
    "        else:\n",
    "            next_state = (self.state[0], self.state[1] + 1)\n",
    "        # boundary condition \n",
    "        if (next_state[0] >= 0) and (next_state[0] < BOARD_ROWS):\n",
    "            if (next_state[1] >= 0) and (next_state[1] < BOARD_COLS):\n",
    "                return next_state\n",
    "        return self.state"
   ]
  },
  {
   "cell_type": "code",
   "execution_count": 4,
   "metadata": {},
   "outputs": [],
   "source": [
    "class Agent:\n",
    "\n",
    "    def __init__(self):\n",
    "        self.actions = [\"up\", \"down\", \"left\", \"right\"]      # space\n",
    "        self.State = State()\n",
    "        self.is_end = self.State.is_end\n",
    "        self.alpha = 0.3      # learning rate\n",
    "        self.exp_rate = 1     # epsilon-greedy parameter\n",
    "        self.decay_gamma = 0.9\n",
    "        self.Q_values = {}             # init Q table (dict)\n",
    "        for i in range(BOARD_ROWS):    \n",
    "            for j in range(BOARD_COLS):\n",
    "                self.Q_values[(i, j)] = {}\n",
    "                for a in self.actions:\n",
    "                    self.Q_values[(i, j)][a] = 0\n",
    "        # init a list to check if each grid is past          \n",
    "        self.past_all = np.zeros((BOARD_ROWS, BOARD_COLS), dtype=bool).tolist()\n",
    "        self.steps = []         # store the steps for each episode \n",
    "    \n",
    "    def optimal_action(self):\n",
    "        # greedy move\n",
    "        max_value = -10000\n",
    "        action = \"\"\n",
    "        for a in self.actions:\n",
    "            next_value = self.Q_values[self.State.state][a]\n",
    "            if next_value >= max_value:\n",
    "                action = a\n",
    "                max_value = next_value\n",
    "        return action\n",
    "    \n",
    "    def get_action(self):\n",
    "        \"\"\"\n",
    "        The agent should choose randomly among the positions that have\n",
    "        not been visited, and if all possible positions are visited, \n",
    "        then move randomly and receive a negative reward\n",
    "        \"\"\"\n",
    "        if np.random.uniform(0, 1) <= self.exp_rate:\n",
    "            # Get four potential positions of the current state\n",
    "            up = self.State.next_position(\"up\")\n",
    "            down = self.State.next_position(\"down\")\n",
    "            left = self.State.next_position(\"left\")\n",
    "            right = self.State.next_position(\"right\")\n",
    "            # Check if all potential positions are visited\n",
    "            rule = [self.past_all[up[0]][up[1]] is True,\n",
    "                    self.past_all[down[0]][down[1]] is True,\n",
    "                    self.past_all[left[0]][left[1]] is True,\n",
    "                    self.past_all[right[0]][right[1]] is True ]\n",
    "            # If all are visited, return a random action\n",
    "            if all(rule):\n",
    "                action = np.random.choice(self.actions)\n",
    "                return action\n",
    "            # Else try to get an available unvisited position randomly\n",
    "            else:\n",
    "                while True:\n",
    "                    action = np.random.choice(self.actions)\n",
    "                    next_state = self.State.next_position(action)\n",
    "                    if self.past_all[next_state[0]][next_state[1]] == False:\n",
    "                        return action\n",
    "                    else:\n",
    "                        continue\n",
    "        else:\n",
    "            return self.optimal_action()\n",
    "    \n",
    "    def give_reward(self):\n",
    "        \"\"\"\n",
    "        + 1 reward for visiting the unvisited grid\n",
    "        -.1 reward for visiting the visited grid\n",
    "        \"\"\"\n",
    "        reward = 0\n",
    "        if self.past_all[self.State.state[0]][self.State.state[1]] is False:\n",
    "            reward += 1\n",
    "        else:\n",
    "            reward -= .1\n",
    "        return reward\n",
    "    \n",
    "    def set_action(self, action):\n",
    "        # set current stat past\n",
    "        curr_state = self.State.state\n",
    "        self.past_all[curr_state[0]][curr_state[1]] = True\n",
    "        # get the next state\n",
    "        next_state = self.State.next_position(action)  \n",
    "        self.State = State(state=next_state)\n",
    "        reward = self.give_reward()\n",
    "        # set the next state past\n",
    "        if self.past_all[next_state[0]][next_state[1]] is False:\n",
    "            self.past_all[next_state[0]][next_state[1]] = True\n",
    "        # give the global reward if finish an epsiode\n",
    "        if self.State.state==START and self.check_all_past():\n",
    "            reward += 1\n",
    "        # update the Q table\n",
    "        qs_of_next_state = []\n",
    "        for q_value in self.Q_values[next_state]:  \n",
    "            qs_of_next_state.append(self.Q_values[next_state][q_value])\n",
    "        delta = self.alpha*(reward + self.decay_gamma*(max(qs_of_next_state)) -\n",
    "                            self.Q_values[curr_state][action])\n",
    "        self.Q_values[curr_state][action] = round(self.Q_values[curr_state][action]+delta, 4)\n",
    "        \n",
    "\n",
    "    def reset(self):\n",
    "        for i in range(BOARD_ROWS):\n",
    "            for j in range(BOARD_COLS):\n",
    "                self.past_all[i][j] = False\n",
    "        self.State = State()\n",
    "        self.is_end = self.State.is_end\n",
    "    \n",
    "    def check_all_past(self):\n",
    "        for i in self.past_all:\n",
    "            for j in i:\n",
    "                if j is False:\n",
    "                    return False\n",
    "        return True\n",
    "\n",
    "    def train(self, rounds=1000):\n",
    "        print(\"Training...\")\n",
    "        for r in range(rounds): \n",
    "            self.reset()\n",
    "            self.exp_rate *= 0.99  # decaying epsilon-greedy\n",
    "            step = 0\n",
    "            while True:\n",
    "                action = self.get_action()\n",
    "                self.set_action(action)\n",
    "                self.State.check_end()\n",
    "                self.is_end = self.State.is_end\n",
    "                step += 1\n",
    "                if (self.is_end == True) and (self.check_all_past() == True):\n",
    "                    break\n",
    "            self.steps.append(step)\n",
    "        print(\"Training finished!\")"
   ]
  },
  {
   "cell_type": "code",
   "execution_count": 5,
   "metadata": {
    "scrolled": false
   },
   "outputs": [
    {
     "name": "stdout",
     "output_type": "stream",
     "text": [
      "Training...\n",
      "Training finished!\n"
     ]
    }
   ],
   "source": [
    "agent = Agent()\n",
    "agent.train()"
   ]
  },
  {
   "cell_type": "code",
   "execution_count": 6,
   "metadata": {},
   "outputs": [
    {
     "data": {
      "text/plain": [
       "{(0, 0): {'down': 9.9594, 'left': -0.9975, 'right': -0.9673, 'up': -0.9372},\n",
       " (0, 1): {'down': -0.9948, 'left': 9.8615, 'right': -0.9948, 'up': -0.9427},\n",
       " (0, 2): {'down': -0.9975, 'left': 9.8728, 'right': -0.9976, 'up': -0.9682},\n",
       " (0, 3): {'down': 9.9186, 'left': -0.8908, 'right': -0.9958, 'up': -0.9975},\n",
       " (0, 4): {'down': -0.9976, 'left': 9.926, 'right': -0.9977, 'up': -0.9973},\n",
       " (1, 0): {'down': -0.9317, 'left': -0.9974, 'right': 9.9583, 'up': -0.9613},\n",
       " (1, 1): {'down': 9.9575, 'left': -0.9975, 'right': -0.9463, 'up': -0.9652},\n",
       " (1, 2): {'down': -0.9975, 'left': -0.9463, 'right': -0.9469, 'up': 9.8832},\n",
       " (1, 3): {'down': 9.9105, 'left': -0.2505, 'right': -0.9976, 'up': -0.9462},\n",
       " (1, 4): {'down': -0.9976, 'left': -0.9976, 'right': -0.9976, 'up': 9.9327},\n",
       " (2, 0): {'down': 9.9557, 'left': -0.9976, 'right': -0.9976, 'up': -0.9659},\n",
       " (2, 1): {'down': 1.9231, 'left': 9.9567, 'right': -0.9442, 'up': -0.979},\n",
       " (2, 2): {'down': -0.9976, 'left': -0.9976, 'right': -0.9476, 'up': 9.8929},\n",
       " (2, 3): {'down': -0.9976, 'left': 9.902, 'right': -0.9976, 'up': -0.9471},\n",
       " (2, 4): {'down': -0.9976, 'left': 2.3248, 'right': -0.9976, 'up': 9.9387},\n",
       " (3, 0): {'down': -0.9386, 'left': -0.9395, 'right': 9.9545, 'up': -0.9975},\n",
       " (3, 1): {'down': -0.9951, 'left': -0.9975, 'right': 9.9529, 'up': -0.5712},\n",
       " (3, 2): {'down': -0.9533, 'left': -0.9975, 'right': 9.9506, 'up': -0.9305},\n",
       " (3, 3): {'down': -0.969, 'left': -0.9976, 'right': 9.9475, 'up': -0.9279},\n",
       " (3, 4): {'down': -0.9976, 'left': -0.954, 'right': -0.9976, 'up': 9.9436}}"
      ]
     },
     "execution_count": 6,
     "metadata": {},
     "output_type": "execute_result"
    }
   ],
   "source": [
    "agent.Q_values"
   ]
  },
  {
   "cell_type": "code",
   "execution_count": 7,
   "metadata": {},
   "outputs": [
    {
     "data": {
      "image/png": "[encoded data removed]",
      "text/plain": [
       "<Figure size 432x288 with 1 Axes>"
      ]
     },
     "metadata": {},
     "output_type": "display_data"
    }
   ],
   "source": [
    "import matplotlib.pyplot as plt\n",
    "%matplotlib inline\n",
    "x = []\n",
    "for i in range(1000):\n",
    "    x.append(i)\n",
    "y = agent.steps\n",
    "plt.plot(x,y)\n",
    "plt.ylabel('Number of Steps')\n",
    "plt.xlabel('Episode')\n",
    "plt.title('Q Learning Convergence')\n",
    "plt.show()"
   ]
  },
  {
   "cell_type": "code",
   "execution_count": 8,
   "metadata": {},
   "outputs": [
    {
     "data": {
      "text/plain": [
       "20"
      ]
     },
     "execution_count": 8,
     "metadata": {},
     "output_type": "execute_result"
    }
   ],
   "source": [
    "min(agent.steps)"
   ]
  },
  {
   "cell_type": "markdown",
   "metadata": {},
   "source": [
    "#### Optimal Policy"
   ]
  },
  {
   "cell_type": "code",
   "execution_count": 9,
   "metadata": {},
   "outputs": [
    {
     "name": "stdout",
     "output_type": "stream",
     "text": [
      "---------------------------------------\n",
      "|  down | left | left | down | left |\n",
      "---------------------------------------\n",
      "|  right | down | up | down | up |\n",
      "---------------------------------------\n",
      "|  down | left | up | left | up |\n",
      "---------------------------------------\n",
      "|  right | right | right | right | up |\n",
      "---------------------------------------\n"
     ]
    }
   ],
   "source": [
    "for i in range(BOARD_ROWS):\n",
    "    print('---------------------------------------')\n",
    "    row_string = \"| \"\n",
    "    for j in range(BOARD_COLS):\n",
    "        best_val = -1000\n",
    "        for a in agent.Q_values[(i,j)]:\n",
    "            if agent.Q_values[(i,j)][a] > best_val:\n",
    "                best_val = agent.Q_values[(i,j)][a]\n",
    "                best_move = a            \n",
    "        row_string = row_string + \" \" + best_move + \" |\"\n",
    "    print(row_string)\n",
    "print('---------------------------------------')"
   ]
  },
  {
   "cell_type": "markdown",
   "metadata": {},
   "source": [
    "### 2. If the connected graph does not have a Euler's Path"
   ]
  },
  {
   "cell_type": "code",
   "execution_count": 10,
   "metadata": {},
   "outputs": [
    {
     "name": "stdout",
     "output_type": "stream",
     "text": [
      "Training...\n",
      "Training finished!\n"
     ]
    },
    {
     "data": {
      "image/png": "[encoded data removed]",
      "text/plain": [
       "<Figure size 432x288 with 1 Axes>"
      ]
     },
     "metadata": {},
     "output_type": "display_data"
    }
   ],
   "source": [
    "BOARD_ROWS = 3\n",
    "BOARD_COLS = 3\n",
    "START = (0, 0)\n",
    "END = (0, 0)\n",
    "agent = Agent()\n",
    "agent.train(rounds=100)\n",
    "x = []\n",
    "for i in range(100):\n",
    "    x.append(i)\n",
    "y = agent.steps\n",
    "plt.plot(x,y)\n",
    "plt.ylabel('Number of Steps')\n",
    "plt.xlabel('Episode')\n",
    "plt.title('Q Learning Convergence')\n",
    "plt.show()"
   ]
  },
  {
   "cell_type": "markdown",
   "metadata": {},
   "source": [
    "#### If I set up the restriction that the agent should come back once covered all grids, not surprisingly, values in Q tables are very closed. "
   ]
  },
  {
   "cell_type": "code",
   "execution_count": 11,
   "metadata": {},
   "outputs": [
    {
     "data": {
      "text/plain": [
       "{(0, 0): {'down': 3.2447, 'left': 3.0911, 'right': 3.0166, 'up': 3.1707},\n",
       " (0, 1): {'down': 2.9295, 'left': 3.4166, 'right': 2.8918, 'up': 2.762},\n",
       " (0, 2): {'down': 2.8401, 'left': 3.4984, 'right': 2.8021, 'up': 2.7602},\n",
       " (1, 0): {'down': 3.404, 'left': 3.2616, 'right': 3.4712, 'up': 3.2663},\n",
       " (1, 1): {'down': 3.1704, 'left': 3.1376, 'right': 2.8649, 'up': 2.9078},\n",
       " (1, 2): {'down': 2.6294, 'left': 2.9895, 'right': 2.7844, 'up': 3.4796},\n",
       " (2, 0): {'down': 2.8378, 'left': 2.8, 'right': 2.892, 'up': 3.0155},\n",
       " (2, 1): {'down': 2.7655, 'left': 2.9407, 'right': 3.1993, 'up': 2.9256},\n",
       " (2, 2): {'down': 2.6275, 'left': 2.7615, 'right': 2.6621, 'up': 3.2531}}"
      ]
     },
     "execution_count": 11,
     "metadata": {},
     "output_type": "execute_result"
    }
   ],
   "source": [
    "agent.Q_values"
   ]
  },
  {
   "cell_type": "code",
   "execution_count": 12,
   "metadata": {},
   "outputs": [
    {
     "data": {
      "text/plain": [
       "10"
      ]
     },
     "execution_count": 12,
     "metadata": {},
     "output_type": "execute_result"
    }
   ],
   "source": [
    "min(agent.steps)"
   ]
  },
  {
   "cell_type": "markdown",
   "metadata": {},
   "source": [
    "### 3. Task for only coverage not getting back"
   ]
  },
  {
   "cell_type": "code",
   "execution_count": 13,
   "metadata": {},
   "outputs": [],
   "source": [
    "BOARD_ROWS = 3\n",
    "BOARD_COLS = 3\n",
    "START = (0, 0)\n",
    "# END = (0, 0)\n",
    "\n",
    "class Agent:\n",
    "    \"\"\"\n",
    "    Only coverage not get back \n",
    "    Same code except for cheking end\n",
    "    \"\"\"\n",
    "\n",
    "    def __init__(self):\n",
    "        self.actions = [\"up\", \"down\", \"left\", \"right\"]      # space\n",
    "        self.State = State()\n",
    "        self.is_end = self.State.is_end\n",
    "        self.alpha = 0.3\n",
    "        self.exp_rate = 1\n",
    "        self.decay_gamma = 0.9\n",
    "        self.Q_values = {}             # init Q values (dict)\n",
    "        for i in range(BOARD_ROWS):\n",
    "            for j in range(BOARD_COLS):\n",
    "                self.Q_values[(i, j)] = {}\n",
    "                for a in self.actions:\n",
    "                    self.Q_values[(i, j)][a] = 0\n",
    "        self.past_all = []\n",
    "        for i in range(BOARD_ROWS):\n",
    "            t = []\n",
    "            for j in range(BOARD_COLS): \n",
    "                t.append(False)\n",
    "            self.past_all.append(t)\n",
    "        self.steps = []\n",
    "    \n",
    "    def optimal_action(self):\n",
    "        max_value = -100\n",
    "        action = \"\"\n",
    "        for a in self.actions:\n",
    "            next_value = self.Q_values[self.State.state][a]\n",
    "            if next_value >= max_value:\n",
    "                action = a\n",
    "                max_value = next_value\n",
    "        return action\n",
    "    \n",
    "    def get_action(self):\n",
    "        if np.random.uniform(0, 1) <= self.exp_rate:\n",
    "            up = self.State.next_position(\"up\")\n",
    "            down = self.State.next_position(\"down\")\n",
    "            left = self.State.next_position(\"left\")\n",
    "            right = self.State.next_position(\"right\")\n",
    "            rule = [self.past_all[up[0]][up[1]] is True,\n",
    "                    self.past_all[down[0]][down[1]] is True,\n",
    "                    self.past_all[left[0]][left[1]] is True,\n",
    "                    self.past_all[right[0]][right[1]] is True ]\n",
    "            if all(rule):\n",
    "                action = np.random.choice(self.actions)\n",
    "                return action\n",
    "            else:\n",
    "                while True:\n",
    "                    action = np.random.choice(self.actions)\n",
    "                    next_state = self.State.next_position(action)\n",
    "                    if self.past_all[next_state[0]][next_state[1]] == False:\n",
    "                        return action\n",
    "                    else:\n",
    "                        continue\n",
    "        else:\n",
    "            return self.optimal_action()\n",
    "    \n",
    "    def give_reward(self):\n",
    "        reward = 0\n",
    "        if self.past_all[self.State.state[0]][self.State.state[1]] is False:\n",
    "            reward += 1\n",
    "        else:\n",
    "            reward -= .1\n",
    "        return reward\n",
    "    \n",
    "    def set_action(self, action):\n",
    "        curr_state = self.State.state\n",
    "        self.past_all[curr_state[0]][curr_state[1]] = True\n",
    "        next_state = self.State.next_position(action)  \n",
    "        self.State = State(state=next_state)\n",
    "        reward = self.give_reward()\n",
    "        if self.past_all[next_state[0]][next_state[1]] is False:\n",
    "            self.past_all[next_state[0]][next_state[1]] = True\n",
    "#         if self.State.state==START and self.check_all_past():\n",
    "#             reward += 1\n",
    "        qs_of_next_state = []\n",
    "        for q_value in self.Q_values[next_state]:  \n",
    "            qs_of_next_state.append(self.Q_values[next_state][q_value])\n",
    "        delta = self.alpha*(reward + self.decay_gamma*(max(qs_of_next_state)) -\n",
    "                            self.Q_values[curr_state][action])\n",
    "        self.Q_values[curr_state][action] = round(self.Q_values[curr_state][action]+delta, 4)\n",
    "        \n",
    "\n",
    "    def reset(self):\n",
    "        for i in range(BOARD_ROWS):\n",
    "            for j in range(BOARD_COLS):\n",
    "                self.past_all[i][j] = False\n",
    "        self.State = State()\n",
    "        self.is_end = self.State.is_end\n",
    "    \n",
    "    def check_all_past(self):\n",
    "        for i in self.past_all:\n",
    "            for j in i:\n",
    "                if j is False:\n",
    "                    return False\n",
    "        return True\n",
    "\n",
    "    def train(self, rounds=100):\n",
    "        print(\"Training...\")\n",
    "        for r in range(rounds): \n",
    "            self.reset()\n",
    "            self.exp_rate *= 0.9\n",
    "            step = 0\n",
    "            while True:\n",
    "                action = self.get_action()\n",
    "                self.set_action(action)\n",
    "                self.State.check_end()\n",
    "                self.is_end = self.State.is_end\n",
    "                step += 1\n",
    "                #if (self.is_end == True) and (self.check_all_past() == True):\n",
    "                if self.check_all_past() == True:\n",
    "                    break\n",
    "            self.steps.append(step)\n",
    "        print(\"Training finished!\")"
   ]
  },
  {
   "cell_type": "code",
   "execution_count": 14,
   "metadata": {},
   "outputs": [
    {
     "name": "stdout",
     "output_type": "stream",
     "text": [
      "Training...\n",
      "Training finished!\n"
     ]
    },
    {
     "data": {
      "image/png": "[encoded data removed]",
      "text/plain": [
       "<Figure size 432x288 with 1 Axes>"
      ]
     },
     "metadata": {},
     "output_type": "display_data"
    }
   ],
   "source": [
    "agent = Agent()\n",
    "agent.train()\n",
    "x = []\n",
    "for i in range(100):\n",
    "    x.append(i)\n",
    "y = agent.steps\n",
    "plt.plot(x,y)\n",
    "plt.ylabel('Number of Steps')\n",
    "plt.xlabel('Episode')\n",
    "plt.title('Q Learning Convergence')\n",
    "plt.show()"
   ]
  },
  {
   "cell_type": "code",
   "execution_count": 15,
   "metadata": {},
   "outputs": [
    {
     "data": {
      "text/plain": [
       "{(0, 0): {'down': 7.2934, 'left': 0.4081, 'right': 1.5354, 'up': 0.5001},\n",
       " (0, 1): {'down': 4.3425, 'left': 0.7249, 'right': 0.4561, 'up': 0.3272},\n",
       " (0, 2): {'down': 0.5331, 'left': 4.9081, 'right': 0.2365, 'up': 0.2793},\n",
       " (1, 0): {'down': 6.9928, 'left': 0.2797, 'right': 2.1414, 'up': 0.5395},\n",
       " (1, 1): {'down': 1.2388, 'left': 3.714, 'right': 1.0676, 'up': 0.9094},\n",
       " (1, 2): {'down': 0.5108, 'left': 1.3225, 'right': 0, 'up': 5.4172},\n",
       " (2, 0): {'down': 0, 'left': 0, 'right': 6.6588, 'up': 0},\n",
       " (2, 1): {'down': 0, 'left': 0.5358, 'right': 6.2877, 'up': 2.0883},\n",
       " (2, 2): {'down': 0, 'left': 0.5358, 'right': 0, 'up': 5.8754}}"
      ]
     },
     "execution_count": 15,
     "metadata": {},
     "output_type": "execute_result"
    }
   ],
   "source": [
    "agent.Q_values"
   ]
  },
  {
   "cell_type": "code",
   "execution_count": 16,
   "metadata": {},
   "outputs": [
    {
     "data": {
      "text/plain": [
       "8"
      ]
     },
     "execution_count": 16,
     "metadata": {},
     "output_type": "execute_result"
    }
   ],
   "source": [
    "min(agent.steps)"
   ]
  },
  {
   "cell_type": "markdown",
   "metadata": {},
   "source": [
    "#### Optimal  Policy"
   ]
  },
  {
   "cell_type": "code",
   "execution_count": 17,
   "metadata": {},
   "outputs": [
    {
     "name": "stdout",
     "output_type": "stream",
     "text": [
      "-----------------------\n",
      "|  down | down | left |\n",
      "-----------------------\n",
      "|  down | left | up |\n",
      "-----------------------\n",
      "|  right | right | up |\n",
      "-----------------------\n"
     ]
    }
   ],
   "source": [
    "for i in range(BOARD_ROWS):\n",
    "    print('-----------------------')\n",
    "    row_string = \"| \"\n",
    "    for j in range(BOARD_COLS):\n",
    "        best_val = -1000\n",
    "        for a in agent.Q_values[(i,j)]:\n",
    "            if agent.Q_values[(i,j)][a] > best_val:\n",
    "                best_val = agent.Q_values[(i,j)][a]\n",
    "                best_move = a            \n",
    "        row_string = row_string + \" \" + best_move + \" |\"\n",
    "    print(row_string)\n",
    "print('-----------------------')"
   ]
  }
 ],
 "metadata": {
  "kernelspec": {
   "display_name": "Python 3",
   "language": "python",
   "name": "python3"
  },
  "language_info": {
   "codemirror_mode": {
    "name": "ipython",
    "version": 3
   },
   "file_extension": ".py",
   "mimetype": "text/x-python",
   "name": "python",
   "nbconvert_exporter": "python",
   "pygments_lexer": "ipython3",
   "version": "3.6.4"
  }
 },
 "nbformat": 4,
 "nbformat_minor": 2
}
