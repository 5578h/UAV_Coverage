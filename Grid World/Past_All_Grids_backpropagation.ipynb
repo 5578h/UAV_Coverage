{
 "cells": [
  {
   "cell_type": "markdown",
   "metadata": {},
   "source": [
    "# Grid World --- past all grids (backpropagation for value updates)"
   ]
  },
  {
   "cell_type": "code",
   "execution_count": 1,
   "metadata": {},
   "outputs": [],
   "source": [
    "import numpy as np"
   ]
  },
  {
   "cell_type": "code",
   "execution_count": 2,
   "metadata": {},
   "outputs": [],
   "source": [
    "BOARD_ROWS = 3\n",
    "BOARD_COLS = 4\n",
    "START = (0, 0)\n",
    "END = (2, 3)"
   ]
  },
  {
   "cell_type": "code",
   "execution_count": 3,
   "metadata": {},
   "outputs": [],
   "source": [
    "class State:\n",
    "\n",
    "    def __init__(self, state=START):\n",
    "        self.board = np.zeros([BOARD_ROWS, BOARD_COLS])\n",
    "        self.state = state    # tuple of the coordinate\n",
    "        self.is_end = False\n",
    "\n",
    "    def check_end(self):\n",
    "        if self.state == END:\n",
    "            self.is_end = True\n",
    "\n",
    "    def next_position(self, action):\n",
    "        if action == \"up\":\n",
    "            next_state = (self.state[0] - 1, self.state[1])\n",
    "        elif action == \"down\":\n",
    "            next_state = (self.state[0] + 1, self.state[1])\n",
    "        elif action == \"left\":\n",
    "            next_state = (self.state[0], self.state[1] - 1)\n",
    "        else:\n",
    "            next_state = (self.state[0], self.state[1] + 1)\n",
    "        if (next_state[0] >= 0) and (next_state[0] < BOARD_ROWS):\n",
    "            if (next_state[1] >= 0) and (next_state[1] < BOARD_COLS):\n",
    "                return next_state\n",
    "        return self.state"
   ]
  },
  {
   "cell_type": "code",
   "execution_count": 4,
   "metadata": {},
   "outputs": [],
   "source": [
    "class Agent:\n",
    "\n",
    "    def __init__(self):\n",
    "        self.actions = [\"up\", \"down\", \"left\", \"right\"]      # space\n",
    "        self.State = State()\n",
    "        self.is_end = self.State.is_end\n",
    "        self.alpha = 0.3\n",
    "        self.exp_rate = 1\n",
    "        self.decay_gamma = 0.9\n",
    "        self.Q_values = {}             # init Q values (dict)\n",
    "        for i in range(BOARD_ROWS):\n",
    "            for j in range(BOARD_COLS):\n",
    "                self.Q_values[(i, j)] = {}\n",
    "                for a in self.actions:\n",
    "                    self.Q_values[(i, j)][a] = 0\n",
    "        self.past_all = []\n",
    "        for i in range(BOARD_ROWS):\n",
    "            t = []\n",
    "            for j in range(BOARD_COLS): \n",
    "                t.append(False)\n",
    "            self.past_all.append(t)\n",
    "        \n",
    "        self.steps = []\n",
    "        self.states = []\n",
    "    \n",
    "    def optimal_action(self):\n",
    "        max_value = -100\n",
    "        action = \"\"\n",
    "        for a in self.actions:\n",
    "            next_value = self.Q_values[self.State.state][a]\n",
    "            if next_value >= max_value:\n",
    "                action = a\n",
    "                max_value = next_value\n",
    "        return action\n",
    "    \n",
    "    def get_action(self):\n",
    "        if np.random.uniform(0, 1) <= self.exp_rate:\n",
    "            action = np.random.choice(self.actions)\n",
    "        else:\n",
    "            action = self.optimal_action()\n",
    "        return action\n",
    "    \n",
    "    def set_action(self, action):\n",
    "        position = self.State.next_position(action)\n",
    "        return State(state=position)\n",
    "        \n",
    "\n",
    "    def reset(self):\n",
    "        for i in range(BOARD_ROWS):\n",
    "            for j in range(BOARD_COLS):\n",
    "                self.past_all[i][j] = False\n",
    "        self.State = State()\n",
    "        self.is_end = self.State.is_end\n",
    "        self.states = []\n",
    "    \n",
    "    def check_all_past(self):\n",
    "        for i in self.past_all:\n",
    "            for j in i:\n",
    "                if j is False:\n",
    "                    return False\n",
    "        return True\n",
    "\n",
    "    def train(self, rounds=2000):\n",
    "        print(\"Training...\")\n",
    "        i = 1\n",
    "        while i <= rounds:\n",
    "            if self.is_end and self.check_all_past():\n",
    "                reward = 1\n",
    "                for a in self.actions:\n",
    "                    self.Q_values[self.State.state][a] = reward\n",
    "                for s in reversed(self.states):\n",
    "                    current_q_value = self.Q_values[s[0]][s[1]]\n",
    "                    reward = current_q_value + self.alpha * (self.decay_gamma*reward - current_q_value)\n",
    "                    self.Q_values[s[0]][s[1]] = round(reward,4)\n",
    "                i += 1\n",
    "                self.steps.append(len(self.states))\n",
    "                self.reset()\n",
    "            else:\n",
    "                curr_state = self.State.state\n",
    "                self.past_all[curr_state[0]][curr_state[1]] = True\n",
    "                action = self.get_action()\n",
    "                self.states.append([(self.State.state), action])\n",
    "                self.State = self.set_action(action)\n",
    "                if self.past_all[self.State.state[0]][self.State.state[1]] is False:\n",
    "                    self.past_all[self.State.state[0]][self.State.state[1]] = True\n",
    "                self.State.check_end()  \n",
    "                self.is_end = self.State.is_end\n",
    "#                 if self.is_end and self.check_all_past():\n",
    "#                     for a in self.actions:\n",
    "#                         self.Q_values[self.State.state][a] = 1\n",
    "#                 self.exp_rate *= 0.9\n",
    "        print(\"Training finished!\")"
   ]
  },
  {
   "cell_type": "code",
   "execution_count": 5,
   "metadata": {
    "scrolled": false
   },
   "outputs": [
    {
     "name": "stdout",
     "output_type": "stream",
     "text": [
      "Training...\n",
      "Training finished!\n"
     ]
    }
   ],
   "source": [
    "agent = Agent()\n",
    "agent.train()"
   ]
  },
  {
   "cell_type": "code",
   "execution_count": 6,
   "metadata": {},
   "outputs": [
    {
     "data": {
      "text/plain": [
       "{(0, 0): {'down': 0.0765, 'left': 0.0798, 'right': 0.0906, 'up': 0.0783},\n",
       " (0, 1): {'down': 0.0982, 'left': 0.0804, 'right': 0.1004, 'up': 0.0791},\n",
       " (0, 2): {'down': 0.15, 'left': 0.0882, 'right': 0.1401, 'up': 0.1426},\n",
       " (0, 3): {'down': 0.1563, 'left': 0.1265, 'right': 0.1409, 'up': 0.147},\n",
       " (1, 0): {'down': 0.1012, 'left': 0.0768, 'right': 0.0975, 'up': 0.0785},\n",
       " (1, 1): {'down': 0.1244, 'left': 0.0914, 'right': 0.1351, 'up': 0.084},\n",
       " (1, 2): {'down': 0.4242, 'left': 0.1267, 'right': 0.2667, 'up': 0.1251},\n",
       " (1, 3): {'down': 0.762, 'left': 0.2161, 'right': 0.1389, 'up': 0.1373},\n",
       " (2, 0): {'down': 0.1277, 'left': 0.0901, 'right': 0.1779, 'up': 0.0853},\n",
       " (2, 1): {'down': 0.147, 'left': 0.1033, 'right': 0.2167, 'up': 0.1291},\n",
       " (2, 2): {'down': 0.3314, 'left': 0.1556, 'right': 0.7561, 'up': 0.1284},\n",
       " (2, 3): {'down': 1, 'left': 1, 'right': 1, 'up': 1}}"
      ]
     },
     "execution_count": 6,
     "metadata": {},
     "output_type": "execute_result"
    }
   ],
   "source": [
    "agent.Q_values"
   ]
  }
 ],
 "metadata": {
  "kernelspec": {
   "display_name": "Python 3",
   "language": "python",
   "name": "python3"
  },
  "language_info": {
   "codemirror_mode": {
    "name": "ipython",
    "version": 3
   },
   "file_extension": ".py",
   "mimetype": "text/x-python",
   "name": "python",
   "nbconvert_exporter": "python",
   "pygments_lexer": "ipython3",
   "version": "3.6.4"
  }
 },
 "nbformat": 4,
 "nbformat_minor": 2
}
