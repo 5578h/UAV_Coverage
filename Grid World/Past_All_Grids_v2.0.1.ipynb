{
 "cells": [
  {
   "cell_type": "markdown",
   "metadata": {},
   "source": [
    "# Grid World --- past all grids (initial point: random state)\n",
    "##### Charles Zhang\n",
    "##### Jun 30"
   ]
  },
  {
   "cell_type": "markdown",
   "metadata": {},
   "source": [
    "###  4x5 Grid World"
   ]
  },
  {
   "cell_type": "code",
   "execution_count": 1,
   "metadata": {},
   "outputs": [],
   "source": [
    "import numpy as np\n",
    "import datetime"
   ]
  },
  {
   "cell_type": "code",
   "execution_count": 2,
   "metadata": {},
   "outputs": [],
   "source": [
    "BOARD_ROWS = 4\n",
    "BOARD_COLS = 5\n",
    "START = (0, 0)\n",
    "END = (0, 0)"
   ]
  },
  {
   "cell_type": "code",
   "execution_count": 3,
   "metadata": {},
   "outputs": [],
   "source": [
    "class State:\n",
    "\n",
    "    def __init__(self, state=START):\n",
    "        self.board = np.zeros([BOARD_ROWS, BOARD_COLS])\n",
    "        self.state = state    # tuple of the coordinate\n",
    "        self.is_end = False\n",
    "\n",
    "    def check_end(self):\n",
    "        if self.state == END:\n",
    "            self.is_end = True\n",
    "\n",
    "    def next_position(self, action):\n",
    "        if action == \"up\":\n",
    "            next_state = (self.state[0] - 1, self.state[1])\n",
    "        elif action == \"down\":\n",
    "            next_state = (self.state[0] + 1, self.state[1])\n",
    "        elif action == \"left\":\n",
    "            next_state = (self.state[0], self.state[1] - 1)\n",
    "        else:\n",
    "            next_state = (self.state[0], self.state[1] + 1)\n",
    "        # boundary condition \n",
    "        if (next_state[0] >= 0) and (next_state[0] < BOARD_ROWS):\n",
    "            if (next_state[1] >= 0) and (next_state[1] < BOARD_COLS):\n",
    "                return next_state\n",
    "        return self.state"
   ]
  },
  {
   "cell_type": "code",
   "execution_count": 4,
   "metadata": {},
   "outputs": [],
   "source": [
    "class Agent:\n",
    "\n",
    "    def __init__(self):\n",
    "        self.actions = [\"up\", \"down\", \"left\", \"right\"]      # space\n",
    "        self.State = State()\n",
    "        self.is_end = self.State.is_end\n",
    "        self.alpha = 0.1      # learning rate\n",
    "        self.exp_rate = 0.95     # epsilon-greedy parameter\n",
    "        self.decay_gamma = 0.9\n",
    "        self.Q_values = {}             # init Q table (dict)\n",
    "        for i in range(BOARD_ROWS):    \n",
    "            for j in range(BOARD_COLS):\n",
    "                self.Q_values[(i, j)] = {}\n",
    "                for a in self.actions:\n",
    "                    self.Q_values[(i, j)][a] = 0\n",
    "        # init a list to check if each grid is past          \n",
    "        self.past_all = np.zeros((BOARD_ROWS, BOARD_COLS), dtype=bool).tolist()\n",
    "        self.steps = []         # store the steps for each episode \n",
    "    \n",
    "    def optimal_action(self):\n",
    "        # greedy move\n",
    "        max_value = -10000\n",
    "        action = \"\"\n",
    "        for a in self.actions:\n",
    "            next_value = self.Q_values[self.State.state][a]\n",
    "            if next_value >= max_value:\n",
    "                action = a\n",
    "                max_value = next_value\n",
    "        return action\n",
    "    \n",
    "    def get_action(self):\n",
    "        \"\"\"\n",
    "        The agent should choose randomly among the positions that have\n",
    "        not been visited, and if all possible positions are visited, \n",
    "        then move randomly and receive a negative reward\n",
    "        \"\"\"\n",
    "        if np.random.uniform(0, 1) <= self.exp_rate:\n",
    "            t = []\n",
    "            for a in self.actions:\n",
    "                p = self.State.next_position(a)\n",
    "                if self.past_all[p[0]][p[1]] is True:\n",
    "                    t.append(1)\n",
    "                else:\n",
    "                    t.append(0)\n",
    "            if sum(t) == len(t):\n",
    "                return np.random.choice(self.actions)\n",
    "            # Else try to get an available unvisited position randomly\n",
    "            else:\n",
    "                while True:\n",
    "                    action = np.random.choice(self.actions)\n",
    "                    next_state = self.State.next_position(action)\n",
    "                    if self.past_all[next_state[0]][next_state[1]] is False:\n",
    "                        return action\n",
    "                    else:\n",
    "                        continue\n",
    "        else:\n",
    "            return self.optimal_action()\n",
    "    \n",
    "    def give_reward(self):\n",
    "        \"\"\"\n",
    "        + 1 reward for visiting the unvisited grid\n",
    "        -.1 reward for visiting the visited grid\n",
    "        \"\"\"\n",
    "        reward = 0\n",
    "#         if self.State.state==END:\n",
    "#             reward += 1\n",
    "        if self.past_all[self.State.state[0]][self.State.state[1]] is False:\n",
    "            reward += 1\n",
    "        else:\n",
    "            reward -= .1\n",
    "        return reward\n",
    "    \n",
    "    def set_action(self, action):\n",
    "        # set current stat past\n",
    "        curr_state = self.State.state\n",
    "        self.past_all[curr_state[0]][curr_state[1]] = True\n",
    "        # get the next state\n",
    "        next_state = self.State.next_position(action)  \n",
    "        self.State = State(state=next_state)\n",
    "        reward = self.give_reward()\n",
    "        # set the next state past\n",
    "        if self.past_all[next_state[0]][next_state[1]] is False:\n",
    "            self.past_all[next_state[0]][next_state[1]] = True\n",
    "        # give the global reward if finish an epsiode\n",
    "        if self.State.state==END and self.check_all_past():\n",
    "            reward += 1\n",
    "        # update the Q table\n",
    "        qs_of_next_state = []\n",
    "        for q_value in self.Q_values[next_state]:  \n",
    "            qs_of_next_state.append(self.Q_values[next_state][q_value])\n",
    "        delta = self.alpha*(reward + self.decay_gamma*(max(qs_of_next_state)) -\n",
    "                            self.Q_values[curr_state][action])\n",
    "        self.Q_values[curr_state][action] = round(self.Q_values[curr_state][action]+delta, 4)\n",
    "\n",
    "    def reset(self):\n",
    "        for i in range(BOARD_ROWS):\n",
    "            for j in range(BOARD_COLS):\n",
    "                self.past_all[i][j] = False\n",
    "        \"\"\"\n",
    "        initialize the random start point\n",
    "        \"\"\"\n",
    "#         i = np.random.randint(BOARD_ROWS)\n",
    "#         j = np.random.randint(BOARD_COLS)\n",
    "        self.State = State(state=(0,0))\n",
    "        self.is_end = self.State.is_end\n",
    "    \n",
    "    def check_all_past(self):\n",
    "        for i in self.past_all:\n",
    "            for j in i:\n",
    "                if j is False:\n",
    "                    return False\n",
    "        return True\n",
    "    \n",
    "    def show_path(self):\n",
    "        for i in range(BOARD_ROWS):\n",
    "            print('---------------------------------------')\n",
    "            row_string = \"| \"\n",
    "            for j in range(BOARD_COLS):\n",
    "                best_move = \"\"\n",
    "                best_val = -1000\n",
    "                for a in self.Q_values[(i,j)]:\n",
    "                    if self.Q_values[(i,j)][a] > best_val:\n",
    "                        best_val = self.Q_values[(i,j)][a]\n",
    "                        best_move = a            \n",
    "                row_string = row_string + \" \" + best_move + \" |\"\n",
    "            print(row_string)\n",
    "        print('---------------------------------------')\n",
    "        \n",
    "    def show_convergence(self, rounds=1000):\n",
    "        import matplotlib.pyplot as plt\n",
    "        from scipy.ndimage.filters import gaussian_filter1d\n",
    "        %matplotlib inline\n",
    "        x = []\n",
    "        for i in range(rounds):\n",
    "            x.append(i)\n",
    "        y = self.steps\n",
    "        ysmoothed = gaussian_filter1d(y, sigma=2)\n",
    "        # plt.plot(x,y)\n",
    "        plt.plot(x, ysmoothed)\n",
    "        plt.ylabel('Number of Steps')\n",
    "        plt.xlabel('Episode')\n",
    "        plt.title('Q Learning Convergence(Smoothed)')\n",
    "        plt.show()\n",
    "\n",
    "    def train(self, rounds=1000):\n",
    "        print(\"Training...\")\n",
    "        for r in range(rounds):\n",
    "            t = str(round(r/(rounds/10)*10)) + '%|'\n",
    "            for i in range(int(r/(rounds/10))):\n",
    "                t += '='\n",
    "            for i in range(int(10-r/(rounds/10))+1):\n",
    "                t += ' '\n",
    "            print(t+'|100%', end=\"\\r\")          \n",
    "            self.reset()\n",
    "            self.exp_rate *= 0.99  # decaying epsilon-greedy\n",
    "            #self.alpha *= 1.01\n",
    "            step = 0\n",
    "            while True:\n",
    "                action = self.get_action()\n",
    "                self.set_action(action)\n",
    "                self.State.check_end()\n",
    "                self.is_end = self.State.is_end\n",
    "                step += 1\n",
    "#                 if self.is_end:\n",
    "#                     break\n",
    "                if self.is_end and self.check_all_past():\n",
    "                    break\n",
    "                if step > 5000:\n",
    "                    break\n",
    "            self.steps.append(step)\n",
    "        print('100%|==========|100%')\n",
    "        print(\"Training finished!\")"
   ]
  },
  {
   "cell_type": "code",
   "execution_count": 5,
   "metadata": {
    "scrolled": false
   },
   "outputs": [
    {
     "name": "stdout",
     "output_type": "stream",
     "text": [
      "Training...\n",
      "100%|==========|100%\n",
      "Training finished!\n",
      "{(0, 0): {'up': 1.1704, 'down': 0.8664, 'left': 1.4689, 'right': 9.7842}, (0, 1): {'up': 0.9873, 'down': 2.5154, 'left': 0.8166, 'right': 9.7821}, (0, 2): {'up': 0.6756, 'down': 2.0835, 'left': 0.6797, 'right': 9.7802}, (0, 3): {'up': 0.6473, 'down': 2.0937, 'left': 0.6552, 'right': 9.7787}, (0, 4): {'up': 0.6373, 'down': 9.7778, 'left': 0.6387, 'right': 0.6386}, (1, 0): {'up': 9.6883, 'down': 1.5343, 'left': 1.4488, 'right': 0.6766}, (1, 1): {'up': 1.0467, 'down': 0.6888, 'left': 9.7004, 'right': 0.7873}, (1, 2): {'up': 0.6577, 'down': 9.76, 'left': 2.6536, 'right': 0.6412}, (1, 3): {'up': 0.8027, 'down': 1.1299, 'left': 9.7653, 'right': 0.6036}, (1, 4): {'up': 0.6075, 'down': 9.7771, 'left': 2.0664, 'right': 0.6062}, (2, 0): {'up': 2.15, 'down': 0.6453, 'left': 1.2263, 'right': 9.7212}, (2, 1): {'up': 9.7113, 'down': 0.6565, 'left': 0.774, 'right': 0.661}, (2, 2): {'up': 0.6416, 'down': 9.7536, 'left': 2.0854, 'right': 0.6415}, (2, 3): {'up': 9.7695, 'down': 0.6265, 'left': 2.3675, 'right': 0.6655}, (2, 4): {'up': 0.6027, 'down': 9.7762, 'left': 1.2148, 'right': 0.6229}, (3, 0): {'up': 9.7302, 'down': 0.6244, 'left': 0.616, 'right': 0.6625}, (3, 1): {'up': 1.5114, 'down': 0.6256, 'left': 9.7387, 'right': 0.6355}, (3, 2): {'up': 0.6114, 'down': 0.6059, 'left': 9.7465, 'right': 0.6103}, (3, 3): {'up': 9.7727, 'down': 0.6077, 'left': 2.3365, 'right': 0.6095}, (3, 4): {'up': 0.7582, 'down': 0.5523, 'left': 9.7749, 'right': 0.558}}\n"
     ]
    }
   ],
   "source": [
    "agent = Agent()\n",
    "start_time = datetime.datetime.now()\n",
    "agent.train(rounds=700)\n",
    "end_time = datetime.datetime.now()\n",
    "time_period = (end_time - start_time).total_seconds()\n",
    "print(agent.Q_values)"
   ]
  },
  {
   "cell_type": "code",
   "execution_count": 6,
   "metadata": {},
   "outputs": [
    {
     "name": "stdout",
     "output_type": "stream",
     "text": [
      "Running time:  1.001366\n"
     ]
    }
   ],
   "source": [
    "print(\"Running time: \", time_period)"
   ]
  },
  {
   "cell_type": "code",
   "execution_count": 7,
   "metadata": {
    "scrolled": true
   },
   "outputs": [
    {
     "data": {
      "image/png": "[encoded data removed]",
      "text/plain": [
       "<Figure size 432x288 with 1 Axes>"
      ]
     },
     "metadata": {},
     "output_type": "display_data"
    }
   ],
   "source": [
    "agent.show_convergence(rounds=700)"
   ]
  },
  {
   "cell_type": "code",
   "execution_count": 8,
   "metadata": {},
   "outputs": [
    {
     "data": {
      "text/plain": [
       "20"
      ]
     },
     "execution_count": 8,
     "metadata": {},
     "output_type": "execute_result"
    }
   ],
   "source": [
    "min(agent.steps)"
   ]
  },
  {
   "cell_type": "markdown",
   "metadata": {},
   "source": [
    "#### Optimal Policy"
   ]
  },
  {
   "cell_type": "code",
   "execution_count": 9,
   "metadata": {},
   "outputs": [
    {
     "name": "stdout",
     "output_type": "stream",
     "text": [
      "---------------------------------------\n",
      "|  right | right | right | right | down |\n",
      "---------------------------------------\n",
      "|  up | left | down | left | down |\n",
      "---------------------------------------\n",
      "|  right | up | down | up | down |\n",
      "---------------------------------------\n",
      "|  up | left | left | up | left |\n",
      "---------------------------------------\n"
     ]
    }
   ],
   "source": [
    "agent.show_path()"
   ]
  }
 ],
 "metadata": {
  "kernelspec": {
   "display_name": "Python 3",
   "language": "python",
   "name": "python3"
  },
  "language_info": {
   "codemirror_mode": {
    "name": "ipython",
    "version": 3
   },
   "file_extension": ".py",
   "mimetype": "text/x-python",
   "name": "python",
   "nbconvert_exporter": "python",
   "pygments_lexer": "ipython3",
   "version": "3.8.3"
  }
 },
 "nbformat": 4,
 "nbformat_minor": 2
}
