{
 "cells": [
  {
   "cell_type": "markdown",
   "metadata": {},
   "source": [
    "# Grid World --- past all grids (initial point: random state)\n",
    "##### Charles Zhang\n",
    "##### Jun 30"
   ]
  },
  {
   "cell_type": "markdown",
   "metadata": {},
   "source": [
    "###  4x5 Grid World"
   ]
  },
  {
   "cell_type": "code",
   "execution_count": 1,
   "metadata": {},
   "outputs": [],
   "source": [
    "import numpy as np\n",
    "import datetime"
   ]
  },
  {
   "cell_type": "code",
   "execution_count": 2,
   "metadata": {},
   "outputs": [],
   "source": [
    "BOARD_ROWS = 4\n",
    "BOARD_COLS = 5\n",
    "START = (0, 0)\n",
    "END = (0, 0)"
   ]
  },
  {
   "cell_type": "code",
   "execution_count": 3,
   "metadata": {},
   "outputs": [],
   "source": [
    "class State:\n",
    "\n",
    "    def __init__(self, state=START):\n",
    "        self.board = np.zeros([BOARD_ROWS, BOARD_COLS])\n",
    "        self.state = state    # tuple of the coordinate\n",
    "        self.is_end = False\n",
    "\n",
    "    def check_end(self):\n",
    "        if self.state == END:\n",
    "            self.is_end = True\n",
    "\n",
    "    def next_position(self, action):\n",
    "        if action == \"up\":\n",
    "            next_state = (self.state[0] - 1, self.state[1])\n",
    "        elif action == \"down\":\n",
    "            next_state = (self.state[0] + 1, self.state[1])\n",
    "        elif action == \"left\":\n",
    "            next_state = (self.state[0], self.state[1] - 1)\n",
    "        else:\n",
    "            next_state = (self.state[0], self.state[1] + 1)\n",
    "        # boundary condition \n",
    "        if (next_state[0] >= 0) and (next_state[0] < BOARD_ROWS):\n",
    "            if (next_state[1] >= 0) and (next_state[1] < BOARD_COLS):\n",
    "                return next_state\n",
    "        return self.state"
   ]
  },
  {
   "cell_type": "code",
   "execution_count": 4,
   "metadata": {},
   "outputs": [],
   "source": [
    "class Agent:\n",
    "\n",
    "    def __init__(self):\n",
    "        self.actions = [\"up\", \"down\", \"left\", \"right\"]      # space\n",
    "        self.State = State()\n",
    "        self.is_end = self.State.is_end\n",
    "        self.alpha = 0.1      # learning rate\n",
    "        self.exp_rate = 0.95     # epsilon-greedy parameter\n",
    "        self.decay_gamma = 0.9\n",
    "        self.Q_values = {}             # init Q table (dict)\n",
    "        for i in range(BOARD_ROWS):    \n",
    "            for j in range(BOARD_COLS):\n",
    "                self.Q_values[(i, j)] = {}\n",
    "                for a in self.actions:\n",
    "                    self.Q_values[(i, j)][a] = 0\n",
    "        # init a list to check if each grid is past          \n",
    "        self.past_all = np.zeros((BOARD_ROWS, BOARD_COLS), dtype=bool).tolist()\n",
    "        self.steps = []         # store the steps for each episode \n",
    "    \n",
    "    def optimal_action(self):\n",
    "        # greedy move\n",
    "        max_value = -10000\n",
    "        action = \"\"\n",
    "        for a in self.actions:\n",
    "            next_value = self.Q_values[self.State.state][a]\n",
    "            if next_value >= max_value:\n",
    "                action = a\n",
    "                max_value = next_value\n",
    "        return action\n",
    "    \n",
    "    def get_action(self):\n",
    "        \"\"\"\n",
    "        The agent should choose randomly among the positions that have\n",
    "        not been visited, and if all possible positions are visited, \n",
    "        then move randomly and receive a negative reward\n",
    "        \"\"\"\n",
    "        if np.random.uniform(0, 1) <= self.exp_rate:\n",
    "            t = []\n",
    "            for a in self.actions:\n",
    "                p = self.State.next_position(a)\n",
    "                if self.past_all[p[0]][p[1]] is True:\n",
    "                    t.append(1)\n",
    "                else:\n",
    "                    t.append(0)\n",
    "            if sum(t) == len(t):\n",
    "                return np.random.choice(self.actions)\n",
    "            # Else try to get an available unvisited position randomly\n",
    "            else:\n",
    "                while True:\n",
    "                    action = np.random.choice(self.actions)\n",
    "                    next_state = self.State.next_position(action)\n",
    "                    if self.past_all[next_state[0]][next_state[1]] is False:\n",
    "                        return action\n",
    "                    else:\n",
    "                        continue\n",
    "        else:\n",
    "            return self.optimal_action()\n",
    "    \n",
    "    def give_reward(self):\n",
    "        \"\"\"\n",
    "        + 1 reward for visiting the unvisited grid\n",
    "        -.1 reward for visiting the visited grid\n",
    "        \"\"\"\n",
    "        reward = 0\n",
    "#         if self.State.state==END:\n",
    "#             reward += 1\n",
    "        if self.past_all[self.State.state[0]][self.State.state[1]] is False:\n",
    "            reward += 1\n",
    "        else:\n",
    "            reward -= .1\n",
    "        return reward\n",
    "    \n",
    "    def set_action(self, action):\n",
    "        # set current stat past\n",
    "        curr_state = self.State.state\n",
    "        self.past_all[curr_state[0]][curr_state[1]] = True\n",
    "        # get the next state\n",
    "        next_state = self.State.next_position(action)  \n",
    "        self.State = State(state=next_state)\n",
    "        reward = self.give_reward()\n",
    "        # set the next state past\n",
    "        if self.past_all[next_state[0]][next_state[1]] is False:\n",
    "            self.past_all[next_state[0]][next_state[1]] = True\n",
    "        # give the global reward if finish an epsiode\n",
    "        if self.State.state==END and self.check_all_past():\n",
    "            reward += 1\n",
    "        # update the Q table\n",
    "        qs_of_next_state = []\n",
    "        for q_value in self.Q_values[next_state]:  \n",
    "            qs_of_next_state.append(self.Q_values[next_state][q_value])\n",
    "        delta = self.alpha*(reward + self.decay_gamma*(max(qs_of_next_state)) -\n",
    "                            self.Q_values[curr_state][action])\n",
    "        self.Q_values[curr_state][action] = round(self.Q_values[curr_state][action]+delta, 4)\n",
    "\n",
    "    def reset(self):\n",
    "        for i in range(BOARD_ROWS):\n",
    "            for j in range(BOARD_COLS):\n",
    "                self.past_all[i][j] = False\n",
    "        \"\"\"\n",
    "        initialize the random start point\n",
    "        \"\"\"\n",
    "        i = np.random.randint(BOARD_ROWS)\n",
    "        j = np.random.randint(BOARD_COLS)\n",
    "        self.State = State(state=(i,j))\n",
    "        self.is_end = self.State.is_end\n",
    "    \n",
    "    def check_all_past(self):\n",
    "        for i in self.past_all:\n",
    "            for j in i:\n",
    "                if j is False:\n",
    "                    return False\n",
    "        return True\n",
    "    \n",
    "    def show_path(self):\n",
    "        for i in range(BOARD_ROWS):\n",
    "            print('---------------------------------------')\n",
    "            row_string = \"| \"\n",
    "            for j in range(BOARD_COLS):\n",
    "                best_move = \"\"\n",
    "                best_val = -1000\n",
    "                for a in self.Q_values[(i,j)]:\n",
    "                    if self.Q_values[(i,j)][a] > best_val:\n",
    "                        best_val = self.Q_values[(i,j)][a]\n",
    "                        best_move = a            \n",
    "                row_string = row_string + \" \" + best_move + \" |\"\n",
    "            print(row_string)\n",
    "        print('---------------------------------------')\n",
    "        \n",
    "    def show_convergence(self, rounds=1000):\n",
    "        import matplotlib.pyplot as plt\n",
    "        %matplotlib inline\n",
    "        x = []\n",
    "        for i in range(rounds):\n",
    "            x.append(i)\n",
    "        y = self.steps\n",
    "        plt.plot(x,y)\n",
    "        plt.ylabel('Number of Steps')\n",
    "        plt.xlabel('Episode')\n",
    "        plt.title('Q Learning Convergence')\n",
    "        plt.show()\n",
    "\n",
    "    def train(self, rounds=1000):\n",
    "        print(\"Training...\")\n",
    "        for r in range(rounds):\n",
    "            t = str(round(r/(rounds/10)*10)) + '%|'\n",
    "            for i in range(int(r/(rounds/10))):\n",
    "                t += '='\n",
    "            for i in range(int(10-r/(rounds/10))+1):\n",
    "                t += ' '\n",
    "            print(t+'|100%', end=\"\\r\")          \n",
    "            self.reset()\n",
    "            self.exp_rate *= 0.99  # decaying epsilon-greedy\n",
    "            #self.alpha *= 1.01\n",
    "            step = 0\n",
    "            while True:\n",
    "                action = self.get_action()\n",
    "                self.set_action(action)\n",
    "                self.State.check_end()\n",
    "                self.is_end = self.State.is_end\n",
    "                step += 1\n",
    "#                 if self.is_end:\n",
    "#                     break\n",
    "                if self.is_end and self.check_all_past():\n",
    "                    break\n",
    "                if step > 5000:\n",
    "                    break\n",
    "            self.steps.append(step)\n",
    "        print('100%|==========|100%')\n",
    "        print(\"Training finished!\")"
   ]
  },
  {
   "cell_type": "code",
   "execution_count": 5,
   "metadata": {
    "scrolled": false
   },
   "outputs": [
    {
     "name": "stdout",
     "output_type": "stream",
     "text": [
      "Training...\n",
      "100%|==========|100%\n",
      "Training finished!\n",
      "{(0, 0): {'up': -0.0727, 'down': -0.0653, 'left': -0.0645, 'right': 7.7308}, (0, 1): {'up': 0.4191, 'down': 1.5982, 'left': -0.0541, 'right': 7.4575}, (0, 2): {'up': -0.0662, 'down': 7.1373, 'left': -0.0534, 'right': 0.444}, (0, 3): {'up': -0.073, 'down': -0.0742, 'left': -0.0643, 'right': 6.3969}, (0, 4): {'up': -0.1049, 'down': 6.4073, 'left': -0.0997, 'right': 0.4202}, (1, 0): {'up': 7.9059, 'down': -0.0445, 'left': -0.0512, 'right': 0.685}, (1, 1): {'up': -0.0431, 'down': 6.6272, 'left': -0.0722, 'right': -0.0613}, (1, 2): {'up': -0.0698, 'down': 0.7492, 'left': 6.7449, 'right': -0.0802}, (1, 3): {'up': 6.3943, 'down': -0.0723, 'left': -0.0788, 'right': 0.978}, (1, 4): {'up': 0.2404, 'down': 6.4162, 'left': 0.4825, 'right': -0.0892}, (2, 0): {'up': 7.5697, 'down': 0.3267, 'left': -0.0462, 'right': 0.4367}, (2, 1): {'up': 0.3639, 'down': 0.9284, 'left': -0.0552, 'right': 6.5548}, (2, 2): {'up': -0.068, 'down': 0.6167, 'left': -0.0647, 'right': 6.4858}, (2, 3): {'up': 6.4241, 'down': 0.5061, 'left': -0.0846, 'right': 0.0191}, (2, 4): {'up': -0.0975, 'down': 6.4392, 'left': -0.0953, 'right': 0.3178}, (3, 0): {'up': 7.281, 'down': 0.9445, 'left': 0.1366, 'right': -0.1084}, (3, 1): {'up': 0.4903, 'down': 0.5095, 'left': 7.0419, 'right': 0.2298}, (3, 2): {'up': -0.0765, 'down': 0.2266, 'left': 6.8181, 'right': -0.081}, (3, 3): {'up': 0.1492, 'down': -0.0996, 'left': 6.695, 'right': -0.1079}, (3, 4): {'up': -0.1105, 'down': -0.1179, 'left': 6.5787, 'right': 0.2114}}\n"
     ]
    }
   ],
   "source": [
    "agent = Agent()\n",
    "start_time = datetime.datetime.now()\n",
    "agent.train(rounds=650)\n",
    "end_time = datetime.datetime.now()\n",
    "time_period = (end_time - start_time).total_seconds()\n",
    "print(agent.Q_values)"
   ]
  },
  {
   "cell_type": "code",
   "execution_count": 6,
   "metadata": {},
   "outputs": [
    {
     "name": "stdout",
     "output_type": "stream",
     "text": [
      "Running time:  1.325468\n"
     ]
    }
   ],
   "source": [
    "print(\"Running time: \", time_period)"
   ]
  },
  {
   "cell_type": "code",
   "execution_count": 7,
   "metadata": {
    "scrolled": true
   },
   "outputs": [
    {
     "data": {
      "image/png": "[encoded data removed]",
      "text/plain": [
       "<Figure size 432x288 with 1 Axes>"
      ]
     },
     "metadata": {},
     "output_type": "display_data"
    }
   ],
   "source": [
    "agent.show_convergence(rounds=650)"
   ]
  },
  {
   "cell_type": "code",
   "execution_count": 8,
   "metadata": {},
   "outputs": [
    {
     "data": {
      "text/plain": [
       "19"
      ]
     },
     "execution_count": 8,
     "metadata": {},
     "output_type": "execute_result"
    }
   ],
   "source": [
    "min(agent.steps)"
   ]
  },
  {
   "cell_type": "markdown",
   "metadata": {},
   "source": [
    "#### Optimal Policy"
   ]
  },
  {
   "cell_type": "code",
   "execution_count": 9,
   "metadata": {},
   "outputs": [
    {
     "name": "stdout",
     "output_type": "stream",
     "text": [
      "---------------------------------------\n",
      "|  right | right | down | right | down |\n",
      "---------------------------------------\n",
      "|  up | down | left | up | down |\n",
      "---------------------------------------\n",
      "|  up | right | right | up | down |\n",
      "---------------------------------------\n",
      "|  up | left | left | left | left |\n",
      "---------------------------------------\n"
     ]
    }
   ],
   "source": [
    "agent.show_path()"
   ]
  },
  {
   "cell_type": "markdown",
   "metadata": {},
   "source": [
    "## 5x6 Grid World"
   ]
  },
  {
   "cell_type": "code",
   "execution_count": 10,
   "metadata": {},
   "outputs": [],
   "source": [
    "BOARD_ROWS = 5\n",
    "BOARD_COLS = 6"
   ]
  },
  {
   "cell_type": "code",
   "execution_count": 11,
   "metadata": {},
   "outputs": [
    {
     "name": "stdout",
     "output_type": "stream",
     "text": [
      "Training...\n",
      "100%|==========|100%\n",
      "Training finished!\n",
      "{(0, 0): {'up': 0.1468, 'down': 0.4273, 'left': 0.145, 'right': 7.6719}, (0, 1): {'up': 0.1442, 'down': 0.5585, 'left': 0.6314, 'right': 7.2867}, (0, 2): {'up': 0.1547, 'down': 0.3419, 'left': 0.1441, 'right': 7.0277}, (0, 3): {'up': 0.1746, 'down': 1.1098, 'left': 0.1694, 'right': 6.8455}, (0, 4): {'up': 0.1528, 'down': 1.2745, 'left': 0.4253, 'right': 6.6555}, (0, 5): {'up': 0.119, 'down': 6.5072, 'left': 0.5152, 'right': 0.1137}, (1, 0): {'up': 7.8885, 'down': 1.1971, 'left': 0.3187, 'right': 0.9875}, (1, 1): {'up': 1.6831, 'down': 7.1104, 'left': 1.7104, 'right': 0.3368}, (1, 2): {'up': 2.4631, 'down': 0.4262, 'left': 6.9237, 'right': 1.7923}, (1, 3): {'up': 1.4751, 'down': 6.5308, 'left': 0.3772, 'right': 0.7072}, (1, 4): {'up': 0.345, 'down': 0.5401, 'left': 6.3953, 'right': 1.7753}, (1, 5): {'up': 0.1922, 'down': 6.4209, 'left': 0.9956, 'right': 0.7008}, (2, 0): {'up': 7.6043, 'down': 1.6357, 'left': 1.5042, 'right': 0.6912}, (2, 1): {'up': 0.194, 'down': 0.1957, 'left': 7.3682, 'right': 1.0422}, (2, 2): {'up': 6.7923, 'down': 0.7341, 'left': 2.1712, 'right': 0.5276}, (2, 3): {'up': 0.3326, 'down': 0.5318, 'left': 6.6655, 'right': 0.7584}, (2, 4): {'up': 6.2662, 'down': 1.4058, 'left': 0.1169, 'right': 0.3721}, (2, 5): {'up': 0.1097, 'down': 6.3555, 'left': 0.7973, 'right': 0.109}, (3, 0): {'up': 1.1992, 'down': 0.6995, 'left': 0.1616, 'right': 6.0465}, (3, 1): {'up': 1.2627, 'down': 0.9222, 'left': 0.5259, 'right': 6.0315}, (3, 2): {'up': 1.4146, 'down': 0.6367, 'left': 1.2811, 'right': 6.0235}, (3, 3): {'up': 1.2823, 'down': 0.747, 'left': 0.949, 'right': 6.0571}, (3, 4): {'up': 6.153, 'down': 0.1834, 'left': 0.5329, 'right': 1.6356}, (3, 5): {'up': 0.9319, 'down': 6.3086, 'left': 1.5071, 'right': 0.7953}, (4, 0): {'up': 6.0577, 'down': 0.1655, 'left': 0.1692, 'right': 0.5462}, (4, 1): {'up': 1.3129, 'down': 0.6462, 'left': 6.0645, 'right': 0.9482}, (4, 2): {'up': 0.7881, 'down': 0.8344, 'left': 6.029, 'right': 0.8812}, (4, 3): {'up': 1.6305, 'down': 0.1635, 'left': 6.1188, 'right': 0.1653}, (4, 4): {'up': 1.2346, 'down': 0.6097, 'left': 6.165, 'right': 0.3716}, (4, 5): {'up': 0.1389, 'down': 0.1385, 'left': 6.2521, 'right': 0.1365}}\n"
     ]
    }
   ],
   "source": [
    "agent = Agent()\n",
    "start_time = datetime.datetime.now()\n",
    "agent.train()\n",
    "end_time = datetime.datetime.now()\n",
    "time_period = (end_time - start_time).total_seconds()\n",
    "print(agent.Q_values)"
   ]
  },
  {
   "cell_type": "code",
   "execution_count": 12,
   "metadata": {},
   "outputs": [
    {
     "name": "stdout",
     "output_type": "stream",
     "text": [
      "Running time:  1.519663\n"
     ]
    }
   ],
   "source": [
    "print(\"Running time: \", time_period)"
   ]
  },
  {
   "cell_type": "code",
   "execution_count": 13,
   "metadata": {},
   "outputs": [
    {
     "data": {
      "text/plain": [
       "{(0, 0): {'down': 0.4273, 'left': 0.145, 'right': 7.6719, 'up': 0.1468},\n",
       " (0, 1): {'down': 0.5585, 'left': 0.6314, 'right': 7.2867, 'up': 0.1442},\n",
       " (0, 2): {'down': 0.3419, 'left': 0.1441, 'right': 7.0277, 'up': 0.1547},\n",
       " (0, 3): {'down': 1.1098, 'left': 0.1694, 'right': 6.8455, 'up': 0.1746},\n",
       " (0, 4): {'down': 1.2745, 'left': 0.4253, 'right': 6.6555, 'up': 0.1528},\n",
       " (0, 5): {'down': 6.5072, 'left': 0.5152, 'right': 0.1137, 'up': 0.119},\n",
       " (1, 0): {'down': 1.1971, 'left': 0.3187, 'right': 0.9875, 'up': 7.8885},\n",
       " (1, 1): {'down': 7.1104, 'left': 1.7104, 'right': 0.3368, 'up': 1.6831},\n",
       " (1, 2): {'down': 0.4262, 'left': 6.9237, 'right': 1.7923, 'up': 2.4631},\n",
       " (1, 3): {'down': 6.5308, 'left': 0.3772, 'right': 0.7072, 'up': 1.4751},\n",
       " (1, 4): {'down': 0.5401, 'left': 6.3953, 'right': 1.7753, 'up': 0.345},\n",
       " (1, 5): {'down': 6.4209, 'left': 0.9956, 'right': 0.7008, 'up': 0.1922},\n",
       " (2, 0): {'down': 1.6357, 'left': 1.5042, 'right': 0.6912, 'up': 7.6043},\n",
       " (2, 1): {'down': 0.1957, 'left': 7.3682, 'right': 1.0422, 'up': 0.194},\n",
       " (2, 2): {'down': 0.7341, 'left': 2.1712, 'right': 0.5276, 'up': 6.7923},\n",
       " (2, 3): {'down': 0.5318, 'left': 6.6655, 'right': 0.7584, 'up': 0.3326},\n",
       " (2, 4): {'down': 1.4058, 'left': 0.1169, 'right': 0.3721, 'up': 6.2662},\n",
       " (2, 5): {'down': 6.3555, 'left': 0.7973, 'right': 0.109, 'up': 0.1097},\n",
       " (3, 0): {'down': 0.6995, 'left': 0.1616, 'right': 6.0465, 'up': 1.1992},\n",
       " (3, 1): {'down': 0.9222, 'left': 0.5259, 'right': 6.0315, 'up': 1.2627},\n",
       " (3, 2): {'down': 0.6367, 'left': 1.2811, 'right': 6.0235, 'up': 1.4146},\n",
       " (3, 3): {'down': 0.747, 'left': 0.949, 'right': 6.0571, 'up': 1.2823},\n",
       " (3, 4): {'down': 0.1834, 'left': 0.5329, 'right': 1.6356, 'up': 6.153},\n",
       " (3, 5): {'down': 6.3086, 'left': 1.5071, 'right': 0.7953, 'up': 0.9319},\n",
       " (4, 0): {'down': 0.1655, 'left': 0.1692, 'right': 0.5462, 'up': 6.0577},\n",
       " (4, 1): {'down': 0.6462, 'left': 6.0645, 'right': 0.9482, 'up': 1.3129},\n",
       " (4, 2): {'down': 0.8344, 'left': 6.029, 'right': 0.8812, 'up': 0.7881},\n",
       " (4, 3): {'down': 0.1635, 'left': 6.1188, 'right': 0.1653, 'up': 1.6305},\n",
       " (4, 4): {'down': 0.6097, 'left': 6.165, 'right': 0.3716, 'up': 1.2346},\n",
       " (4, 5): {'down': 0.1385, 'left': 6.2521, 'right': 0.1365, 'up': 0.1389}}"
      ]
     },
     "execution_count": 13,
     "metadata": {},
     "output_type": "execute_result"
    }
   ],
   "source": [
    "agent.Q_values"
   ]
  },
  {
   "cell_type": "code",
   "execution_count": 14,
   "metadata": {},
   "outputs": [
    {
     "data": {
      "image/png": "[encoded data removed]",
      "text/plain": [
       "<Figure size 432x288 with 1 Axes>"
      ]
     },
     "metadata": {},
     "output_type": "display_data"
    }
   ],
   "source": [
    "agent.show_convergence()"
   ]
  },
  {
   "cell_type": "code",
   "execution_count": 15,
   "metadata": {},
   "outputs": [
    {
     "name": "stdout",
     "output_type": "stream",
     "text": [
      "---------------------------------------\n",
      "|  right | right | right | right | right | down |\n",
      "---------------------------------------\n",
      "|  up | down | left | down | left | down |\n",
      "---------------------------------------\n",
      "|  up | left | up | left | up | down |\n",
      "---------------------------------------\n",
      "|  right | right | right | right | up | down |\n",
      "---------------------------------------\n",
      "|  up | left | left | left | left | left |\n",
      "---------------------------------------\n"
     ]
    }
   ],
   "source": [
    "agent.show_path()"
   ]
  },
  {
   "cell_type": "code",
   "execution_count": 16,
   "metadata": {},
   "outputs": [
    {
     "data": {
      "text/plain": [
       "29"
      ]
     },
     "execution_count": 16,
     "metadata": {},
     "output_type": "execute_result"
    }
   ],
   "source": [
    "min(agent.steps)"
   ]
  }
 ],
 "metadata": {
  "kernelspec": {
   "display_name": "Python 3",
   "language": "python",
   "name": "python3"
  },
  "language_info": {
   "codemirror_mode": {
    "name": "ipython",
    "version": 3
   },
   "file_extension": ".py",
   "mimetype": "text/x-python",
   "name": "python",
   "nbconvert_exporter": "python",
   "pygments_lexer": "ipython3",
   "version": "3.6.4"
  }
 },
 "nbformat": 4,
 "nbformat_minor": 2
}
