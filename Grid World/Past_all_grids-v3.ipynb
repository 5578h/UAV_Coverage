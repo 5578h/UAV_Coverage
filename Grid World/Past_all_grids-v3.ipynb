{
 "cells": [
  {
   "cell_type": "code",
   "execution_count": 1,
   "metadata": {},
   "outputs": [],
   "source": [
    "import numpy as np\n",
    "import datetime\n",
    "import time"
   ]
  },
  {
   "cell_type": "code",
   "execution_count": 2,
   "metadata": {},
   "outputs": [],
   "source": [
    "BOARD_ROWS = 3\n",
    "BOARD_COLS = 4\n",
    "START = (0, 0)"
   ]
  },
  {
   "cell_type": "code",
   "execution_count": 3,
   "metadata": {},
   "outputs": [],
   "source": [
    "class State:\n",
    "\n",
    "    def __init__(self, state=START):\n",
    "        self.board = np.zeros([BOARD_ROWS, BOARD_COLS])\n",
    "        self.state = state    # tuple of the coordinate\n",
    "        self.is_end = False\n",
    "\n",
    "    def check_end(self):\n",
    "        if self.state == START:\n",
    "            self.is_end = True\n",
    "\n",
    "    def next_position(self, action):\n",
    "        if action == \"up\":\n",
    "            next_state = (self.state[0] - 1, self.state[1])\n",
    "        elif action == \"down\":\n",
    "            next_state = (self.state[0] + 1, self.state[1])\n",
    "        elif action == \"left\":\n",
    "            next_state = (self.state[0], self.state[1] - 1)\n",
    "        else:\n",
    "            next_state = (self.state[0], self.state[1] + 1)\n",
    "        if (next_state[0] >= 0) and (next_state[0] < BOARD_ROWS):\n",
    "            if (next_state[1] >= 0) and (next_state[1] < BOARD_COLS):\n",
    "                return next_state\n",
    "        return self.state\n"
   ]
  },
  {
   "cell_type": "code",
   "execution_count": 4,
   "metadata": {},
   "outputs": [],
   "source": [
    "class Agent:\n",
    "\n",
    "    def __init__(self):\n",
    "        self.actions = [\"up\", \"down\", \"left\", \"right\"]  # space\n",
    "        self.State = State()\n",
    "        self.is_end = self.State.is_end\n",
    "        self.alpha = 0.05\n",
    "        self.exp_rate = 1\n",
    "        self.decay_gamma = 0.9\n",
    "        self.Q_values = {}  # init Q values (dict)\n",
    "        for i in range(BOARD_ROWS):\n",
    "            for j in range(BOARD_COLS):\n",
    "                self.Q_values[(i, j)] = {}\n",
    "                for a in self.actions:\n",
    "                    self.Q_values[(i, j)][a] = 0\n",
    "        self.past_all = []\n",
    "        for i in range(BOARD_ROWS):\n",
    "            t = []\n",
    "            for j in range(BOARD_COLS):\n",
    "                t.append(False)\n",
    "            self.past_all.append(t)\n",
    "\n",
    "        self.steps = []\n",
    "        self.stop = False\n",
    "        self.step = 0\n",
    "        self.states=[]\n",
    "        self.all_states=[]\n",
    "\n",
    "    def optimal_action(self):\n",
    "        max_value = -10000\n",
    "        action = \"\"\n",
    "        for a in self.actions:\n",
    "            next_value = self.Q_values[self.State.state][a]\n",
    "            if next_value >= max_value:\n",
    "                action = a\n",
    "                max_value = next_value\n",
    "        return action\n",
    "\n",
    "    def get_actions(self):\n",
    "        i, j = self.State.state[0], self.State.state[1]\n",
    "        potential_position = []\n",
    "        if i + 1 < BOARD_ROWS:\n",
    "            potential_position.append(\"down\")\n",
    "        if i - 1 > 0:\n",
    "            potential_position.append(\"up\")\n",
    "        if j + 1 < BOARD_COLS:\n",
    "            potential_position.append(\"right\")\n",
    "        if j - 1 > 0:\n",
    "            potential_position.append(\"left\")\n",
    "        return potential_position\n",
    "\n",
    "#     def get_action(self):\n",
    "#         \"\"\"\n",
    "#         The agent should choose randomly among the positions that have\n",
    "#         not been visited, and if all possible positions are visited,\n",
    "#         then move randomly and receive a negative reward\n",
    "#         \"\"\"\n",
    "#         actions = self.get_actions()\n",
    "#         if np.random.uniform(0, 1) <= self.exp_rate:\n",
    "#             b = True\n",
    "#             for a in actions:\n",
    "#                 position = self.State.next_position(a)\n",
    "#                 if self.past_all[position[0]][position[1]] is False:\n",
    "#                     b = False\n",
    "#             if b:\n",
    "#                 action = np.random.choice(actions)\n",
    "#                 return action\n",
    "#             # Else try to get an available unvisited position randomly\n",
    "#             else:\n",
    "#                 while True:\n",
    "#                     action = np.random.choice(actions)\n",
    "#                     next_state = self.State.next_position(action)\n",
    "#                     if self.past_all[next_state[0]][next_state[1]] is False:\n",
    "#                         return action\n",
    "#                     else:\n",
    "#                         continue\n",
    "#         else:\n",
    "#             return self.optimal_action()\n",
    "\n",
    "    def get_action(self):\n",
    "        actions = self.get_actions()\n",
    "        if np.random.uniform(0, 1) <= self.exp_rate:\n",
    "            return np.random.choice(actions)\n",
    "        else:\n",
    "             return self.optimal_action()\n",
    "\n",
    "\n",
    "    def give_reward(self):\n",
    "        reward = 0\n",
    "        if self.State.state == START and self.check_all_past():\n",
    "            reward += 1\n",
    "#         else:   \n",
    "#             reward -= (BOARD_ROWS*BOARD_COLS-self.step)\n",
    "        return reward\n",
    "\n",
    "    def set_action(self, action):\n",
    "        self.step += 1\n",
    "        curr_state = self.State.state\n",
    "        \n",
    "        self.states.append(curr_state)\n",
    "        \n",
    "        self.past_all[curr_state[0]][curr_state[1]] = True\n",
    "        next_state = self.State.next_position(self.get_action())\n",
    "        self.State = State(state=next_state)\n",
    "        reward = self.give_reward()\n",
    "        if self.past_all[next_state[0]][next_state[1]] is False:\n",
    "            self.past_all[next_state[0]][next_state[1]] = True\n",
    "        else:\n",
    "            reward -= 1\n",
    "            self.stop = True\n",
    "        qs_of_next_state = []\n",
    "        for q_value in self.Q_values[next_state]:\n",
    "            qs_of_next_state.append(self.Q_values[next_state][q_value])\n",
    "        delta = self.alpha * (reward + self.decay_gamma * (max(qs_of_next_state)) -\n",
    "                              self.Q_values[curr_state][action])\n",
    "        self.Q_values[curr_state][action] = round(self.Q_values[curr_state][action] + delta, 10)\n",
    "\n",
    "    def reset(self):\n",
    "        for i in range(BOARD_ROWS):\n",
    "            for j in range(BOARD_COLS):\n",
    "                self.past_all[i][j] = False\n",
    "        self.State = State()\n",
    "        self.is_end = self.State.is_end\n",
    "        self.stop = False\n",
    "        self.step = 0\n",
    "        self.states=[]\n",
    "\n",
    "    def check_all_past(self):\n",
    "        for i in self.past_all:\n",
    "            for j in i:\n",
    "                if j is False:\n",
    "                    return False\n",
    "        return True\n",
    "\n",
    "    def train(self, rounds=10000):\n",
    "        print(\"Training...\")\n",
    "        for r in range(rounds):\n",
    "            self.reset()\n",
    "            self.exp_rate *= 0.99\n",
    "            step = 0\n",
    "            while True:\n",
    "                action = self.get_action()\n",
    "                self.set_action(action)\n",
    "                self.State.check_end()\n",
    "                self.is_end = self.State.is_end\n",
    "                step += 1\n",
    "                if self.is_end and self.check_all_past():\n",
    "                    self.all_states.append(self.states)\n",
    "                    break\n",
    "                if self.stop:\n",
    "                    self.all_states.append(self.states)\n",
    "                    break\n",
    "            self.steps.append(step)\n",
    "        print(\"Training finished!\")\n",
    "\n",
    "    def show_path(self):\n",
    "        for i in range(BOARD_ROWS):\n",
    "            print('---------------------------------------')\n",
    "            row_string = \"| \"\n",
    "            for j in range(BOARD_COLS):\n",
    "                best_move = \"\"\n",
    "                best_val = -100000000\n",
    "                for a in self.Q_values[(i,j)]:\n",
    "                    if self.Q_values[(i, j)][a] > best_val:\n",
    "                        best_val = self.Q_values[(i,j)][a]\n",
    "                        best_move = a\n",
    "                row_string = row_string + \" \" + best_move + \" |\"\n",
    "            print(row_string)\n",
    "        print('---------------------------------------')"
   ]
  },
  {
   "cell_type": "code",
   "execution_count": 5,
   "metadata": {},
   "outputs": [
    {
     "name": "stdout",
     "output_type": "stream",
     "text": [
      "Training...\n",
      "Training finished!\n",
      "{(0, 0): {'up': -0.6308530711, 'down': -0.6042323031, 'left': -0.6305934747, 'right': -0.48180593}, (0, 1): {'up': -0.9405812056, 'down': -0.9148481815, 'left': -0.9168832637, 'right': -0.5353399233}, (0, 2): {'up': -0.8168353163, 'down': -0.7881908789, 'left': -0.7762993456, 'right': -0.5948221381}, (0, 3): {'up': -0.9053928845, 'down': -0.6609134878, 'left': -0.8986789584, 'right': -0.9101058595}, (1, 0): {'up': -1.248121851, 'down': -1.2473169545, 'left': -1.2695190941, 'right': -1.2436253361}, (1, 1): {'up': -1.38296914, 'down': -1.4032681033, 'left': -1.3841626368, 'right': -1.38180593}, (1, 2): {'up': -1.5353399233, 'down': -1.5448256322, 'left': -1.5543399657, 'right': -1.5377677257}, (1, 3): {'up': -0.9572762272, 'down': -0.7343483208, 'left': -0.9432260551, 'right': -0.9538951971}, (2, 0): {'up': -1.1192628015, 'down': -1.4737694805, 'left': -1.4488600527, 'right': -1.4755809644}, (2, 1): {'up': -1.2900070737, 'down': -1.2998631379, 'left': -1.0073365204, 'right': -1.3135558121}, (2, 2): {'up': -1.1698005341, 'down': -1.1777975703, 'left': -0.9066028674, 'right': -1.182404892}, (2, 3): {'up': -1.0719020431, 'down': -1.0444983311, 'left': -0.8159425797, 'right': -1.0469737254}}\n"
     ]
    }
   ],
   "source": [
    "agent = Agent()\n",
    "start_time = datetime.datetime.now()\n",
    "agent.train()\n",
    "end_time = datetime.datetime.now()\n",
    "time_period = (end_time - start_time).total_seconds()\n",
    "print(agent.Q_values)"
   ]
  },
  {
   "cell_type": "code",
   "execution_count": 6,
   "metadata": {
    "scrolled": true
   },
   "outputs": [
    {
     "name": "stdout",
     "output_type": "stream",
     "text": [
      "Running time:  1.932378\n"
     ]
    }
   ],
   "source": [
    "print(\"Running time: \", time_period)"
   ]
  },
  {
   "cell_type": "code",
   "execution_count": 7,
   "metadata": {},
   "outputs": [
    {
     "name": "stdout",
     "output_type": "stream",
     "text": [
      "---------------------------------------\n",
      "|  right | right | right | down |\n",
      "---------------------------------------\n",
      "|  right | right | up | down |\n",
      "---------------------------------------\n",
      "|  up | left | left | left |\n",
      "---------------------------------------\n"
     ]
    }
   ],
   "source": [
    "agent.show_path()"
   ]
  },
  {
   "cell_type": "code",
   "execution_count": 8,
   "metadata": {},
   "outputs": [
    {
     "data": {
      "image/png": "[encoded data removed]",
      "text/plain": [
       "<Figure size 432x288 with 1 Axes>"
      ]
     },
     "metadata": {},
     "output_type": "display_data"
    }
   ],
   "source": [
    "import matplotlib.pyplot as plt\n",
    "%matplotlib inline\n",
    "x = []\n",
    "for i in range(10000):\n",
    "    x.append(i)\n",
    "y = agent.steps\n",
    "plt.plot(x,y)\n",
    "plt.ylabel('Number of Steps')\n",
    "plt.xlabel('Episode')\n",
    "plt.title('Q Learning Convergence')\n",
    "plt.show()"
   ]
  }
 ],
 "metadata": {
  "kernelspec": {
   "display_name": "Python 3",
   "language": "python",
   "name": "python3"
  },
  "language_info": {
   "codemirror_mode": {
    "name": "ipython",
    "version": 3
   },
   "file_extension": ".py",
   "mimetype": "text/x-python",
   "name": "python",
   "nbconvert_exporter": "python",
   "pygments_lexer": "ipython3",
   "version": "3.6.4"
  }
 },
 "nbformat": 4,
 "nbformat_minor": 2
}
