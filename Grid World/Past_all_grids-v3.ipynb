{
 "cells": [
  {
   "cell_type": "code",
   "execution_count": 1,
   "metadata": {},
   "outputs": [],
   "source": [
    "import numpy as np\n",
    "import datetime\n",
    "import time"
   ]
  },
  {
   "cell_type": "code",
   "execution_count": 2,
   "metadata": {},
   "outputs": [],
   "source": [
    "BOARD_ROWS = 5\n",
    "BOARD_COLS = 6\n",
    "START = (0, 0)"
   ]
  },
  {
   "cell_type": "code",
   "execution_count": 3,
   "metadata": {},
   "outputs": [],
   "source": [
    "class State:\n",
    "\n",
    "    def __init__(self, state=START):\n",
    "        self.board = np.zeros([BOARD_ROWS, BOARD_COLS])\n",
    "        self.state = state    # tuple of the coordinate\n",
    "        self.is_end = False\n",
    "\n",
    "    def check_end(self):\n",
    "        if self.state == START:\n",
    "            self.is_end = True\n",
    "\n",
    "    def next_position(self, action):\n",
    "        if action == \"up\":\n",
    "            next_state = (self.state[0] - 1, self.state[1])\n",
    "        elif action == \"down\":\n",
    "            next_state = (self.state[0] + 1, self.state[1])\n",
    "        elif action == \"left\":\n",
    "            next_state = (self.state[0], self.state[1] - 1)\n",
    "        else:\n",
    "            next_state = (self.state[0], self.state[1] + 1)\n",
    "        if (next_state[0] >= 0) and (next_state[0] < BOARD_ROWS):\n",
    "            if (next_state[1] >= 0) and (next_state[1] < BOARD_COLS):\n",
    "                return next_state\n",
    "        return self.state\n"
   ]
  },
  {
   "cell_type": "code",
   "execution_count": 4,
   "metadata": {},
   "outputs": [],
   "source": [
    "class Agent:\n",
    "\n",
    "    def __init__(self):\n",
    "        self.actions = [\"up\", \"down\", \"left\", \"right\"]  # space\n",
    "        self.State = State()\n",
    "        self.is_end = self.State.is_end\n",
    "        self.alpha = 0.05\n",
    "        self.exp_rate = 1\n",
    "        self.decay_gamma = 0.9\n",
    "        self.Q_values = {}  # init Q values (dict)\n",
    "        for i in range(BOARD_ROWS):\n",
    "            for j in range(BOARD_COLS):\n",
    "                self.Q_values[(i, j)] = {}\n",
    "                for a in self.actions:\n",
    "                    self.Q_values[(i, j)][a] = 0\n",
    "        self.past_all = []\n",
    "        for i in range(BOARD_ROWS):\n",
    "            t = []\n",
    "            for j in range(BOARD_COLS):\n",
    "                t.append(False)\n",
    "            self.past_all.append(t)\n",
    "\n",
    "        self.steps = []\n",
    "        self.done = False\n",
    "        self.step = 0\n",
    "        self.states=[]\n",
    "        self.all_states=[]    \n",
    "\n",
    "    def optimal_action(self):\n",
    "        max_value = -10000000000\n",
    "        action = \"\"\n",
    "        for a in self.actions:\n",
    "            next_value = self.Q_values[self.State.state][a]\n",
    "            if next_value >= max_value:\n",
    "                action = a\n",
    "                max_value = next_value\n",
    "        return action\n",
    "\n",
    "    def get_actions(self):\n",
    "        i, j = self.State.state[0], self.State.state[1]\n",
    "        potential_position = []\n",
    "        if i + 1 < BOARD_ROWS and self.past_all[i+1][j] is False:\n",
    "            potential_position.append(\"down\")\n",
    "        if i - 1 > 0 and self.past_all[i-1][j] is False:\n",
    "            potential_position.append(\"up\")\n",
    "        if j + 1 < BOARD_COLS and self.past_all[i][j+1] is False:\n",
    "            potential_position.append(\"right\")\n",
    "        if j - 1 > 0 and self.past_all[i][j-1] is False:\n",
    "            potential_position.append(\"left\")\n",
    "        return potential_position\n",
    "\n",
    "#     def get_action(self):\n",
    "#         \"\"\"\n",
    "#         The agent should choose randomly among the positions that have\n",
    "#         not been visited, and if all possible positions are visited,\n",
    "#         then move randomly and receive a negative reward\n",
    "#         \"\"\"\n",
    "#         actions = self.get_actions()\n",
    "#         if np.random.uniform(0, 1) <= self.exp_rate:\n",
    "#             b = True\n",
    "#             for a in actions:\n",
    "#                 position = self.State.next_position(a)\n",
    "#                 if self.past_all[position[0]][position[1]] is False:\n",
    "#                     b = False\n",
    "#             if b:\n",
    "#                 action = np.random.choice(actions)\n",
    "#                 return action\n",
    "#             # Else try to get an available unvisited position randomly\n",
    "#             else:\n",
    "#                 while True:\n",
    "#                     action = np.random.choice(actions)\n",
    "#                     next_state = self.State.next_position(action)\n",
    "#                     if self.past_all[next_state[0]][next_state[1]] is False:\n",
    "#                         return action\n",
    "#                     else:\n",
    "#                         continue\n",
    "#         else:\n",
    "#             return self.optimal_action()\n",
    "\n",
    "    def get_action(self):\n",
    "        actions = self.get_actions()\n",
    "        if actions == []:\n",
    "            self.done = True\n",
    "            return \"\"\n",
    "        if np.random.uniform(0, 1) <= self.exp_rate:\n",
    "            return np.random.choice(actions)\n",
    "        else:\n",
    "             return self.optimal_action()\n",
    "\n",
    "\n",
    "    def give_reward(self):\n",
    "        reward = 1\n",
    "        if self.State.state == START and self.check_all_past():\n",
    "            reward += 1\n",
    "#         else:   \n",
    "#             reward -= (BOARD_ROWS*BOARD_COLS-self.step)\n",
    "        return reward\n",
    "\n",
    "    def set_action(self, action):\n",
    "        self.step += 1\n",
    "        curr_state = self.State.state\n",
    "        \n",
    "        self.states.append(curr_state)\n",
    "        \n",
    "        self.past_all[curr_state[0]][curr_state[1]] = True\n",
    "        next_state = self.State.next_position(self.get_action())\n",
    "        self.State = State(state=next_state)\n",
    "        reward = self.give_reward()\n",
    "        if self.past_all[next_state[0]][next_state[1]] is False:\n",
    "            self.past_all[next_state[0]][next_state[1]] = True\n",
    "        else:\n",
    "            reward -= 1\n",
    "            self.done = True\n",
    "        qs_of_next_state = []\n",
    "        for q_value in self.Q_values[next_state]:\n",
    "            qs_of_next_state.append(self.Q_values[next_state][q_value])\n",
    "        delta = self.alpha * (reward + self.decay_gamma * (max(qs_of_next_state)) -\n",
    "                              self.Q_values[curr_state][action])\n",
    "        self.Q_values[curr_state][action] = round(self.Q_values[curr_state][action] + delta, 10)\n",
    "\n",
    "    def reset(self):\n",
    "        for i in range(BOARD_ROWS):\n",
    "            for j in range(BOARD_COLS):\n",
    "                self.past_all[i][j] = False\n",
    "        self.State = State()\n",
    "        self.is_end = self.State.is_end\n",
    "        self.done = False\n",
    "        self.step = 0\n",
    "        self.states=[]\n",
    "\n",
    "    def check_all_past(self):\n",
    "        for i in self.past_all:\n",
    "            for j in i:\n",
    "                if j is False:\n",
    "                    return False\n",
    "        return True                \n",
    "\n",
    "    def train(self, rounds=1000):\n",
    "        print(\"Training...\")\n",
    "        for r in range(rounds):\n",
    "            self.reset()\n",
    "            self.exp_rate *= 0.99\n",
    "            step = 0\n",
    "            while True:\n",
    "                action = self.get_action()\n",
    "                if self.done:\n",
    "                    self.all_states.append(self.states)\n",
    "                    break\n",
    "                self.set_action(action)\n",
    "                self.State.check_end()\n",
    "                self.is_end = self.State.is_end\n",
    "                step += 1\n",
    "                if self.is_end and self.check_all_past():\n",
    "                    self.all_states.append(self.states)\n",
    "                    break\n",
    "                if self.done:\n",
    "                    self.all_states.append(self.states)\n",
    "                    break\n",
    "            self.steps.append(step)\n",
    "        print(\"Training finished!\")\n",
    "\n",
    "    def show_path(self):\n",
    "        for i in range(BOARD_ROWS):\n",
    "            print('---------------------------------------')\n",
    "            row_string = \"| \"\n",
    "            for j in range(BOARD_COLS):\n",
    "                best_move = \"\"\n",
    "                best_val = -10000000000000000\n",
    "                for a in self.Q_values[(i,j)]:\n",
    "                    if self.Q_values[(i, j)][a] > best_val:\n",
    "                        best_val = self.Q_values[(i,j)][a]\n",
    "                        best_move = a\n",
    "                row_string = row_string + \" \" + best_move + \" |\"\n",
    "            print(row_string)\n",
    "        print('---------------------------------------')"
   ]
  },
  {
   "cell_type": "code",
   "execution_count": 5,
   "metadata": {},
   "outputs": [
    {
     "name": "stdout",
     "output_type": "stream",
     "text": [
      "Training...\n",
      "Training finished!\n",
      "{(0, 0): {'up': 0, 'down': 7.1422763398, 'left': 0, 'right': 3.6220364968}, (0, 1): {'up': 0, 'down': 0.8739483704, 'left': 0, 'right': 1.8852462204}, (0, 2): {'up': 0, 'down': 2.0570554222, 'left': 0, 'right': 0.3451484455}, (0, 3): {'up': 0, 'down': 0.4188142455, 'left': 0, 'right': 0.1216585302}, (0, 4): {'up': 0, 'down': 0.05, 'left': 0, 'right': 0.1561314845}, (0, 5): {'up': 0, 'down': 0.0, 'left': 0, 'right': 0.0}, (1, 0): {'up': 0, 'down': 3.2220268068, 'left': 0, 'right': 6.8316474789}, (1, 1): {'up': 0, 'down': 6.4864866485, 'left': 0, 'right': 2.5540771994}, (1, 2): {'up': 0, 'down': 0.8075743414, 'left': 0.4503960006, 'right': 2.5856035756}, (1, 3): {'up': 0, 'down': 2.597992869, 'left': 0.4423746109, 'right': 0.7918180306}, (1, 4): {'up': 0, 'down': 0.3690033935, 'left': 1.303951474, 'right': 0.4513007418}, (1, 5): {'up': 0, 'down': 1.55705002, 'left': 0.7330121282, 'right': 0}, (2, 0): {'up': 0, 'down': 1.6101046879, 'left': 0, 'right': 0.893621286}, (2, 1): {'up': 0.1322123804, 'down': 6.1029570018, 'left': 0, 'right': 2.6737480897}, (2, 2): {'up': 0.6132474901, 'down': 0.4500866988, 'left': 0.4441909473, 'right': 2.4575081535}, (2, 3): {'up': 0.6056223213, 'down': 2.7393783485, 'left': 0.4593945797, 'right': 0.7546286076}, (2, 4): {'up': 0.4979797563, 'down': 0.2311212185, 'left': 1.2828633477, 'right': 0.4084997296}, (2, 5): {'up': 2.0679686861, 'down': 0.1405888615, 'left': 0.8004135192, 'right': 0}, (3, 0): {'up': 0, 'down': 1.0102134319, 'left': 0, 'right': 2.3497888732}, (3, 1): {'up': 0.8854376788, 'down': 5.6767953808, 'left': 0, 'right': 1.5780084238}, (3, 2): {'up': 1.9892850597, 'down': 0.4488212952, 'left': 0.2423535914, 'right': 0.6184010285}, (3, 3): {'up': 0.2091287648, 'down': 0.8032748485, 'left': 0.6468692992, 'right': 2.5896961667}, (3, 4): {'up': 0.7246598449, 'down': 0.8263493439, 'left': 0.2520713448, 'right': 2.4847581454}, (3, 5): {'up': 2.4691525027, 'down': 0.8400956398, 'left': 0.3171679668, 'right': 0}, (4, 0): {'up': 0, 'down': 0, 'left': 0, 'right': 0.4110771393}, (4, 1): {'up': 0.1862909132, 'down': 0, 'left': 0, 'right': 5.2032649438}, (4, 2): {'up': 1.3232937105, 'down': 0, 'left': 4.6771025342, 'right': 1.5427303426}, (4, 3): {'up': 0.1663503048, 'down': 0, 'left': 0.2804255678, 'right': 1.1648179408}, (4, 4): {'up': 0.298898389, 'down': 0, 'left': 0.3184106763, 'right': 1.3021893024}, (4, 5): {'up': 1.6916325501, 'down': 0, 'left': 0.1827910002, 'right': 0}}\n"
     ]
    }
   ],
   "source": [
    "agent = Agent()\n",
    "start_time = datetime.datetime.now()\n",
    "agent.train()\n",
    "end_time = datetime.datetime.now()\n",
    "time_period = (end_time - start_time).total_seconds()\n",
    "print(agent.Q_values)"
   ]
  },
  {
   "cell_type": "code",
   "execution_count": 6,
   "metadata": {
    "scrolled": true
   },
   "outputs": [
    {
     "name": "stdout",
     "output_type": "stream",
     "text": [
      "Running time:  0.180918\n"
     ]
    }
   ],
   "source": [
    "print(\"Running time: \", time_period)"
   ]
  },
  {
   "cell_type": "code",
   "execution_count": 7,
   "metadata": {},
   "outputs": [
    {
     "name": "stdout",
     "output_type": "stream",
     "text": [
      "---------------------------------------\n",
      "|  down | right | down | down | right | up |\n",
      "---------------------------------------\n",
      "|  right | down | right | down | left | down |\n",
      "---------------------------------------\n",
      "|  down | down | right | down | left | up |\n",
      "---------------------------------------\n",
      "|  right | down | up | right | right | up |\n",
      "---------------------------------------\n",
      "|  right | right | left | right | right | up |\n",
      "---------------------------------------\n"
     ]
    }
   ],
   "source": [
    "agent.show_path()"
   ]
  },
  {
   "cell_type": "code",
   "execution_count": 8,
   "metadata": {},
   "outputs": [
    {
     "data": {
      "image/png": "[encoded data removed]",
      "text/plain": [
       "<Figure size 432x288 with 1 Axes>"
      ]
     },
     "metadata": {},
     "output_type": "display_data"
    }
   ],
   "source": [
    "import matplotlib.pyplot as plt\n",
    "%matplotlib inline\n",
    "x = []\n",
    "for i in range(1000):\n",
    "    x.append(i)\n",
    "y = agent.steps\n",
    "plt.plot(x,y)\n",
    "plt.ylabel('Number of Steps')\n",
    "plt.xlabel('Episode')\n",
    "plt.title('Q Learning Convergence')\n",
    "plt.show()"
   ]
  }
 ],
 "metadata": {
  "kernelspec": {
   "display_name": "Python 3",
   "language": "python",
   "name": "python3"
  },
  "language_info": {
   "codemirror_mode": {
    "name": "ipython",
    "version": 3
   },
   "file_extension": ".py",
   "mimetype": "text/x-python",
   "name": "python",
   "nbconvert_exporter": "python",
   "pygments_lexer": "ipython3",
   "version": "3.6.4"
  }
 },
 "nbformat": 4,
 "nbformat_minor": 2
}
