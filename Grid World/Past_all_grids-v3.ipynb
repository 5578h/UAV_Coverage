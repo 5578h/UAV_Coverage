{
 "cells": [
  {
   "cell_type": "code",
   "execution_count": 1,
   "metadata": {},
   "outputs": [],
   "source": [
    "import numpy as np\n",
    "import datetime\n",
    "import time"
   ]
  },
  {
   "cell_type": "code",
   "execution_count": 2,
   "metadata": {},
   "outputs": [],
   "source": [
    "BOARD_ROWS = 5\n",
    "BOARD_COLS = 6\n",
    "START = (0, 0)"
   ]
  },
  {
   "cell_type": "code",
   "execution_count": 3,
   "metadata": {},
   "outputs": [],
   "source": [
    "class State:\n",
    "\n",
    "    def __init__(self, state=START):\n",
    "        self.board = np.zeros([BOARD_ROWS, BOARD_COLS])\n",
    "        self.state = state    # tuple of the coordinate\n",
    "        self.is_end = False\n",
    "\n",
    "    def check_end(self):\n",
    "        if self.state == START:\n",
    "            self.is_end = True\n",
    "\n",
    "    def next_position(self, action):\n",
    "        if action == \"up\":\n",
    "            next_state = (self.state[0] - 1, self.state[1])\n",
    "        elif action == \"down\":\n",
    "            next_state = (self.state[0] + 1, self.state[1])\n",
    "        elif action == \"left\":\n",
    "            next_state = (self.state[0], self.state[1] - 1)\n",
    "        else:\n",
    "            next_state = (self.state[0], self.state[1] + 1)\n",
    "        if (next_state[0] >= 0) and (next_state[0] < BOARD_ROWS):\n",
    "            if (next_state[1] >= 0) and (next_state[1] < BOARD_COLS):\n",
    "                return next_state\n",
    "        return self.state\n"
   ]
  },
  {
   "cell_type": "code",
   "execution_count": 4,
   "metadata": {},
   "outputs": [],
   "source": [
    "class Agent:\n",
    "\n",
    "    def __init__(self):\n",
    "        self.actions = [\"up\", \"down\", \"left\", \"right\"]  # space\n",
    "        self.State = State()\n",
    "        self.is_end = self.State.is_end\n",
    "        self.alpha = 0.05\n",
    "        self.exp_rate = 1\n",
    "        self.decay_gamma = 0.9\n",
    "        self.Q_values = {}  # init Q values (dict)\n",
    "        for i in range(BOARD_ROWS):\n",
    "            for j in range(BOARD_COLS):\n",
    "                self.Q_values[(i, j)] = {}\n",
    "                for a in self.actions:\n",
    "                    self.Q_values[(i, j)][a] = 0\n",
    "        self.past_all = []\n",
    "        for i in range(BOARD_ROWS):\n",
    "            t = []\n",
    "            for j in range(BOARD_COLS):\n",
    "                t.append(False)\n",
    "            self.past_all.append(t)\n",
    "\n",
    "        self.steps = []\n",
    "        self.done = False\n",
    "        self.step = 0\n",
    "        self.states=[]\n",
    "        self.all_states=[]    \n",
    "\n",
    "    def optimal_action(self):\n",
    "        max_value = -10000000000\n",
    "        action = \"\"\n",
    "        for a in self.actions:\n",
    "            next_value = self.Q_values[self.State.state][a]\n",
    "            if next_value >= max_value:\n",
    "                action = a\n",
    "                max_value = next_value\n",
    "        return action\n",
    "\n",
    "    def get_actions(self):\n",
    "        i, j = self.State.state[0], self.State.state[1]\n",
    "        potential_position = []\n",
    "        if i + 1 < BOARD_ROWS and self.past_all[i+1][j] is False:\n",
    "            potential_position.append(\"down\")\n",
    "        if i - 1 > 0 and self.past_all[i-1][j] is False:\n",
    "            potential_position.append(\"up\")\n",
    "        if j + 1 < BOARD_COLS and self.past_all[i][j+1] is False:\n",
    "            potential_position.append(\"right\")\n",
    "        if j - 1 > 0 and self.past_all[i][j-1] is False:\n",
    "            potential_position.append(\"left\")\n",
    "        return potential_position\n",
    "\n",
    "#     def get_action(self):\n",
    "#         \"\"\"\n",
    "#         The agent should choose randomly among the positions that have\n",
    "#         not been visited, and if all possible positions are visited,\n",
    "#         then move randomly and receive a negative reward\n",
    "#         \"\"\"\n",
    "#         actions = self.get_actions()\n",
    "#         if np.random.uniform(0, 1) <= self.exp_rate:\n",
    "#             b = True\n",
    "#             for a in actions:\n",
    "#                 position = self.State.next_position(a)\n",
    "#                 if self.past_all[position[0]][position[1]] is False:\n",
    "#                     b = False\n",
    "#             if b:\n",
    "#                 action = np.random.choice(actions)\n",
    "#                 return action\n",
    "#             # Else try to get an available unvisited position randomly\n",
    "#             else:\n",
    "#                 while True:\n",
    "#                     action = np.random.choice(actions)\n",
    "#                     next_state = self.State.next_position(action)\n",
    "#                     if self.past_all[next_state[0]][next_state[1]] is False:\n",
    "#                         return action\n",
    "#                     else:\n",
    "#                         continue\n",
    "#         else:\n",
    "#             return self.optimal_action()\n",
    "\n",
    "    def get_action(self):\n",
    "        actions = self.get_actions()\n",
    "        if actions == []:\n",
    "            self.done = True\n",
    "            return \"\"\n",
    "        if np.random.uniform(0, 1) <= self.exp_rate:\n",
    "            return np.random.choice(actions)\n",
    "        else:\n",
    "             return self.optimal_action()\n",
    "\n",
    "\n",
    "    def give_reward(self):\n",
    "        reward = 1\n",
    "        if self.State.state == START and self.check_all_past():\n",
    "            reward += 1\n",
    "#         else:   \n",
    "#             reward -= (BOARD_ROWS*BOARD_COLS-self.step)\n",
    "        return reward\n",
    "\n",
    "    def set_action(self, action):\n",
    "        self.step += 1\n",
    "        curr_state = self.State.state\n",
    "        \n",
    "        self.states.append(curr_state)\n",
    "        \n",
    "        self.past_all[curr_state[0]][curr_state[1]] = True\n",
    "        next_state = self.State.next_position(self.get_action())\n",
    "        self.State = State(state=next_state)\n",
    "        reward = self.give_reward()\n",
    "        if self.past_all[next_state[0]][next_state[1]] is False:\n",
    "            self.past_all[next_state[0]][next_state[1]] = True\n",
    "        else:\n",
    "            reward -= 1\n",
    "            self.done = True\n",
    "        qs_of_next_state = []\n",
    "        for q_value in self.Q_values[next_state]:\n",
    "            qs_of_next_state.append(self.Q_values[next_state][q_value])\n",
    "        delta = self.alpha * (reward + self.decay_gamma * (max(qs_of_next_state)) -\n",
    "                              self.Q_values[curr_state][action])\n",
    "        self.Q_values[curr_state][action] = round(self.Q_values[curr_state][action] + delta, 10)\n",
    "\n",
    "    def reset(self):\n",
    "        for i in range(BOARD_ROWS):\n",
    "            for j in range(BOARD_COLS):\n",
    "                self.past_all[i][j] = False\n",
    "        self.State = State()\n",
    "        self.is_end = self.State.is_end\n",
    "        self.done = False\n",
    "        self.step = 0\n",
    "        self.states=[]\n",
    "\n",
    "    def check_all_past(self):\n",
    "        for i in self.past_all:\n",
    "            for j in i:\n",
    "                if j is False:\n",
    "                    return False\n",
    "        return True                \n",
    "\n",
    "    def train(self, rounds=1000):\n",
    "        print(\"Training...\")\n",
    "        for r in range(rounds):\n",
    "            self.reset()\n",
    "            self.exp_rate *= 0.99\n",
    "            step = 0\n",
    "            while True:\n",
    "                action = self.get_action()\n",
    "                if self.done:\n",
    "                    self.all_states.append(self.states)\n",
    "                    break\n",
    "                self.set_action(action)\n",
    "                self.State.check_end()\n",
    "                self.is_end = self.State.is_end\n",
    "                step += 1\n",
    "                if self.is_end and self.check_all_past():\n",
    "                    self.all_states.append(self.states)\n",
    "                    break\n",
    "                if self.done:\n",
    "                    self.all_states.append(self.states)\n",
    "                    break\n",
    "            self.steps.append(step)\n",
    "        print(\"Training finished!\")\n",
    "\n",
    "    def show_path(self):\n",
    "        for i in range(BOARD_ROWS):\n",
    "            print('---------------------------------------')\n",
    "            row_string = \"| \"\n",
    "            for j in range(BOARD_COLS):\n",
    "                best_move = \"\"\n",
    "                best_val = -10000000000000000\n",
    "                for a in self.Q_values[(i,j)]:\n",
    "                    if self.Q_values[(i, j)][a] > best_val:\n",
    "                        best_val = self.Q_values[(i,j)][a]\n",
    "                        best_move = a\n",
    "                row_string = row_string + \" \" + best_move + \" |\"\n",
    "            print(row_string)\n",
    "        print('---------------------------------------')"
   ]
  },
  {
   "cell_type": "code",
   "execution_count": 5,
   "metadata": {},
   "outputs": [
    {
     "name": "stdout",
     "output_type": "stream",
     "text": [
      "Training...\n",
      "Training finished!\n",
      "{(0, 0): {'up': 0, 'down': 3.0433646504, 'left': 0, 'right': 8.308178831}, (0, 1): {'up': 0, 'down': 2.5369998778, 'left': 0, 'right': 8.1247699059}, (0, 2): {'up': 0, 'down': 3.3029630421, 'left': 0, 'right': 7.9209680315}, (0, 3): {'up': 0, 'down': 2.1634634832, 'left': 0, 'right': 7.6945089856}, (0, 4): {'up': 0, 'down': 7.442875947, 'left': 0, 'right': 3.1216333815}, (0, 5): {'up': 0, 'down': 0.1763633947, 'left': 0, 'right': 0.5165915176}, (1, 0): {'up': 0, 'down': 0.7525758823, 'left': 0, 'right': 2.4810154908}, (1, 1): {'up': 0, 'down': 1.4362189374, 'left': 0, 'right': 3.1555840244}, (1, 2): {'up': 0, 'down': 1.4253910095, 'left': 0.3614914388, 'right': 3.9894320721}, (1, 3): {'up': 0, 'down': 1.5798724892, 'left': 0.2403524667, 'right': 5.3006705821}, (1, 4): {'up': 0, 'down': 2.167184881, 'left': 0.9386658344, 'right': 7.1632720202}, (1, 5): {'up': 0, 'down': 6.8525894027, 'left': 0.2663731345, 'right': 0}, (2, 0): {'up': 0, 'down': 0.555122122, 'left': 0, 'right': 0.1634195416}, (2, 1): {'up': 0.2664677426, 'down': 1.5060145333, 'left': 0, 'right': 0.3484782443}, (2, 2): {'up': 0.2249711318, 'down': 0.5038145546, 'left': 1.406270446, 'right': 0.4967459302}, (2, 3): {'up': 0.2718100228, 'down': 1.6919292404, 'left': 0.3722405262, 'right': 0.5331613807}, (2, 4): {'up': 0.286259454, 'down': 6.1237918054, 'left': 2.1384997385, 'right': 0.3612768789}, (2, 5): {'up': 0.5588570103, 'down': 2.0366107125, 'left': 6.5073749444, 'right': 0}, (3, 0): {'up': 0, 'down': 0.0728493798, 'left': 0, 'right': 0.2420138558}, (3, 1): {'up': 0.2507111482, 'down': 1.2563214445, 'left': 0, 'right': 0.7709713388}, (3, 2): {'up': 1.1059873562, 'down': 0.1776164704, 'left': 0.5546960282, 'right': 0.383552624}, (3, 3): {'up': 0.4139467353, 'down': 2.0604828515, 'left': 0.6990644531, 'right': 0.3430015331}, (3, 4): {'up': 0.3653243488, 'down': 1.5628210469, 'left': 1.2403194675, 'right': 5.6975768285}, (3, 5): {'up': 0.766840465, 'down': 5.2239931724, 'left': 0.6393818983, 'right': 0}, (4, 0): {'up': 0, 'down': 0, 'left': 0, 'right': 0.1141520528}, (4, 1): {'up': 0.2521682681, 'down': 0, 'left': 0, 'right': 1.2120951201}, (4, 2): {'up': 0.3581708341, 'down': 0, 'left': 0.4561305078, 'right': 1.2503904116}, (4, 3): {'up': 0.3103014217, 'down': 0, 'left': 0.8922105374, 'right': 2.3799539537}, (4, 4): {'up': 0.4526404978, 'down': 0, 'left': 0.5224672789, 'right': 3.0700493785}, (4, 5): {'up': 4.6977776798, 'down': 0, 'left': 2.1739522291, 'right': 0}}\n"
     ]
    }
   ],
   "source": [
    "agent = Agent()\n",
    "start_time = datetime.datetime.now()\n",
    "agent.train()\n",
    "end_time = datetime.datetime.now()\n",
    "time_period = (end_time - start_time).total_seconds()\n",
    "print(agent.Q_values)"
   ]
  },
  {
   "cell_type": "code",
   "execution_count": 6,
   "metadata": {
    "scrolled": true
   },
   "outputs": [
    {
     "name": "stdout",
     "output_type": "stream",
     "text": [
      "Running time:  0.249846\n"
     ]
    }
   ],
   "source": [
    "print(\"Running time: \", time_period)"
   ]
  },
  {
   "cell_type": "code",
   "execution_count": 7,
   "metadata": {},
   "outputs": [
    {
     "name": "stdout",
     "output_type": "stream",
     "text": [
      "---------------------------------------\n",
      "|  right | right | right | right | down | right |\n",
      "---------------------------------------\n",
      "|  right | right | right | right | right | down |\n",
      "---------------------------------------\n",
      "|  down | down | left | down | down | left |\n",
      "---------------------------------------\n",
      "|  right | down | up | down | right | down |\n",
      "---------------------------------------\n",
      "|  right | right | right | right | right | up |\n",
      "---------------------------------------\n"
     ]
    }
   ],
   "source": [
    "agent.show_path()"
   ]
  },
  {
   "cell_type": "code",
   "execution_count": 8,
   "metadata": {},
   "outputs": [
    {
     "data": {
      "image/png": "[encoded data removed]",
      "text/plain": [
       "<Figure size 432x288 with 1 Axes>"
      ]
     },
     "metadata": {},
     "output_type": "display_data"
    }
   ],
   "source": [
    "import matplotlib.pyplot as plt\n",
    "%matplotlib inline\n",
    "x = []\n",
    "for i in range(1000):\n",
    "    x.append(i)\n",
    "y = agent.steps\n",
    "plt.plot(x,y)\n",
    "plt.ylabel('Number of Steps')\n",
    "plt.xlabel('Episode')\n",
    "plt.title('Q Learning Convergence')\n",
    "plt.show()"
   ]
  },
  {
   "cell_type": "code",
   "execution_count": 9,
   "metadata": {},
   "outputs": [
    {
     "name": "stdout",
     "output_type": "stream",
     "text": [
      "False\n",
      "False\n",
      "False\n",
      "False\n",
      "False\n",
      "False\n",
      "False\n",
      "False\n",
      "False\n",
      "False\n",
      "False\n",
      "False\n",
      "False\n",
      "False\n",
      "False\n",
      "False\n",
      "False\n",
      "False\n",
      "False\n",
      "False\n",
      "False\n",
      "False\n",
      "False\n",
      "False\n",
      "False\n",
      "False\n",
      "False\n",
      "False\n",
      "False\n",
      "False\n"
     ]
    }
   ],
   "source": [
    "past_all = []\n",
    "for i in range(BOARD_ROWS):\n",
    "    t = []\n",
    "    for j in range(BOARD_COLS):\n",
    "        t.append(False)\n",
    "    past_all.append(t)\n",
    "for i in range(BOARD_ROWS):\n",
    "    for j in range(BOARD_COLS):\n",
    "        print(past_all[i][j])"
   ]
  },
  {
   "cell_type": "code",
   "execution_count": null,
   "metadata": {},
   "outputs": [],
   "source": []
  }
 ],
 "metadata": {
  "kernelspec": {
   "display_name": "Python 3",
   "language": "python",
   "name": "python3"
  },
  "language_info": {
   "codemirror_mode": {
    "name": "ipython",
    "version": 3
   },
   "file_extension": ".py",
   "mimetype": "text/x-python",
   "name": "python",
   "nbconvert_exporter": "python",
   "pygments_lexer": "ipython3",
   "version": "3.6.4"
  }
 },
 "nbformat": 4,
 "nbformat_minor": 2
}
