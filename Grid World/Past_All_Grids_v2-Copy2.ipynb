{
 "cells": [
  {
   "cell_type": "markdown",
   "metadata": {},
   "source": [
    "# Grid World --- past all grids\n",
    "##### Charles Zhang\n",
    "##### Jun 17"
   ]
  },
  {
   "cell_type": "markdown",
   "metadata": {},
   "source": [
    "###  1. Cover and Get Back"
   ]
  },
  {
   "cell_type": "code",
   "execution_count": 1,
   "metadata": {},
   "outputs": [],
   "source": [
    "import numpy as np"
   ]
  },
  {
   "cell_type": "code",
   "execution_count": 2,
   "metadata": {},
   "outputs": [],
   "source": [
    "BOARD_ROWS = 4\n",
    "BOARD_COLS = 5\n",
    "START = (0, 0)\n",
    "END = (0, 0)"
   ]
  },
  {
   "cell_type": "code",
   "execution_count": 3,
   "metadata": {},
   "outputs": [],
   "source": [
    "class State:\n",
    "\n",
    "    def __init__(self, state=START):\n",
    "        self.board = np.zeros([BOARD_ROWS, BOARD_COLS])\n",
    "        self.state = state    # tuple of the coordinate\n",
    "        self.is_end = False\n",
    "\n",
    "    def check_end(self):\n",
    "        if self.state == END:\n",
    "            self.is_end = True\n",
    "\n",
    "    def next_position(self, action):\n",
    "        if action == \"up\":\n",
    "            next_state = (self.state[0] - 1, self.state[1])\n",
    "        elif action == \"down\":\n",
    "            next_state = (self.state[0] + 1, self.state[1])\n",
    "        elif action == \"left\":\n",
    "            next_state = (self.state[0], self.state[1] - 1)\n",
    "        else:\n",
    "            next_state = (self.state[0], self.state[1] + 1)\n",
    "        if (next_state[0] >= 0) and (next_state[0] < BOARD_ROWS):\n",
    "            if (next_state[1] >= 0) and (next_state[1] < BOARD_COLS):\n",
    "                return next_state\n",
    "        return self.state"
   ]
  },
  {
   "cell_type": "code",
   "execution_count": null,
   "metadata": {},
   "outputs": [],
   "source": [
    "class Agent:\n",
    "\n",
    "    def __init__(self):\n",
    "        self.actions = [\"up\", \"down\", \"left\", \"right\"]      # space\n",
    "        self.State = State()\n",
    "        self.is_end = self.State.is_end\n",
    "        self.alpha = 0.3\n",
    "        self.exp_rate = 1\n",
    "        self.decay_gamma = 0.9\n",
    "        self.Q_values = {}             # init Q values (dict)\n",
    "        for i in range(BOARD_ROWS):\n",
    "            for j in range(BOARD_COLS):\n",
    "                self.Q_values[(i, j)] = {}\n",
    "                for a in self.actions:\n",
    "                    self.Q_values[(i, j)][a] = 0\n",
    "        self.past_all = []\n",
    "        for i in range(BOARD_ROWS):\n",
    "            t = []\n",
    "            for j in range(BOARD_COLS): \n",
    "                t.append(False)\n",
    "            self.past_all.append(t)\n",
    "        self.steps = []\n",
    "    \n",
    "    def optimal_action(self):\n",
    "        max_value = -100\n",
    "        action = \"\"\n",
    "        for a in self.actions:\n",
    "            next_value = self.Q_values[self.State.state][a]\n",
    "            if next_value >= max_value:\n",
    "                action = a\n",
    "                max_value = next_value\n",
    "        return action\n",
    "    \n",
    "    def get_action(self):\n",
    "        if np.random.uniform(0, 1) <= self.exp_rate:\n",
    "            up = self.State.next_position(\"up\")\n",
    "            down = self.State.next_position(\"down\")\n",
    "            left = self.State.next_position(\"left\")\n",
    "            right = self.State.next_position(\"right\")\n",
    "            rule = [self.past_all[up[0]][up[1]] is True,\n",
    "                    self.past_all[down[0]][down[1]] is True,\n",
    "                    self.past_all[left[0]][left[1]] is True,\n",
    "                    self.past_all[right[0]][right[1]] is True ]\n",
    "            if all(rule):\n",
    "                action = np.random.choice(self.actions)\n",
    "                return action\n",
    "            else:\n",
    "                while True:\n",
    "                    action = np.random.choice(self.actions)\n",
    "                    next_state = self.State.next_position(action)\n",
    "                    if self.past_all[next_state[0]][next_state[1]] == False:\n",
    "                        return action\n",
    "                    else:\n",
    "                        continue\n",
    "        else:\n",
    "            return self.optimal_action()\n",
    "    \n",
    "    def give_reward(self):\n",
    "        reward = 0\n",
    "        if self.past_all[self.State.state[0]][self.State.state[1]] is False:\n",
    "            reward += 1\n",
    "        else:\n",
    "            reward -= .1\n",
    "        return reward\n",
    "    \n",
    "    def set_action(self, action):\n",
    "        curr_state = self.State.state\n",
    "        self.past_all[curr_state[0]][curr_state[1]] = True\n",
    "        next_state = self.State.next_position(action)  \n",
    "        self.State = State(state=next_state)\n",
    "        reward = self.give_reward()\n",
    "        if self.past_all[next_state[0]][next_state[1]] is False:\n",
    "            self.past_all[next_state[0]][next_state[1]] = True\n",
    "        if self.State.state==START and self.check_all_past():\n",
    "            reward += 1\n",
    "        qs_of_next_state = []\n",
    "        for q_value in self.Q_values[next_state]:  \n",
    "            qs_of_next_state.append(self.Q_values[next_state][q_value])\n",
    "        delta = self.alpha*(reward + self.decay_gamma*(max(qs_of_next_state)) -\n",
    "                            self.Q_values[curr_state][action])\n",
    "        self.Q_values[curr_state][action] = round(self.Q_values[curr_state][action]+delta, 4)\n",
    "        \n",
    "\n",
    "    def reset(self):\n",
    "        for i in range(BOARD_ROWS):\n",
    "            for j in range(BOARD_COLS):\n",
    "                self.past_all[i][j] = False\n",
    "        self.State = State()\n",
    "        self.is_end = self.State.is_end\n",
    "    \n",
    "    def check_all_past(self):\n",
    "        for i in self.past_all:\n",
    "            for j in i:\n",
    "                if j is False:\n",
    "                    return False\n",
    "        return True\n",
    "\n",
    "    def train(self, rounds=1000):\n",
    "        print(\"Training...\")\n",
    "        for r in range(rounds): \n",
    "            self.reset()\n",
    "            self.exp_rate *= 0.99\n",
    "            step = 0\n",
    "            while True:\n",
    "                action = self.get_action()\n",
    "                self.set_action(action)\n",
    "                self.State.check_end()\n",
    "                self.is_end = self.State.is_end\n",
    "                step += 1\n",
    "                if (self.is_end == True) and (self.check_all_past() == True):\n",
    "                # if self.check_all_past() == True:\n",
    "                    break\n",
    "            self.steps.append(step)\n",
    "        print(\"Training finished!\")"
   ]
  },
  {
   "cell_type": "code",
   "execution_count": null,
   "metadata": {
    "scrolled": false
   },
   "outputs": [
    {
     "name": "stdout",
     "output_type": "stream",
     "text": [
      "Training...\n"
     ]
    }
   ],
   "source": [
    "agent = Agent()\n",
    "agent.train()"
   ]
  },
  {
   "cell_type": "code",
   "execution_count": null,
   "metadata": {},
   "outputs": [],
   "source": [
    "agent.Q_values"
   ]
  },
  {
   "cell_type": "code",
   "execution_count": null,
   "metadata": {},
   "outputs": [],
   "source": [
    "import matplotlib.pyplot as plt\n",
    "%matplotlib inline\n",
    "x = []\n",
    "for i in range(1000):\n",
    "    x.append(i)\n",
    "y = agent.steps\n",
    "plt.plot(x,y)\n",
    "plt.ylabel('Number of Steps')\n",
    "plt.xlabel('Episode')\n",
    "plt.title('Q Learning Convergence')\n",
    "plt.show()"
   ]
  },
  {
   "cell_type": "code",
   "execution_count": null,
   "metadata": {},
   "outputs": [],
   "source": [
    "min(agent.steps)"
   ]
  },
  {
   "cell_type": "markdown",
   "metadata": {},
   "source": [
    "### Optimal Policy"
   ]
  },
  {
   "cell_type": "markdown",
   "metadata": {},
   "source": [
    "![](https://raw.githubusercontent.com/zcczhang/UAV_Coverage/master/Daily_Codes/Grid%20World/policy1.png)"
   ]
  },
  {
   "cell_type": "markdown",
   "metadata": {},
   "source": [
    "### 2. If the connected graph does not have a Euler's Path"
   ]
  },
  {
   "cell_type": "code",
   "execution_count": null,
   "metadata": {},
   "outputs": [],
   "source": [
    "BOARD_ROWS = 3\n",
    "BOARD_COLS = 3\n",
    "START = (0, 0)\n",
    "END = (0, 0)\n",
    "agent = Agent()\n",
    "agent.train()\n",
    "x = []\n",
    "for i in range(100):\n",
    "    x.append(i)\n",
    "y = agent.steps\n",
    "plt.plot(x,y)\n",
    "plt.ylabel('Number of Steps')\n",
    "plt.xlabel('Episode')\n",
    "plt.title('Q Learning Convergence')\n",
    "plt.show()"
   ]
  },
  {
   "cell_type": "markdown",
   "metadata": {},
   "source": [
    "If I set up the restriction that the agent should come back once covered all grids, not surprisingly, values in Q tables are very closed. "
   ]
  },
  {
   "cell_type": "code",
   "execution_count": null,
   "metadata": {},
   "outputs": [],
   "source": [
    "agent.Q_values"
   ]
  },
  {
   "cell_type": "code",
   "execution_count": null,
   "metadata": {},
   "outputs": [],
   "source": [
    "min(agent.steps)"
   ]
  },
  {
   "cell_type": "markdown",
   "metadata": {},
   "source": [
    "### 3. Task for only coverage not getting back"
   ]
  },
  {
   "cell_type": "code",
   "execution_count": null,
   "metadata": {},
   "outputs": [],
   "source": [
    "BOARD_ROWS = 3\n",
    "BOARD_COLS = 3\n",
    "START = (0, 0)\n",
    "# END = (0, 0)\n",
    "\n",
    "# only coverage not get back\n",
    "class Agent:\n",
    "\n",
    "    def __init__(self):\n",
    "        self.actions = [\"up\", \"down\", \"left\", \"right\"]      # space\n",
    "        self.State = State()\n",
    "        self.is_end = self.State.is_end\n",
    "        self.alpha = 0.3\n",
    "        self.exp_rate = 1\n",
    "        self.decay_gamma = 0.9\n",
    "        self.Q_values = {}             # init Q values (dict)\n",
    "        for i in range(BOARD_ROWS):\n",
    "            for j in range(BOARD_COLS):\n",
    "                self.Q_values[(i, j)] = {}\n",
    "                for a in self.actions:\n",
    "                    self.Q_values[(i, j)][a] = 0\n",
    "        self.past_all = []\n",
    "        for i in range(BOARD_ROWS):\n",
    "            t = []\n",
    "            for j in range(BOARD_COLS): \n",
    "                t.append(False)\n",
    "            self.past_all.append(t)\n",
    "        self.steps = []\n",
    "    \n",
    "    def optimal_action(self):\n",
    "        max_value = -100\n",
    "        action = \"\"\n",
    "        for a in self.actions:\n",
    "            next_value = self.Q_values[self.State.state][a]\n",
    "            if next_value >= max_value:\n",
    "                action = a\n",
    "                max_value = next_value\n",
    "        return action\n",
    "    \n",
    "    def get_action(self):\n",
    "        if np.random.uniform(0, 1) <= self.exp_rate:\n",
    "            up = self.State.next_position(\"up\")\n",
    "            down = self.State.next_position(\"down\")\n",
    "            left = self.State.next_position(\"left\")\n",
    "            right = self.State.next_position(\"right\")\n",
    "            rule = [self.past_all[up[0]][up[1]] is True,\n",
    "                    self.past_all[down[0]][down[1]] is True,\n",
    "                    self.past_all[left[0]][left[1]] is True,\n",
    "                    self.past_all[right[0]][right[1]] is True ]\n",
    "            if all(rule):\n",
    "                action = np.random.choice(self.actions)\n",
    "                return action\n",
    "            else:\n",
    "                while True:\n",
    "                    action = np.random.choice(self.actions)\n",
    "                    next_state = self.State.next_position(action)\n",
    "                    if self.past_all[next_state[0]][next_state[1]] == False:\n",
    "                        return action\n",
    "                    else:\n",
    "                        continue\n",
    "        else:\n",
    "            return self.optimal_action()\n",
    "    \n",
    "    def give_reward(self):\n",
    "        reward = 0\n",
    "        if self.past_all[self.State.state[0]][self.State.state[1]] is False:\n",
    "            reward += 1\n",
    "        else:\n",
    "            reward -= .1\n",
    "        return reward\n",
    "    \n",
    "    def set_action(self, action):\n",
    "        curr_state = self.State.state\n",
    "        self.past_all[curr_state[0]][curr_state[1]] = True\n",
    "        next_state = self.State.next_position(action)  \n",
    "        self.State = State(state=next_state)\n",
    "        reward = self.give_reward()\n",
    "        if self.past_all[next_state[0]][next_state[1]] is False:\n",
    "            self.past_all[next_state[0]][next_state[1]] = True\n",
    "#         if self.State.state==START and self.check_all_past():\n",
    "#             reward += 1\n",
    "        qs_of_next_state = []\n",
    "        for q_value in self.Q_values[next_state]:  \n",
    "            qs_of_next_state.append(self.Q_values[next_state][q_value])\n",
    "        delta = self.alpha*(reward + self.decay_gamma*(max(qs_of_next_state)) -\n",
    "                            self.Q_values[curr_state][action])\n",
    "        self.Q_values[curr_state][action] = round(self.Q_values[curr_state][action]+delta, 4)\n",
    "        \n",
    "\n",
    "    def reset(self):\n",
    "        for i in range(BOARD_ROWS):\n",
    "            for j in range(BOARD_COLS):\n",
    "                self.past_all[i][j] = False\n",
    "        self.State = State()\n",
    "        self.is_end = self.State.is_end\n",
    "    \n",
    "    def check_all_past(self):\n",
    "        for i in self.past_all:\n",
    "            for j in i:\n",
    "                if j is False:\n",
    "                    return False\n",
    "        return True\n",
    "\n",
    "    def train(self, rounds=100):\n",
    "        print(\"Training...\")\n",
    "        for r in range(rounds): \n",
    "            self.reset()\n",
    "            self.exp_rate *= 0.9\n",
    "            step = 0\n",
    "            while True:\n",
    "                action = self.get_action()\n",
    "                self.set_action(action)\n",
    "                self.State.check_end()\n",
    "                self.is_end = self.State.is_end\n",
    "                step += 1\n",
    "                #if (self.is_end == True) and (self.check_all_past() == True):\n",
    "                if self.check_all_past() == True:\n",
    "                    break\n",
    "            self.steps.append(step)\n",
    "        print(\"Training finished!\")"
   ]
  },
  {
   "cell_type": "code",
   "execution_count": null,
   "metadata": {},
   "outputs": [],
   "source": [
    "agent = Agent()\n",
    "agent.train()\n",
    "x = []\n",
    "for i in range(100):\n",
    "    x.append(i)\n",
    "y = agent.steps\n",
    "plt.plot(x,y)\n",
    "plt.ylabel('Number of Steps')\n",
    "plt.xlabel('Episode')\n",
    "plt.title('Q Learning Convergence')\n",
    "plt.show()"
   ]
  },
  {
   "cell_type": "code",
   "execution_count": null,
   "metadata": {},
   "outputs": [],
   "source": [
    "agent.Q_values"
   ]
  },
  {
   "cell_type": "code",
   "execution_count": null,
   "metadata": {},
   "outputs": [],
   "source": [
    "min(agent.steps)"
   ]
  },
  {
   "cell_type": "markdown",
   "metadata": {},
   "source": [
    "### Optimal  Policy"
   ]
  },
  {
   "cell_type": "markdown",
   "metadata": {},
   "source": [
    "![](https://raw.githubusercontent.com/zcczhang/UAV_Coverage/master/Daily_Codes/Grid%20World/policy2.jpeg)"
   ]
  }
 ],
 "metadata": {
  "kernelspec": {
   "display_name": "Python 3",
   "language": "python",
   "name": "python3"
  },
  "language_info": {
   "codemirror_mode": {
    "name": "ipython",
    "version": 3
   },
   "file_extension": ".py",
   "mimetype": "text/x-python",
   "name": "python",
   "nbconvert_exporter": "python",
   "pygments_lexer": "ipython3",
   "version": "3.6.4"
  }
 },
 "nbformat": 4,
 "nbformat_minor": 2
}
