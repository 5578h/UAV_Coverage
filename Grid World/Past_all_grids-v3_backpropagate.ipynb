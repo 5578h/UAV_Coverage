{
 "cells": [
  {
   "cell_type": "code",
   "execution_count": 1,
   "metadata": {},
   "outputs": [],
   "source": [
    "import numpy as np"
   ]
  },
  {
   "cell_type": "code",
   "execution_count": 2,
   "metadata": {},
   "outputs": [],
   "source": [
    "BOARD_ROWS = 3\n",
    "BOARD_COLS = 4\n",
    "START = (0, 0)"
   ]
  },
  {
   "cell_type": "code",
   "execution_count": 3,
   "metadata": {},
   "outputs": [],
   "source": [
    "class State:\n",
    "\n",
    "    def __init__(self, state=START):\n",
    "        self.board = np.zeros([BOARD_ROWS, BOARD_COLS])\n",
    "        self.state = state    # tuple of the coordinate\n",
    "        self.is_end = False\n",
    "\n",
    "    def check_end(self):\n",
    "        if self.state == START:\n",
    "            self.is_end = True\n",
    "\n",
    "    def next_position(self, action):\n",
    "        if action == \"up\":\n",
    "            next_state = (self.state[0] - 1, self.state[1])\n",
    "        elif action == \"down\":\n",
    "            next_state = (self.state[0] + 1, self.state[1])\n",
    "        elif action == \"left\":\n",
    "            next_state = (self.state[0], self.state[1] - 1)\n",
    "        else:\n",
    "            next_state = (self.state[0], self.state[1] + 1)\n",
    "        if (next_state[0] >= 0) and (next_state[0] < BOARD_ROWS):\n",
    "            if (next_state[1] >= 0) and (next_state[1] < BOARD_COLS):\n",
    "                return next_state\n",
    "        return self.state\n"
   ]
  },
  {
   "cell_type": "code",
   "execution_count": 4,
   "metadata": {},
   "outputs": [],
   "source": [
    "class Agent:\n",
    "\n",
    "    def __init__(self):\n",
    "        self.actions = [\"up\", \"down\", \"left\", \"right\"]  # space\n",
    "        self.State = State()\n",
    "        self.is_end = self.State.is_end\n",
    "        self.alpha = 0.3\n",
    "        self.exp_rate = .3\n",
    "        self.decay_gamma = 0.9\n",
    "        self.Q_values = {}  # init Q values (dict)\n",
    "        for i in range(BOARD_ROWS):\n",
    "            for j in range(BOARD_COLS):\n",
    "                self.Q_values[(i, j)] = {}\n",
    "                for a in self.actions:\n",
    "                    self.Q_values[(i, j)][a] = 0\n",
    "        self.past_all = []\n",
    "        for i in range(BOARD_ROWS):\n",
    "            t = []\n",
    "            for j in range(BOARD_COLS):\n",
    "                t.append(False)\n",
    "            self.past_all.append(t)\n",
    "\n",
    "        self.steps = []\n",
    "        self.stop = False\n",
    "        self.states = []\n",
    "\n",
    "    def optimal_action(self):\n",
    "        max_value = -10000\n",
    "        action = \"\"\n",
    "        for a in self.actions:\n",
    "            next_value = self.Q_values[self.State.state][a]\n",
    "            if next_value >= max_value:\n",
    "                action = a\n",
    "                max_value = next_value\n",
    "        return action\n",
    "\n",
    "    def get_actions(self):\n",
    "        i, j = self.State.state[0], self.State.state[1]\n",
    "        potential_position = []\n",
    "        if i + 1 < BOARD_ROWS:\n",
    "            potential_position.append(\"down\")\n",
    "        if i - 1 > 0:\n",
    "            potential_position.append(\"up\")\n",
    "        if j + 1 < BOARD_COLS:\n",
    "            potential_position.append(\"right\")\n",
    "        if j - 1 > 0:\n",
    "            potential_position.append(\"left\")\n",
    "        return potential_position\n",
    "\n",
    "    def get_action(self):\n",
    "        \"\"\"\n",
    "        The agent should choose randomly among the positions that have\n",
    "        not been visited, and if all possible positions are visited,\n",
    "        then move randomly and receive a negative reward\n",
    "        \"\"\"\n",
    "        actions = self.get_actions()\n",
    "        if np.random.uniform(0, 1) <= self.exp_rate:\n",
    "            b = True\n",
    "            for a in actions:\n",
    "                position = self.State.next_position(a)\n",
    "                if self.past_all[position[0]][position[1]] is False:\n",
    "                    b = False\n",
    "            if b:\n",
    "                action = np.random.choice(actions)\n",
    "                return action\n",
    "            # Else try to get an available unvisited position randomly\n",
    "            else:\n",
    "                while True:\n",
    "                    action = np.random.choice(actions)\n",
    "                    next_state = self.State.next_position(action)\n",
    "                    if self.past_all[next_state[0]][next_state[1]] is False:\n",
    "                        return action\n",
    "                    else:\n",
    "                        continue\n",
    "        else:\n",
    "            return self.optimal_action()\n",
    "\n",
    "    def give_reward(self):\n",
    "        reward = 0\n",
    "        if self.State.state == START and self.check_all_past():\n",
    "            reward += 10\n",
    "        return reward\n",
    "\n",
    "    def set_action(self, action):\n",
    "        next_state = self.State.next_position(self.get_action())\n",
    "        # self.State = State(state=next_state)\n",
    "        return State(state=next_state)\n",
    "\n",
    "    def reset(self):\n",
    "        for i in range(BOARD_ROWS):\n",
    "            for j in range(BOARD_COLS):\n",
    "                self.past_all[i][j] = False\n",
    "        self.State = State()\n",
    "        self.is_end = self.State.is_end\n",
    "        self.stop = False\n",
    "        self.states = []\n",
    "\n",
    "    def check_all_past(self):\n",
    "        for i in self.past_all:\n",
    "            for j in i:\n",
    "                if j is False:\n",
    "                    return False\n",
    "        return True\n",
    "\n",
    "    def train(self, rounds=1000):\n",
    "        print(\"Training...\")\n",
    "        i = 1\n",
    "        while i <= rounds:\n",
    "            if self.stop:\n",
    "                if self.is_end and self.check_all_past():\n",
    "                    reward = 1\n",
    "                else:\n",
    "                    reward = -1\n",
    "                for a in self.actions:\n",
    "                    self.Q_values[self.State.state][a] = reward\n",
    "                for s in reversed(self.states):\n",
    "                    current_q_value = self.Q_values[s[0]][s[1]]\n",
    "                    reward = current_q_value + self.alpha * (self.decay_gamma*reward - current_q_value)\n",
    "                    self.Q_values[s[0]][s[1]] = round(reward,4)\n",
    "                i += 1\n",
    "                self.steps.append(len(self.states))\n",
    "                self.reset()\n",
    "            else:\n",
    "                curr_state = self.State.state\n",
    "                self.past_all[curr_state[0]][curr_state[1]] = True\n",
    "                action = self.get_action()\n",
    "                self.states.append([(self.State.state), action])\n",
    "                self.State = self.set_action(action)\n",
    "                if self.past_all[self.State.state[0]][self.State.state[1]] is False:\n",
    "                    self.past_all[self.State.state[0]][self.State.state[1]] = True\n",
    "                else:\n",
    "                    self.stop = True\n",
    "                self.State.check_end()  \n",
    "                self.is_end = self.State.is_end\n",
    "        print(\"Training finished!\")\n",
    "\n",
    "    def show_path(self):\n",
    "        for i in range(BOARD_ROWS):\n",
    "            print('---------------------------------------')\n",
    "            row_string = \"| \"\n",
    "            for j in range(BOARD_COLS):\n",
    "                best_move = \"\"\n",
    "                best_val = -100000000\n",
    "                for a in self.Q_values[(i,j)]:\n",
    "                    if self.Q_values[(i, j)][a] > best_val:\n",
    "                        best_val = self.Q_values[(i,j)][a]\n",
    "                        best_move = a\n",
    "                row_string = row_string + \" \" + best_move + \" |\"\n",
    "            print(row_string)\n",
    "        print('---------------------------------------')"
   ]
  },
  {
   "cell_type": "code",
   "execution_count": 5,
   "metadata": {},
   "outputs": [
    {
     "name": "stdout",
     "output_type": "stream",
     "text": [
      "Training...\n",
      "Training finished!\n",
      "{(0, 0): {'up': -1, 'down': -0.6451, 'left': -1, 'right': -0.6535}, (0, 1): {'up': -1, 'down': -0.7193, 'left': -1, 'right': -0.6821}, (0, 2): {'up': -1, 'down': -0.7815, 'left': -1, 'right': -0.7645}, (0, 3): {'up': -0.97, 'down': -0.8285, 'left': -1, 'right': -1}, (1, 0): {'up': -1, 'down': -0.7785, 'left': -1, 'right': -0.8017}, (1, 1): {'up': -1, 'down': -1, 'left': -1, 'right': -0.9326}, (1, 2): {'up': -1, 'down': -1, 'left': -1, 'right': -0.8615}, (1, 3): {'up': -1, 'down': -0.8256, 'left': -1, 'right': -1}, (2, 0): {'up': -1, 'down': -1, 'left': -1, 'right': -0.7973}, (2, 1): {'up': -0.8541, 'down': -1, 'left': -1, 'right': -0.9368}, (2, 2): {'up': -0.97, 'down': -1, 'left': -0.7691, 'right': -0.9387}, (2, 3): {'up': -0.9619, 'down': -1, 'left': -0.7254, 'right': -1}}\n"
     ]
    }
   ],
   "source": [
    "agent = Agent()\n",
    "agent.train()\n",
    "print(agent.Q_values)"
   ]
  },
  {
   "cell_type": "code",
   "execution_count": 6,
   "metadata": {},
   "outputs": [
    {
     "name": "stdout",
     "output_type": "stream",
     "text": [
      "---------------------------------------\n",
      "|  down | right | right | down |\n",
      "---------------------------------------\n",
      "|  down | right | right | down |\n",
      "---------------------------------------\n",
      "|  right | up | left | left |\n",
      "---------------------------------------\n"
     ]
    }
   ],
   "source": [
    "agent.show_path()"
   ]
  },
  {
   "cell_type": "code",
   "execution_count": 7,
   "metadata": {},
   "outputs": [
    {
     "data": {
      "image/png": "[encoded data removed]",
      "text/plain": [
       "<Figure size 432x288 with 1 Axes>"
      ]
     },
     "metadata": {},
     "output_type": "display_data"
    }
   ],
   "source": [
    "import matplotlib.pyplot as plt\n",
    "%matplotlib inline\n",
    "x = []\n",
    "for i in range(1000):\n",
    "    x.append(i)\n",
    "y = agent.steps\n",
    "plt.plot(x,y)\n",
    "plt.ylabel('Number of Steps')\n",
    "plt.xlabel('Episode')\n",
    "plt.title('Q Learning Convergence')\n",
    "plt.show()"
   ]
  }
 ],
 "metadata": {
  "kernelspec": {
   "display_name": "Python 3",
   "language": "python",
   "name": "python3"
  },
  "language_info": {
   "codemirror_mode": {
    "name": "ipython",
    "version": 3
   },
   "file_extension": ".py",
   "mimetype": "text/x-python",
   "name": "python",
   "nbconvert_exporter": "python",
   "pygments_lexer": "ipython3",
   "version": "3.6.4"
  }
 },
 "nbformat": 4,
 "nbformat_minor": 2
}
