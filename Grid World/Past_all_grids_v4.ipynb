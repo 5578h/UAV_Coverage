{
 "cells": [
  {
   "cell_type": "code",
   "execution_count": 1,
   "metadata": {},
   "outputs": [],
   "source": [
    "import numpy as np\n",
    "import datetime\n",
    "import time"
   ]
  },
  {
   "cell_type": "code",
   "execution_count": 2,
   "metadata": {},
   "outputs": [],
   "source": [
    "BOARD_ROWS = 3\n",
    "BOARD_COLS = 4\n",
    "START = (0, 0)\n",
    "END = (0, 0)"
   ]
  },
  {
   "cell_type": "code",
   "execution_count": 3,
   "metadata": {},
   "outputs": [],
   "source": [
    "class State:\n",
    "\n",
    "    def __init__(self, state=START):\n",
    "        self.board = np.zeros([BOARD_ROWS, BOARD_COLS])\n",
    "        self.state = state    # tuple of the coordinate\n",
    "        self.is_end = False\n",
    "\n",
    "    def next_position(self, action):\n",
    "        if action == \"up\":\n",
    "            next_state = (self.state[0] - 1, self.state[1])\n",
    "        elif action == \"down\":\n",
    "            next_state = (self.state[0] + 1, self.state[1])\n",
    "        elif action == \"left\":\n",
    "            next_state = (self.state[0], self.state[1] - 1)\n",
    "        else:\n",
    "            next_state = (self.state[0], self.state[1] + 1)\n",
    "        if (next_state[0] >= 0) and (next_state[0] < BOARD_ROWS):\n",
    "            if (next_state[1] >= 0) and (next_state[1] < BOARD_COLS):\n",
    "                return next_state\n",
    "        return self.state\n"
   ]
  },
  {
   "cell_type": "code",
   "execution_count": 4,
   "metadata": {},
   "outputs": [],
   "source": [
    "class Agent:\n",
    "\n",
    "    def __init__(self):\n",
    "        self.State = State()\n",
    "        self.actions = [\"up\", \"down\", \"left\", \"right\"]\n",
    "        self.alpha = 0.3\n",
    "        self.exp_rate = .9\n",
    "        self.decay_gamma = 0.9\n",
    "        self.Q_values = {}  # init Q values (dict)\n",
    "        for i in range(BOARD_ROWS):\n",
    "            for j in range(BOARD_COLS):\n",
    "                self.Q_values[(i, j)] = {}\n",
    "                for a in self.actions:\n",
    "                    self.Q_values[(i, j)][a] = 0\n",
    "        self.past_all = []\n",
    "        for i in range(BOARD_ROWS):\n",
    "            t = []\n",
    "            for j in range(BOARD_COLS):\n",
    "                t.append(False)\n",
    "            self.past_all.append(t)\n",
    "\n",
    "        self.steps = []\n",
    "        self.done = False\n",
    "        self.step = 0\n",
    "        self.states=[]\n",
    "        self.all_states=[]\n",
    "        self.result = \"\"\n",
    "    \n",
    "    # get the possible action space\n",
    "    def get_actions(self,state):\n",
    "        i, j = state[0], state[1]\n",
    "        potential_position = []\n",
    "        if i + 1 < BOARD_ROWS:\n",
    "            potential_position.append(\"down\")\n",
    "        if i - 1 >= 0:\n",
    "            potential_position.append(\"up\")\n",
    "        if j + 1 < BOARD_COLS:\n",
    "            potential_position.append(\"right\")\n",
    "        if j - 1 >= 0:\n",
    "            potential_position.append(\"left\")\n",
    "        return potential_position\n",
    "    \n",
    "    def optimal_action(self):\n",
    "        max_value = -10000\n",
    "        action = \"\"\n",
    "        actions = self.get_actions(self.State.state)\n",
    "        for a in actions:\n",
    "            next_value = self.Q_values[self.State.state][a]\n",
    "            if next_value >= max_value:\n",
    "                action = a\n",
    "                max_value = next_value\n",
    "        return action\n",
    "    \n",
    "    def get_action(self):\n",
    "        \"\"\"\n",
    "        The agent should choose randomly among the positions that have\n",
    "        not been visited, and if all possible positions are visited, \n",
    "        then move randomly and the game is failing\n",
    "        \"\"\"\n",
    "        actions = self.get_actions(state = self.State.state)\n",
    "        if np.random.uniform(0, 1) <= self.exp_rate:\n",
    "            t = []\n",
    "            for a in actions:\n",
    "                p = self.State.next_position(a)\n",
    "                if self.past_all[p[0]][p[1]] is True:\n",
    "                    t.append(1)\n",
    "                else:\n",
    "                    t.append(0)\n",
    "            if sum(t) == len(t):\n",
    "                return np.random.choice(actions)\n",
    "            else:\n",
    "                while True:\n",
    "                    action = np.random.choice(actions)\n",
    "                    next_state = self.State.next_position(action)\n",
    "                    if self.past_all[next_state[0]][next_state[1]] is False:\n",
    "                        return action\n",
    "                    continue\n",
    "        else:\n",
    "            return self.optimal_action()\n",
    "\n",
    "    def check_all_past(self):\n",
    "        for i in self.past_all:\n",
    "            for j in i:\n",
    "                if j is False:\n",
    "                    return False\n",
    "        return True\n",
    "    \n",
    "    def check_win(self):\n",
    "        if self.State.state == END and self.check_all_past():\n",
    "            self.result = \"win\"\n",
    "        # find if all grids around the unvisit grid are visited\n",
    "        for i in range(BOARD_ROWS):\n",
    "            for j in range(BOARD_COLS):\n",
    "                if self.past_all[i][j] is False:\n",
    "                    t = []\n",
    "                    actions = self.get_actions(state = (i, j))\n",
    "                    for a in actions:\n",
    "                        p = State(state=(i,j)).next_position(a)\n",
    "                        if self.past_all[p[0]][p[1]] is True:\n",
    "                            t.append(1)\n",
    "                        else:\n",
    "                            t.append(0)\n",
    "                    if sum(t) == len(t):\n",
    "                        self.result = \"loss\"\n",
    "            continue\n",
    "        \n",
    "        if self.result == \"win\" or self.result == \"loss\":\n",
    "            self.done = True\n",
    "         \n",
    "    def give_reward(self):\n",
    "        reward = 1\n",
    "        if self.result == \"win\":\n",
    "            reward += 1\n",
    "        if self.result == \"loss\":\n",
    "            reward -= 1\n",
    "        return reward\n",
    "    \n",
    "    def set_action(self, action):\n",
    "        self.step += 1\n",
    "        curr_state = self.State.state\n",
    "        self.states.append(curr_state)\n",
    "        self.past_all[curr_state[0]][curr_state[1]] = True\n",
    "        next_state = self.State.next_position(self.get_action())\n",
    "        self.State = State(state=next_state)\n",
    "        \n",
    "        reward = self.give_reward()\n",
    "        if self.past_all[next_state[0]][next_state[1]] is False:\n",
    "            self.past_all[next_state[0]][next_state[1]] = True\n",
    "        else:\n",
    "            self.done = True\n",
    "            reward -= 1   # penalty for repeat\n",
    "            \n",
    "        qs_of_next_state = []\n",
    "        for q_value in self.Q_values[next_state]:\n",
    "            qs_of_next_state.append(self.Q_values[next_state][q_value])\n",
    "        delta = self.alpha * (reward + self.decay_gamma * (max(qs_of_next_state)) -\n",
    "                              self.Q_values[curr_state][action])\n",
    "        self.Q_values[curr_state][action] = round(self.Q_values[curr_state][action] + delta, 4)\n",
    "    \n",
    "    def reset(self):\n",
    "        for i in range(BOARD_ROWS):\n",
    "            for j in range(BOARD_COLS):\n",
    "                self.past_all[i][j] = False\n",
    "        self.State = State()\n",
    "        self.done = False\n",
    "        self.step = 0\n",
    "        self.states=[]\n",
    "        self.result = \"\"\n",
    "        \n",
    "    def train(self, rounds=1000):\n",
    "        print(\"Training...\")\n",
    "        for r in range(rounds):\n",
    "            self.reset()\n",
    "            self.exp_rate *= 0.99\n",
    "            while not self.done:\n",
    "                self.check_win()\n",
    "                action = self.get_action()\n",
    "                self.set_action(action)\n",
    "            self.steps.append(self.step)\n",
    "            self.all_states.append(self.states)\n",
    "        print(\"Training finished!\")\n",
    "    \n",
    "    def show_path(self):\n",
    "        for i in range(BOARD_ROWS):\n",
    "            print('---------------------------------------')\n",
    "            row_string = \"| \"\n",
    "            for j in range(BOARD_COLS):\n",
    "                best_move = \"\"\n",
    "                best_val = -1000000\n",
    "                for a in self.Q_values[(i,j)]:\n",
    "                    if self.Q_values[(i, j)][a] > best_val:\n",
    "                        best_val = self.Q_values[(i,j)][a]\n",
    "                        best_move = a\n",
    "                row_string = row_string + \" \" + best_move + \" |\"\n",
    "            print(row_string)\n",
    "        print('---------------------------------------')   "
   ]
  },
  {
   "cell_type": "code",
   "execution_count": 5,
   "metadata": {},
   "outputs": [
    {
     "name": "stdout",
     "output_type": "stream",
     "text": [
      "Training...\n",
      "Training finished!\n",
      "{(0, 0): {'up': 0, 'down': 7.5752, 'left': 0, 'right': 8.4534}, (0, 1): {'up': 0, 'down': 8.2817, 'left': 0, 'right': 7.5111}, (0, 2): {'up': 0, 'down': 6.3347, 'left': 3.0461, 'right': 5.2693}, (0, 3): {'up': 0, 'down': 4.9874, 'left': 5.5168, 'right': 0}, (1, 0): {'up': 0, 'down': 6.6408, 'left': 0, 'right': 7.5462}, (1, 1): {'up': 4.0066, 'down': 7.3376, 'left': 6.5557, 'right': 8.0909}, (1, 2): {'up': 5.4953, 'down': 7.8789, 'left': 3.7082, 'right': 6.7199}, (1, 3): {'up': 6.7168, 'down': 5.5583, 'left': 7.0909, 'right': 0}, (2, 0): {'up': 2.4307, 'down': 0, 'left': 0, 'right': 5.5268}, (2, 1): {'up': 6.9654, 'down': 0, 'left': 5.3944, 'right': 4.9821}, (2, 2): {'up': 2.2436, 'down': 0, 'left': 6.7735, 'right': 7.6434}, (2, 3): {'up': 7.3817, 'down': 0, 'left': 3.4764, 'right': 0}}\n"
     ]
    }
   ],
   "source": [
    "agent = Agent()\n",
    "start_time = datetime.datetime.now()\n",
    "agent.train()\n",
    "end_time = datetime.datetime.now()\n",
    "time_period = (end_time - start_time).total_seconds()\n",
    "print(agent.Q_values)"
   ]
  },
  {
   "cell_type": "code",
   "execution_count": 6,
   "metadata": {},
   "outputs": [
    {
     "name": "stdout",
     "output_type": "stream",
     "text": [
      "Running time:  0.524136\n"
     ]
    }
   ],
   "source": [
    "print(\"Running time: \", time_period)"
   ]
  },
  {
   "cell_type": "code",
   "execution_count": 7,
   "metadata": {},
   "outputs": [
    {
     "name": "stdout",
     "output_type": "stream",
     "text": [
      "---------------------------------------\n",
      "|  right | down | down | left |\n",
      "---------------------------------------\n",
      "|  right | right | down | left |\n",
      "---------------------------------------\n",
      "|  right | up | right | up |\n",
      "---------------------------------------\n"
     ]
    }
   ],
   "source": [
    "agent.show_path()"
   ]
  },
  {
   "cell_type": "code",
   "execution_count": 8,
   "metadata": {},
   "outputs": [
    {
     "data": {
      "image/png": "[encoded data removed]",
      "text/plain": [
       "<Figure size 432x288 with 1 Axes>"
      ]
     },
     "metadata": {},
     "output_type": "display_data"
    }
   ],
   "source": [
    "import matplotlib.pyplot as plt\n",
    "%matplotlib inline\n",
    "x = []\n",
    "for i in range(1000):\n",
    "    x.append(i)\n",
    "y = agent.steps\n",
    "plt.plot(x,y)\n",
    "plt.ylabel('Number of Steps')\n",
    "plt.xlabel('Episode')\n",
    "plt.title('Q Learning Convergence')\n",
    "plt.show()"
   ]
  },
  {
   "cell_type": "code",
   "execution_count": 9,
   "metadata": {},
   "outputs": [],
   "source": [
    "# agent.all_states"
   ]
  }
 ],
 "metadata": {
  "kernelspec": {
   "display_name": "Python 3",
   "language": "python",
   "name": "python3"
  },
  "language_info": {
   "codemirror_mode": {
    "name": "ipython",
    "version": 3
   },
   "file_extension": ".py",
   "mimetype": "text/x-python",
   "name": "python",
   "nbconvert_exporter": "python",
   "pygments_lexer": "ipython3",
   "version": "3.6.4"
  }
 },
 "nbformat": 4,
 "nbformat_minor": 2
}
