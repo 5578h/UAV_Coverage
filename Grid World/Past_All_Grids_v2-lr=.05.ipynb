{
 "cells": [
  {
   "cell_type": "markdown",
   "metadata": {},
   "source": [
    "# Grid World --- past all grids (agent prefer to visit unvisited grids)\n",
    "##### Charles Zhang\n",
    "##### Jun 17"
   ]
  },
  {
   "cell_type": "markdown",
   "metadata": {},
   "source": [
    "###  1. Cover and Get Back"
   ]
  },
  {
   "cell_type": "code",
   "execution_count": 1,
   "metadata": {},
   "outputs": [],
   "source": [
    "import numpy as np\n",
    "import datetime"
   ]
  },
  {
   "cell_type": "code",
   "execution_count": 2,
   "metadata": {},
   "outputs": [],
   "source": [
    "BOARD_ROWS = 4\n",
    "BOARD_COLS = 5\n",
    "START = (0, 0)\n",
    "END = (0, 0)"
   ]
  },
  {
   "cell_type": "code",
   "execution_count": 3,
   "metadata": {},
   "outputs": [],
   "source": [
    "class State:\n",
    "\n",
    "    def __init__(self, state=START):\n",
    "        self.board = np.zeros([BOARD_ROWS, BOARD_COLS])\n",
    "        self.state = state    # tuple of the coordinate\n",
    "        self.is_end = False\n",
    "\n",
    "    def check_end(self):\n",
    "        if self.state == END:\n",
    "            self.is_end = True\n",
    "\n",
    "    def next_position(self, action):\n",
    "        if action == \"up\":\n",
    "            next_state = (self.state[0] - 1, self.state[1])\n",
    "        elif action == \"down\":\n",
    "            next_state = (self.state[0] + 1, self.state[1])\n",
    "        elif action == \"left\":\n",
    "            next_state = (self.state[0], self.state[1] - 1)\n",
    "        else:\n",
    "            next_state = (self.state[0], self.state[1] + 1)\n",
    "        # boundary condition \n",
    "        if (next_state[0] >= 0) and (next_state[0] < BOARD_ROWS):\n",
    "            if (next_state[1] >= 0) and (next_state[1] < BOARD_COLS):\n",
    "                return next_state\n",
    "        return self.state"
   ]
  },
  {
   "cell_type": "code",
   "execution_count": 4,
   "metadata": {},
   "outputs": [],
   "source": [
    "class Agent:\n",
    "\n",
    "    def __init__(self):\n",
    "        self.actions = [\"up\", \"down\", \"left\", \"right\"]      # space\n",
    "        self.State = State()\n",
    "        self.is_end = self.State.is_end\n",
    "        self.alpha = 0.05      # learning rate\n",
    "        self.exp_rate = 1     # epsilon-greedy parameter\n",
    "        self.decay_gamma = 0.9\n",
    "        self.Q_values = {}             # init Q table (dict)\n",
    "        for i in range(BOARD_ROWS):    \n",
    "            for j in range(BOARD_COLS):\n",
    "                self.Q_values[(i, j)] = {}\n",
    "                for a in self.actions:\n",
    "                    self.Q_values[(i, j)][a] = 0\n",
    "        # init a list to check if each grid is past          \n",
    "        self.past_all = np.zeros((BOARD_ROWS, BOARD_COLS), dtype=bool).tolist()\n",
    "        self.steps = []         # store the steps for each episode \n",
    "    \n",
    "    def optimal_action(self):\n",
    "        # greedy move\n",
    "        max_value = -10000\n",
    "        action = \"\"\n",
    "        for a in self.actions:\n",
    "            next_value = self.Q_values[self.State.state][a]\n",
    "            if next_value >= max_value:\n",
    "                action = a\n",
    "                max_value = next_value\n",
    "        return action\n",
    "    \n",
    "    def get_action(self):\n",
    "        \"\"\"\n",
    "        The agent should choose randomly among the positions that have\n",
    "        not been visited, and if all possible positions are visited, \n",
    "        then move randomly and receive a negative reward\n",
    "        \"\"\"\n",
    "        if np.random.uniform(0, 1) <= self.exp_rate:\n",
    "            # Get four potential positions of the current state\n",
    "            up = self.State.next_position(\"up\")\n",
    "            down = self.State.next_position(\"down\")\n",
    "            left = self.State.next_position(\"left\")\n",
    "            right = self.State.next_position(\"right\")\n",
    "            # Check if all potential positions are visited\n",
    "            rule = [self.past_all[up[0]][up[1]] is True,\n",
    "                    self.past_all[down[0]][down[1]] is True,\n",
    "                    self.past_all[left[0]][left[1]] is True,\n",
    "                    self.past_all[right[0]][right[1]] is True ]\n",
    "            # If all are visited, return a random action\n",
    "            if all(rule):\n",
    "                action = np.random.choice(self.actions)\n",
    "                return action\n",
    "            # Else try to get an available unvisited position randomly\n",
    "            else:\n",
    "                while True:\n",
    "                    action = np.random.choice(self.actions)\n",
    "                    next_state = self.State.next_position(action)\n",
    "                    if self.past_all[next_state[0]][next_state[1]] is False:\n",
    "                        return action\n",
    "                    else:\n",
    "                        continue\n",
    "        else:\n",
    "            return self.optimal_action()\n",
    "    \n",
    "    def give_reward(self):\n",
    "        \"\"\"\n",
    "        + 1 reward for visiting the unvisited grid\n",
    "        -.1 reward for visiting the visited grid\n",
    "        \"\"\"\n",
    "        reward = 0\n",
    "        if self.past_all[self.State.state[0]][self.State.state[1]] is False:\n",
    "            reward += 1\n",
    "        else:\n",
    "            reward -= .1\n",
    "        return reward\n",
    "    \n",
    "    def set_action(self, action):\n",
    "        # set current stat past\n",
    "        curr_state = self.State.state\n",
    "        self.past_all[curr_state[0]][curr_state[1]] = True\n",
    "        # get the next state\n",
    "        next_state = self.State.next_position(action)  \n",
    "        self.State = State(state=next_state)\n",
    "        reward = self.give_reward()\n",
    "        # set the next state past\n",
    "        if self.past_all[next_state[0]][next_state[1]] is False:\n",
    "            self.past_all[next_state[0]][next_state[1]] = True\n",
    "        # give the global reward if finish an epsiode\n",
    "        if self.State.state==START and self.check_all_past():\n",
    "            reward += 1\n",
    "        # update the Q table\n",
    "        qs_of_next_state = []\n",
    "        for q_value in self.Q_values[next_state]:  \n",
    "            qs_of_next_state.append(self.Q_values[next_state][q_value])\n",
    "        delta = self.alpha*(reward + self.decay_gamma*(max(qs_of_next_state)) -\n",
    "                            self.Q_values[curr_state][action])\n",
    "        self.Q_values[curr_state][action] = round(self.Q_values[curr_state][action]+delta, 10)\n",
    "\n",
    "    def reset(self):\n",
    "        for i in range(BOARD_ROWS):\n",
    "            for j in range(BOARD_COLS):\n",
    "                self.past_all[i][j] = False\n",
    "        self.State = State()\n",
    "        self.is_end = self.State.is_end\n",
    "    \n",
    "    def check_all_past(self):\n",
    "        for i in self.past_all:\n",
    "            for j in i:\n",
    "                if j is False:\n",
    "                    return False\n",
    "        return True\n",
    "    \n",
    "    def show_path(self):\n",
    "        for i in range(BOARD_ROWS):\n",
    "            print('---------------------------------------')\n",
    "            row_string = \"| \"\n",
    "            for j in range(BOARD_COLS):\n",
    "                best_move = \"\"\n",
    "                best_val = -1000\n",
    "                for a in self.Q_values[(i,j)]:\n",
    "                    if self.Q_values[(i,j)][a] > best_val:\n",
    "                        best_val = self.Q_values[(i,j)][a]\n",
    "                        best_move = a            \n",
    "                row_string = row_string + \" \" + best_move + \" |\"\n",
    "            print(row_string)\n",
    "        print('---------------------------------------')\n",
    "\n",
    "    def train(self, rounds=1000):\n",
    "        print(\"Training...\")\n",
    "        for r in range(rounds): \n",
    "            self.reset()\n",
    "            self.exp_rate *= 0.99  # decaying epsilon-greedy\n",
    "            step = 0\n",
    "            while True:\n",
    "                action = self.get_action()\n",
    "                self.set_action(action)\n",
    "                self.State.check_end()\n",
    "                self.is_end = self.State.is_end\n",
    "                step += 1\n",
    "                if self.is_end and self.check_all_past():\n",
    "                    break\n",
    "                if step > 3000:\n",
    "                    break\n",
    "            self.steps.append(step)\n",
    "        print(\"Training finished!\")"
   ]
  },
  {
   "cell_type": "code",
   "execution_count": 5,
   "metadata": {
    "scrolled": true
   },
   "outputs": [
    {
     "name": "stdout",
     "output_type": "stream",
     "text": [
      "Training...\n",
      "Training finished!\n",
      "{(0, 0): {'up': 1.1973081594, 'down': 9.6457656872, 'left': 0.8973426869, 'right': 0.894198924}, (0, 1): {'up': 0.8953721471, 'down': 0.8903587262, 'left': 9.5488774024, 'right': 1.3191995507}, (0, 2): {'up': 0.8755714689, 'down': 0.8799451413, 'left': 9.5602513609, 'right': 0.8794507759}, (0, 3): {'up': 0.8416293229, 'down': 0.849448222, 'left': 9.5706151328, 'right': 0.841998574}, (0, 4): {'up': 0.8160377063, 'down': 0.8149002412, 'left': 9.5800706842, 'right': 0.8193174446}, (1, 0): {'up': 0.8992555329, 'down': 1.1804725688, 'left': 0.9005376749, 'right': 9.6442854963}, (1, 1): {'up': 0.89024487, 'down': 1.103336804, 'left': 0.8960723383, 'right': 9.6426917325}, (1, 2): {'up': 0.9815003242, 'down': 1.0515372709, 'left': 0.8963495865, 'right': 9.6409391684}, (1, 3): {'up': 0.8806075185, 'down': 9.6389846019, 'left': 0.8774535591, 'right': 1.1759524276}, (1, 4): {'up': 9.5886868491, 'down': 0.8586397054, 'left': 0.8619287254, 'right': 0.8591631783}, (2, 0): {'up': 0.8479286295, 'down': 9.6282358799, 'left': 0.8454472224, 'right': 0.8486305714}, (2, 1): {'up': 0.8634643184, 'down': 1.0981574208, 'left': 9.631468412, 'right': 0.865254607}, (2, 2): {'up': 0.8679012593, 'down': 0.9711257315, 'left': 9.634297761, 'right': 0.8690838714}, (2, 3): {'up': 0.8517514482, 'down': 1.2086406066, 'left': 9.6367857971, 'right': 0.8542698531}, (2, 4): {'up': 9.5965044431, 'down': 0.8514995184, 'left': 0.8521766358, 'right': 0.8525065921}, (3, 0): {'up': 0.8410993985, 'down': 0.8405649871, 'left': 0.8349114399, 'right': 9.6245291856}, (3, 1): {'up': 0.8629520367, 'down': 0.8572945387, 'left': 0.8610713801, 'right': 9.6202729162}, (3, 2): {'up': 0.8494195046, 'down': 0.8417724394, 'left': 0.8437099876, 'right': 9.6153949076}, (3, 3): {'up': 0.8342896339, 'down': 0.831038834, 'left': 0.8299695051, 'right': 9.6098343623}, (3, 4): {'up': 9.6035470055, 'down': 0.8276259869, 'left': 0.8245859175, 'right': 0.8223703751}}\n"
     ]
    }
   ],
   "source": [
    "agent = Agent()\n",
    "start_time = datetime.datetime.now()\n",
    "agent.train()\n",
    "end_time = datetime.datetime.now()\n",
    "time_period = (end_time - start_time).total_seconds()\n",
    "print(agent.Q_values)"
   ]
  },
  {
   "cell_type": "code",
   "execution_count": 6,
   "metadata": {},
   "outputs": [
    {
     "name": "stdout",
     "output_type": "stream",
     "text": [
      "Running time:  0.686432\n"
     ]
    }
   ],
   "source": [
    "print(\"Running time: \", time_period)"
   ]
  },
  {
   "cell_type": "code",
   "execution_count": 7,
   "metadata": {},
   "outputs": [
    {
     "data": {
      "text/plain": [
       "{(0, 0): {'down': 9.6457656872,\n",
       "  'left': 0.8973426869,\n",
       "  'right': 0.894198924,\n",
       "  'up': 1.1973081594},\n",
       " (0, 1): {'down': 0.8903587262,\n",
       "  'left': 9.5488774024,\n",
       "  'right': 1.3191995507,\n",
       "  'up': 0.8953721471},\n",
       " (0, 2): {'down': 0.8799451413,\n",
       "  'left': 9.5602513609,\n",
       "  'right': 0.8794507759,\n",
       "  'up': 0.8755714689},\n",
       " (0, 3): {'down': 0.849448222,\n",
       "  'left': 9.5706151328,\n",
       "  'right': 0.841998574,\n",
       "  'up': 0.8416293229},\n",
       " (0, 4): {'down': 0.8149002412,\n",
       "  'left': 9.5800706842,\n",
       "  'right': 0.8193174446,\n",
       "  'up': 0.8160377063},\n",
       " (1, 0): {'down': 1.1804725688,\n",
       "  'left': 0.9005376749,\n",
       "  'right': 9.6442854963,\n",
       "  'up': 0.8992555329},\n",
       " (1, 1): {'down': 1.103336804,\n",
       "  'left': 0.8960723383,\n",
       "  'right': 9.6426917325,\n",
       "  'up': 0.89024487},\n",
       " (1, 2): {'down': 1.0515372709,\n",
       "  'left': 0.8963495865,\n",
       "  'right': 9.6409391684,\n",
       "  'up': 0.9815003242},\n",
       " (1, 3): {'down': 9.6389846019,\n",
       "  'left': 0.8774535591,\n",
       "  'right': 1.1759524276,\n",
       "  'up': 0.8806075185},\n",
       " (1, 4): {'down': 0.8586397054,\n",
       "  'left': 0.8619287254,\n",
       "  'right': 0.8591631783,\n",
       "  'up': 9.5886868491},\n",
       " (2, 0): {'down': 9.6282358799,\n",
       "  'left': 0.8454472224,\n",
       "  'right': 0.8486305714,\n",
       "  'up': 0.8479286295},\n",
       " (2, 1): {'down': 1.0981574208,\n",
       "  'left': 9.631468412,\n",
       "  'right': 0.865254607,\n",
       "  'up': 0.8634643184},\n",
       " (2, 2): {'down': 0.9711257315,\n",
       "  'left': 9.634297761,\n",
       "  'right': 0.8690838714,\n",
       "  'up': 0.8679012593},\n",
       " (2, 3): {'down': 1.2086406066,\n",
       "  'left': 9.6367857971,\n",
       "  'right': 0.8542698531,\n",
       "  'up': 0.8517514482},\n",
       " (2, 4): {'down': 0.8514995184,\n",
       "  'left': 0.8521766358,\n",
       "  'right': 0.8525065921,\n",
       "  'up': 9.5965044431},\n",
       " (3, 0): {'down': 0.8405649871,\n",
       "  'left': 0.8349114399,\n",
       "  'right': 9.6245291856,\n",
       "  'up': 0.8410993985},\n",
       " (3, 1): {'down': 0.8572945387,\n",
       "  'left': 0.8610713801,\n",
       "  'right': 9.6202729162,\n",
       "  'up': 0.8629520367},\n",
       " (3, 2): {'down': 0.8417724394,\n",
       "  'left': 0.8437099876,\n",
       "  'right': 9.6153949076,\n",
       "  'up': 0.8494195046},\n",
       " (3, 3): {'down': 0.831038834,\n",
       "  'left': 0.8299695051,\n",
       "  'right': 9.6098343623,\n",
       "  'up': 0.8342896339},\n",
       " (3, 4): {'down': 0.8276259869,\n",
       "  'left': 0.8245859175,\n",
       "  'right': 0.8223703751,\n",
       "  'up': 9.6035470055}}"
      ]
     },
     "execution_count": 7,
     "metadata": {},
     "output_type": "execute_result"
    }
   ],
   "source": [
    "agent.Q_values"
   ]
  },
  {
   "cell_type": "code",
   "execution_count": 8,
   "metadata": {},
   "outputs": [
    {
     "data": {
      "image/png": "[encoded data removed]",
      "text/plain": [
       "<Figure size 432x288 with 1 Axes>"
      ]
     },
     "metadata": {},
     "output_type": "display_data"
    }
   ],
   "source": [
    "import matplotlib.pyplot as plt\n",
    "%matplotlib inline\n",
    "x = []\n",
    "for i in range(1000):\n",
    "    x.append(i)\n",
    "y = agent.steps\n",
    "plt.plot(x,y)\n",
    "plt.ylabel('Number of Steps')\n",
    "plt.xlabel('Episode')\n",
    "plt.title('Q Learning Convergence')\n",
    "plt.show()"
   ]
  },
  {
   "cell_type": "code",
   "execution_count": 9,
   "metadata": {},
   "outputs": [
    {
     "data": {
      "text/plain": [
       "20"
      ]
     },
     "execution_count": 9,
     "metadata": {},
     "output_type": "execute_result"
    }
   ],
   "source": [
    "min(agent.steps)"
   ]
  },
  {
   "cell_type": "markdown",
   "metadata": {},
   "source": [
    "#### Optimal Policy"
   ]
  },
  {
   "cell_type": "code",
   "execution_count": 10,
   "metadata": {},
   "outputs": [
    {
     "name": "stdout",
     "output_type": "stream",
     "text": [
      "---------------------------------------\n",
      "|  down | left | left | left | left |\n",
      "---------------------------------------\n",
      "|  right | right | right | down | up |\n",
      "---------------------------------------\n",
      "|  down | left | left | left | up |\n",
      "---------------------------------------\n",
      "|  right | right | right | right | up |\n",
      "---------------------------------------\n"
     ]
    }
   ],
   "source": [
    "agent.show_path()"
   ]
  }
 ],
 "metadata": {
  "kernelspec": {
   "display_name": "Python 3",
   "language": "python",
   "name": "python3"
  },
  "language_info": {
   "codemirror_mode": {
    "name": "ipython",
    "version": 3
   },
   "file_extension": ".py",
   "mimetype": "text/x-python",
   "name": "python",
   "nbconvert_exporter": "python",
   "pygments_lexer": "ipython3",
   "version": "3.6.4"
  }
 },
 "nbformat": 4,
 "nbformat_minor": 2
}
