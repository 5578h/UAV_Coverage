{
 "cells": [
  {
   "cell_type": "markdown",
   "metadata": {},
   "source": [
    "# Grid World --- past all grids"
   ]
  },
  {
   "cell_type": "code",
   "execution_count": 1,
   "metadata": {},
   "outputs": [],
   "source": [
    "import numpy as np"
   ]
  },
  {
   "cell_type": "code",
   "execution_count": 2,
   "metadata": {},
   "outputs": [],
   "source": [
    "BOARD_ROWS = 3\n",
    "BOARD_COLS = 4\n",
    "START = (1, 1)\n",
    "END = (0, 0)"
   ]
  },
  {
   "cell_type": "code",
   "execution_count": 3,
   "metadata": {},
   "outputs": [],
   "source": [
    "class State:\n",
    "\n",
    "    def __init__(self, state=START):\n",
    "        self.board = np.zeros([BOARD_ROWS, BOARD_COLS])\n",
    "        self.state = state    # tuple of the coordinate\n",
    "        self.is_end = False\n",
    "\n",
    "    def check_end(self):\n",
    "        if self.state == END:\n",
    "            self.is_end = True\n",
    "\n",
    "    def next_position(self, action):\n",
    "        if action == \"up\":\n",
    "            next_state = (self.state[0] - 1, self.state[1])\n",
    "        elif action == \"down\":\n",
    "            next_state = (self.state[0] + 1, self.state[1])\n",
    "        elif action == \"left\":\n",
    "            next_state = (self.state[0], self.state[1] - 1)\n",
    "        else:\n",
    "            next_state = (self.state[0], self.state[1] + 1)\n",
    "        if (next_state[0] >= 0) and (next_state[0] < BOARD_ROWS):\n",
    "            if (next_state[1] >= 0) and (next_state[1] < BOARD_COLS):\n",
    "                return next_state\n",
    "        return self.state"
   ]
  },
  {
   "cell_type": "code",
   "execution_count": 4,
   "metadata": {},
   "outputs": [],
   "source": [
    "class Agent:\n",
    "\n",
    "    def __init__(self):\n",
    "        self.actions = [\"up\", \"down\", \"left\", \"right\"]      # space\n",
    "        self.State = State()\n",
    "        self.is_end = self.State.is_end\n",
    "        self.alpha = 0.3\n",
    "        self.exp_rate = 1\n",
    "        self.decay_gamma = 0.9\n",
    "        self.Q_values = {}             # init Q values (dict)\n",
    "        for i in range(BOARD_ROWS):\n",
    "            for j in range(BOARD_COLS):\n",
    "                self.Q_values[(i, j)] = {}\n",
    "                for a in self.actions:\n",
    "                    self.Q_values[(i, j)][a] = 0\n",
    "        self.past_all = []\n",
    "        for i in range(BOARD_ROWS):\n",
    "            t = []\n",
    "            for j in range(BOARD_COLS): \n",
    "                t.append(False)\n",
    "            self.past_all.append(t)\n",
    "        self.steps = []\n",
    "    \n",
    "    def optimal_action(self):\n",
    "        max_value = -100\n",
    "        action = \"\"\n",
    "        for a in self.actions:\n",
    "            next_value = self.Q_values[self.State.state][a]\n",
    "            if next_value >= max_value:\n",
    "                action = a\n",
    "                max_value = next_value\n",
    "        return action\n",
    "    \n",
    "    def get_action(self):\n",
    "        if np.random.uniform(0, 1) <= self.exp_rate:\n",
    "            up = self.State.next_position(\"up\")\n",
    "            down = self.State.next_position(\"down\")\n",
    "            left = self.State.next_position(\"left\")\n",
    "            right = self.State.next_position(\"right\")\n",
    "            rule = [self.past_all[up[0]][up[1]] is True,\n",
    "                    self.past_all[down[0]][down[1]] is True,\n",
    "                    self.past_all[left[0]][left[1]] is True,\n",
    "                    self.past_all[right[0]][right[1]] is True ]\n",
    "            if all(rule):\n",
    "                action = np.random.choice(self.actions)\n",
    "                return action\n",
    "            else:\n",
    "                while True:\n",
    "                    action = np.random.choice(self.actions)\n",
    "                    next_state = self.State.next_position(action)\n",
    "                    if self.past_all[next_state[0]][next_state[1]] == False:\n",
    "                        return action\n",
    "                    else:\n",
    "                        continue\n",
    "        else:\n",
    "            return self.optimal_action()\n",
    "    \n",
    "    def give_reward(self):\n",
    "        reward = 0\n",
    "        if self.past_all[self.State.state[0]][self.State.state[1]] is False:\n",
    "            reward += 1\n",
    "        else:\n",
    "            reward -= .1\n",
    "        return reward\n",
    "    \n",
    "    def set_action(self, action):\n",
    "        curr_state = self.State.state\n",
    "        self.past_all[curr_state[0]][curr_state[1]] = True\n",
    "        next_state = self.State.next_position(action)  \n",
    "        self.State = State(state=next_state)\n",
    "        reward = self.give_reward()\n",
    "        if self.past_all[next_state[0]][next_state[1]] is False:\n",
    "            self.past_all[next_state[0]][next_state[1]] = True\n",
    "        if self.State.state==START and self.check_all_past():\n",
    "            reward += .1\n",
    "        qs_of_next_state = []\n",
    "        for q_value in self.Q_values[next_state]:  \n",
    "            qs_of_next_state.append(self.Q_values[next_state][q_value])\n",
    "        delta = self.alpha*(reward + self.decay_gamma*(max(qs_of_next_state)) -\n",
    "                            self.Q_values[curr_state][action])\n",
    "        self.Q_values[curr_state][action] = self.Q_values[curr_state][action]+delta\n",
    "        \n",
    "\n",
    "    def reset(self):\n",
    "        for i in range(BOARD_ROWS):\n",
    "            for j in range(BOARD_COLS):\n",
    "                self.past_all[i][j] = False\n",
    "        self.State = State()\n",
    "        self.is_end = self.State.is_end\n",
    "    \n",
    "    def check_all_past(self):\n",
    "        for i in self.past_all:\n",
    "            for j in i:\n",
    "                if j is False:\n",
    "                    return False\n",
    "        return True\n",
    "\n",
    "    def train(self, rounds=100):\n",
    "        print(\"Training...\")\n",
    "        for r in range(rounds): \n",
    "            self.reset()\n",
    "            self.exp_rate *= 0.9\n",
    "            step = 1\n",
    "            while True:\n",
    "                action = self.get_action()\n",
    "                self.set_action(action)\n",
    "                self.State.check_end()\n",
    "                self.is_end = self.State.is_end\n",
    "                step += 1\n",
    "                if self.check_all_past() == True:\n",
    "                    break\n",
    "            self.steps.append(step)\n",
    "        print(\"Training finished!\")"
   ]
  },
  {
   "cell_type": "code",
   "execution_count": 5,
   "metadata": {
    "scrolled": false
   },
   "outputs": [
    {
     "name": "stdout",
     "output_type": "stream",
     "text": [
      "Training...\n",
      "Training finished!\n"
     ]
    }
   ],
   "source": [
    "agent = Agent()\n",
    "agent.train()"
   ]
  },
  {
   "cell_type": "code",
   "execution_count": 6,
   "metadata": {},
   "outputs": [
    {
     "data": {
      "text/plain": [
       "{(0, 0): {'down': 4.0513268553695845,\n",
       "  'left': 1.088276471966826,\n",
       "  'right': 0.9409329415888803,\n",
       "  'up': 1.1939085816024158},\n",
       " (0, 1): {'down': 0.8724411504498235,\n",
       "  'left': 4.646194061919476,\n",
       "  'right': 1.0134859782173455,\n",
       "  'up': 0.42859401774984657},\n",
       " (0, 2): {'down': 1.5861567908272416,\n",
       "  'left': 5.181573955876582,\n",
       "  'right': 1.157180585714236,\n",
       "  'up': 0.35264292985328594},\n",
       " (0, 3): {'down': 1.0256540058656591,\n",
       "  'left': 5.66341297317508,\n",
       "  'right': 0.2918376961522374,\n",
       "  'up': 0.6435274847545921},\n",
       " (1, 0): {'down': 3.3903631863302786,\n",
       "  'left': 0.8422955610973654,\n",
       "  'right': 1.5379991617591662,\n",
       "  'up': 0.9491593008206654},\n",
       " (1, 1): {'down': 1.6584915897953585,\n",
       "  'left': 1.913496974706689,\n",
       "  'right': 7.4375945760085775,\n",
       "  'up': 0.051000000000000004},\n",
       " (1, 2): {'down': 7.154105107939228,\n",
       "  'left': 0.051000000000000004,\n",
       "  'right': 1.32243118676072,\n",
       "  'up': 0.5617172634227141},\n",
       " (1, 3): {'down': 1.0604962273606153,\n",
       "  'left': 1.7497011564245657,\n",
       "  'right': 1.3053715640894177,\n",
       "  'up': 6.09705653741799},\n",
       " (2, 0): {'down': -0.025904700000000003,\n",
       "  'left': 0,\n",
       "  'right': 2.6559590969529228,\n",
       "  'up': 1.5033444368044742},\n",
       " (2, 1): {'down': 1.0436063274376668,\n",
       "  'left': 1.6097884585194133,\n",
       "  'right': 1.8399545522081937,\n",
       "  'up': 0.6641462903153483},\n",
       " (2, 2): {'down': 0.845982483735811,\n",
       "  'left': 1.547768896355344,\n",
       "  'right': 6.838399771522241,\n",
       "  'up': 1.638776682714903},\n",
       " (2, 3): {'down': 1.2324043217457648,\n",
       "  'left': 0.5357346773188093,\n",
       "  'right': 0.11169,\n",
       "  'up': 6.48729676741348}}"
      ]
     },
     "execution_count": 6,
     "metadata": {},
     "output_type": "execute_result"
    }
   ],
   "source": [
    "agent.Q_values"
   ]
  },
  {
   "cell_type": "code",
   "execution_count": 7,
   "metadata": {},
   "outputs": [
    {
     "data": {
      "image/png": "[encoded data removed]",
      "text/plain": [
       "<Figure size 432x288 with 1 Axes>"
      ]
     },
     "metadata": {},
     "output_type": "display_data"
    }
   ],
   "source": [
    "import matplotlib.pyplot as plt\n",
    "%matplotlib inline\n",
    "x = []\n",
    "for i in range(100):\n",
    "    x.append(i)\n",
    "y = agent.steps\n",
    "plt.plot(x,y)\n",
    "plt.ylabel('Number of Steps')\n",
    "plt.xlabel('Episode')\n",
    "plt.title('Q Learning Convergence')\n",
    "plt.show()"
   ]
  },
  {
   "cell_type": "code",
   "execution_count": 8,
   "metadata": {},
   "outputs": [
    {
     "data": {
      "text/plain": [
       "12"
      ]
     },
     "execution_count": 8,
     "metadata": {},
     "output_type": "execute_result"
    }
   ],
   "source": [
    "min(agent.steps)"
   ]
  }
 ],
 "metadata": {
  "kernelspec": {
   "display_name": "Python 3",
   "language": "python",
   "name": "python3"
  },
  "language_info": {
   "codemirror_mode": {
    "name": "ipython",
    "version": 3
   },
   "file_extension": ".py",
   "mimetype": "text/x-python",
   "name": "python",
   "nbconvert_exporter": "python",
   "pygments_lexer": "ipython3",
   "version": "3.6.4"
  }
 },
 "nbformat": 4,
 "nbformat_minor": 2
}
