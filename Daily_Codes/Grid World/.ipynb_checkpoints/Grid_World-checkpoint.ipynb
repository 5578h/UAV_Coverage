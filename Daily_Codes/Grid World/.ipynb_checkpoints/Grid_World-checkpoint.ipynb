{
 "cells": [
  {
   "cell_type": "markdown",
   "metadata": {},
   "source": [
    "# Reinforcement Learning Practice: Grid World\n",
    "\n",
    "***Charles Zhang***\n",
    "\n",
    "***Jun 9***"
   ]
  },
  {
   "cell_type": "markdown",
   "metadata": {},
   "source": [
    "<img src=https://raw.githubusercontent.com/zcczhang/UAV_Coverage/master/Daily_Codes/Grid%20World/state_values.png width=\"500\" height=\"600\"/> "
   ]
  },
  {
   "cell_type": "code",
   "execution_count": 1,
   "metadata": {},
   "outputs": [],
   "source": [
    "import numpy as np"
   ]
  },
  {
   "cell_type": "code",
   "execution_count": 2,
   "metadata": {},
   "outputs": [],
   "source": [
    "BOARD_ROWS = 3\n",
    "BOARD_COLS = 4\n",
    "START = (0, 0)\n",
    "END = (2, 3)"
   ]
  },
  {
   "cell_type": "markdown",
   "metadata": {},
   "source": [
    "### Environment Setting"
   ]
  },
  {
   "cell_type": "code",
   "execution_count": 3,
   "metadata": {},
   "outputs": [],
   "source": [
    "class State:\n",
    "\n",
    "    def __init__(self, state=START):\n",
    "        self.board = np.zeros([BOARD_ROWS, BOARD_COLS])\n",
    "        self.state = state\n",
    "        self.is_end = False\n",
    "\n",
    "    def give_reward(self):\n",
    "        if self.state == END:\n",
    "            return 1\n",
    "        else:\n",
    "            return 0\n",
    "\n",
    "    def check_end(self):\n",
    "        if self.state == END:\n",
    "            self.is_end = True\n",
    "\n",
    "    def next_position(self, action):\n",
    "        if action == \"up\":\n",
    "            next_state = (self.state[0] - 1, self.state[1])\n",
    "        elif action == \"down\":\n",
    "            next_state = (self.state[0] + 1, self.state[1])\n",
    "        elif action == \"left\":\n",
    "            next_state = (self.state[0], self.state[1] - 1)\n",
    "        else:\n",
    "            next_state = (self.state[0], self.state[1] + 1)\n",
    "        # boundary check\n",
    "        if (next_state[0] >= 0) and (next_state[0] < BOARD_ROWS):\n",
    "            if (next_state[1] >= 0) and (next_state[1] < BOARD_COLS):\n",
    "                return next_state\n",
    "        return self.state\n",
    "\n",
    "    def show_board(self):\n",
    "        self.board[self.state] = 1\n",
    "        for i in range(0, BOARD_ROWS):\n",
    "            print('-----------------')\n",
    "            out = '| '\n",
    "            for j in range(0, BOARD_COLS):\n",
    "                if self.board[i, j] == 1:\n",
    "                    token = '*'\n",
    "                if self.board[i, j] == -1:\n",
    "                    token = 'z'\n",
    "                if self.board[i, j] == 0:\n",
    "                    token = '0'\n",
    "                out += token + ' | '\n",
    "            print(out)\n",
    "        print('-----------------')"
   ]
  },
  {
   "cell_type": "code",
   "execution_count": 4,
   "metadata": {},
   "outputs": [
    {
     "name": "stdout",
     "output_type": "stream",
     "text": [
      "(0, 0)\n",
      "-----------------\n",
      "| * | 0 | 0 | 0 | \n",
      "-----------------\n",
      "| 0 | 0 | 0 | 0 | \n",
      "-----------------\n",
      "| 0 | 0 | 0 | 0 | \n",
      "-----------------\n"
     ]
    }
   ],
   "source": [
    "start = State()\n",
    "print(start.state)\n",
    "start.show_board()"
   ]
  },
  {
   "cell_type": "code",
   "execution_count": 5,
   "metadata": {},
   "outputs": [
    {
     "name": "stdout",
     "output_type": "stream",
     "text": [
      "(2, 3)\n",
      "-----------------\n",
      "| 0 | 0 | 0 | 0 | \n",
      "-----------------\n",
      "| 0 | 0 | 0 | 0 | \n",
      "-----------------\n",
      "| 0 | 0 | 0 | * | \n",
      "-----------------\n"
     ]
    }
   ],
   "source": [
    "end = State(state=END)\n",
    "print(end.state)\n",
    "end.show_board()"
   ]
  },
  {
   "cell_type": "markdown",
   "metadata": {},
   "source": [
    "### Agent Setting"
   ]
  },
  {
   "cell_type": "code",
   "execution_count": 6,
   "metadata": {},
   "outputs": [],
   "source": [
    "class Agent:\n",
    "\n",
    "    def __init__(self):\n",
    "        self.states = []\n",
    "        self.actions = [\"up\", \"down\", \"left\", \"right\"]      # space\n",
    "        self.State = State()\n",
    "        self.is_end = self.State.is_end\n",
    "        self.alpha = 0.3\n",
    "        self.exp_rate = 1\n",
    "        self.decay_gamma = 0.9\n",
    "        self.state_values = {}         # init state values\n",
    "        for i in range(BOARD_ROWS):\n",
    "            for j in range(BOARD_COLS):\n",
    "                self.state_values[(i, j)] = 0\n",
    "        self.Q_values = {}             # init Q values (dict)\n",
    "        for i in range(BOARD_ROWS):\n",
    "            for j in range(BOARD_COLS):\n",
    "                self.Q_values[(i, j)] = {}\n",
    "                for a in self.actions:\n",
    "                    self.Q_values[(i, j)][a] = 0  \n",
    "                    \n",
    "    def get_action(self, learning=\"sv\"):\n",
    "        \"\"\"\n",
    "        :param: learning=q for q learning, sv for learning based on the state values\n",
    "        \"\"\"\n",
    "        max_reward = 0\n",
    "        action = \"\"\n",
    "        if np.random.uniform(0, 1) <= self.exp_rate:\n",
    "            action = np.random.choice(self.actions)\n",
    "        else:\n",
    "            # greedy action\n",
    "            for a in self.actions:\n",
    "                if learning is \"q\":\n",
    "                    next_reward = self.Q_values[self.State.state][a]\n",
    "                else:\n",
    "                    next_reward = self.state_values[self.State.next_position(a)]\n",
    "                if next_reward >= max_reward:\n",
    "                    action = a\n",
    "                    max_reward = next_reward\n",
    "        return action\n",
    "\n",
    "    def set_action(self, action):\n",
    "        position = self.State.next_position(action)\n",
    "        return State(state=position)\n",
    "\n",
    "    def show_values(self):\n",
    "        for i in range(0, BOARD_ROWS):\n",
    "            print('----------------------------------')\n",
    "            out = '| '\n",
    "            for j in range(0, BOARD_COLS):\n",
    "                out += str(self.state_values[(i, j)]) + ' | '\n",
    "            print(out)\n",
    "        print('----------------------------------')\n",
    "\n",
    "    def reset(self):\n",
    "        self.states = []\n",
    "        self.State = State()\n",
    "        self.is_end = self.State.is_end\n",
    "\n",
    "    def train(self, learning=\"sv\", rounds=500):\n",
    "        i = 1\n",
    "        while i <= rounds:\n",
    "            if self.State.is_end:\n",
    "                reward = self.State.give_reward()  # 1 for the end\n",
    "                if i % 100 == 0:\n",
    "                    print(\"Game Round {} End\".format(i))\n",
    "                if learning is \"q\":\n",
    "                    for a in self.actions:\n",
    "                        self.Q_values[self.State.state][a] = reward\n",
    "                    for s in reversed(self.states):\n",
    "                        current_q_value = self.Q_values[s[0]][s[1]]\n",
    "                        reward = current_q_value + self.alpha * (self.decay_gamma*reward - current_q_value)\n",
    "                        self.Q_values[s[0]][s[1]] = round(reward, 4)\n",
    "                else:\n",
    "                    self.state_values[self.State.state] = reward\n",
    "                    for s in reversed(self.states):\n",
    "                        reward = self.state_values[s] + self.alpha * (reward - self.state_values[s])\n",
    "                        self.state_values[s] = round(reward, 4)\n",
    "                self.reset()\n",
    "                i += 1\n",
    "            else:\n",
    "                action = self.get_action(learning=learning)\n",
    "                if learning is \"q\":\n",
    "                    self.states.append([(self.State.state), action])\n",
    "                else:\n",
    "                    self.states.append(self.State.next_position(action))\n",
    "                self.State = self.set_action(action)\n",
    "                self.State.check_end()  # renew is_end\n",
    "                self.is_end = self.State.is_end"
   ]
  },
  {
   "cell_type": "markdown",
   "metadata": {},
   "source": [
    "### Training"
   ]
  },
  {
   "cell_type": "code",
   "execution_count": 7,
   "metadata": {},
   "outputs": [
    {
     "name": "stdout",
     "output_type": "stream",
     "text": [
      "Training...\n",
      "Game Round 100 End\n",
      "Game Round 200 End\n",
      "Game Round 300 End\n",
      "Game Round 400 End\n",
      "Game Round 500 End\n",
      "Training finished!\n"
     ]
    }
   ],
   "source": [
    "agent = Agent()\n",
    "print(\"Training...\")\n",
    "agent.train()\n",
    "print(\"Training finished!\")"
   ]
  },
  {
   "cell_type": "code",
   "execution_count": 8,
   "metadata": {
    "scrolled": true
   },
   "outputs": [
    {
     "name": "stdout",
     "output_type": "stream",
     "text": [
      "----------------------------------\n",
      "| 0.5 | 0.6 | 0.7 | 0.8 | \n",
      "----------------------------------\n",
      "| 0.6 | 0.7 | 0.8 | 0.9 | \n",
      "----------------------------------\n",
      "| 0.7 | 0.8 | 0.9 | 1.0 | \n",
      "----------------------------------\n"
     ]
    }
   ],
   "source": [
    "for i in range(BOARD_ROWS):\n",
    "    for j in range(BOARD_COLS):\n",
    "        agent.state_values[(i, j)] -= 0.999\n",
    "        agent.state_values[(i, j)] *= 1000\n",
    "        agent.state_values[(i, j)] = round(agent.state_values[(i, j)], 1)\n",
    "agent.show_values()"
   ]
  },
  {
   "cell_type": "code",
   "execution_count": 9,
   "metadata": {},
   "outputs": [
    {
     "name": "stdout",
     "output_type": "stream",
     "text": [
      "Training...\n",
      "Training finished!\n"
     ]
    }
   ],
   "source": [
    "agent_q = Agent()\n",
    "print(\"Training...\")\n",
    "agent_q.train(learning=\"q\", rounds=50)\n",
    "print(\"Training finished!\")"
   ]
  },
  {
   "cell_type": "code",
   "execution_count": 10,
   "metadata": {
    "scrolled": false
   },
   "outputs": [
    {
     "data": {
      "text/plain": [
       "{(0, 0): {'down': 0.0829, 'left': 0.0746, 'right': 0.1138, 'up': 0.0785},\n",
       " (0, 1): {'down': 0.1024, 'left': 0.0752, 'right': 0.1741, 'up': 0.0945},\n",
       " (0, 2): {'down': 0.1972, 'left': 0.1149, 'right': 0.2136, 'up': 0.1901},\n",
       " (0, 3): {'down': 0.3429, 'left': 0.1451, 'right': 0.1214, 'up': 0.1803},\n",
       " (1, 0): {'down': 0.112, 'left': 0.0742, 'right': 0.1258, 'up': 0.0778},\n",
       " (1, 1): {'down': 0.153, 'left': 0.0759, 'right': 0.1688, 'up': 0.106},\n",
       " (1, 2): {'down': 0.2139, 'left': 0.1181, 'right': 0.308, 'up': 0.143},\n",
       " (1, 3): {'down': 0.8999, 'left': 0.1835, 'right': 0.5249, 'up': 0.2023},\n",
       " (2, 0): {'down': 0.1087, 'left': 0.1174, 'right': 0.1715, 'up': 0.0937},\n",
       " (2, 1): {'down': 0.1067, 'left': 0.1017, 'right': 0.2454, 'up': 0.1343},\n",
       " (2, 2): {'down': 0.373, 'left': 0.1147, 'right': 0.8997, 'up': 0.1261},\n",
       " (2, 3): {'down': 1, 'left': 1, 'right': 1, 'up': 1}}"
      ]
     },
     "execution_count": 10,
     "metadata": {},
     "output_type": "execute_result"
    }
   ],
   "source": [
    "agent_q.Q_values"
   ]
  },
  {
   "cell_type": "markdown",
   "metadata": {},
   "source": [
    "***References:***\n",
    "\n",
    "https://www.cs.swarthmore.edu/~bryce/cs63/s16/slides/3-21_value_iteration.pdf\n",
    "\n",
    "https://mohitmayank.com/interactive-q-learning/\n",
    "\n",
    "https://github.com/JaeDukSeo/reinforcement-learning-an-introduction"
   ]
  }
 ],
 "metadata": {
  "kernelspec": {
   "display_name": "Python 3",
   "language": "python",
   "name": "python3"
  },
  "language_info": {
   "codemirror_mode": {
    "name": "ipython",
    "version": 3
   },
   "file_extension": ".py",
   "mimetype": "text/x-python",
   "name": "python",
   "nbconvert_exporter": "python",
   "pygments_lexer": "ipython3",
   "version": "3.6.4"
  }
 },
 "nbformat": 4,
 "nbformat_minor": 2
}
