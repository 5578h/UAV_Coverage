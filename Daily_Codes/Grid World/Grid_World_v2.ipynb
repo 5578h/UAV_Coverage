{
 "cells": [
  {
   "cell_type": "markdown",
   "metadata": {},
   "source": [
    "# Reinforcement Learning Practice: Grid World\n",
    "\n",
    "***Charles Zhang***\n",
    "\n",
    "***Jun 9***"
   ]
  },
  {
   "cell_type": "markdown",
   "metadata": {},
   "source": [
    "![](state_values.png)"
   ]
  },
  {
   "cell_type": "code",
   "execution_count": 1,
   "metadata": {},
   "outputs": [],
   "source": [
    "import numpy as np"
   ]
  },
  {
   "cell_type": "code",
   "execution_count": 2,
   "metadata": {},
   "outputs": [],
   "source": [
    "BOARD_ROWS = 3\n",
    "BOARD_COLS = 4\n",
    "START = (0, 0)\n",
    "END = (2, 3)"
   ]
  },
  {
   "cell_type": "markdown",
   "metadata": {},
   "source": [
    "### Environment Setting"
   ]
  },
  {
   "cell_type": "code",
   "execution_count": 3,
   "metadata": {},
   "outputs": [],
   "source": [
    "class State:\n",
    "\n",
    "    def __init__(self, state=START):\n",
    "        self.board = np.zeros([BOARD_ROWS, BOARD_COLS])\n",
    "        self.state = state    # tuple of the coordinate\n",
    "        self.is_end = False\n",
    "\n",
    "    def give_reward(self):\n",
    "        if self.state == END:\n",
    "            return 1\n",
    "        else:\n",
    "            return 0\n",
    "\n",
    "    def check_end(self):\n",
    "        if self.state == END:\n",
    "            self.is_end = True\n",
    "\n",
    "    def next_position(self, action):\n",
    "        if action == \"up\":\n",
    "            next_state = (self.state[0] - 1, self.state[1])\n",
    "        elif action == \"down\":\n",
    "            next_state = (self.state[0] + 1, self.state[1])\n",
    "        elif action == \"left\":\n",
    "            next_state = (self.state[0], self.state[1] - 1)\n",
    "        else:\n",
    "            next_state = (self.state[0], self.state[1] + 1)\n",
    "        if (next_state[0] >= 0) and (next_state[0] < BOARD_ROWS):\n",
    "            if (next_state[1] >= 0) and (next_state[1] < BOARD_COLS):\n",
    "                return next_state\n",
    "        return self.state\n",
    "\n",
    "    def show_board(self):\n",
    "        self.board[self.state] = 1\n",
    "        for i in range(0, BOARD_ROWS):\n",
    "            print('-----------------')\n",
    "            out = '| '\n",
    "            for j in range(0, BOARD_COLS):\n",
    "                if self.board[i, j] == 1:\n",
    "                    token = '*'\n",
    "                if self.board[i, j] == -1:\n",
    "                    token = 'z'\n",
    "                if self.board[i, j] == 0:\n",
    "                    token = '0'\n",
    "                out += token + ' | '\n",
    "            print(out)\n",
    "        print('-----------------')"
   ]
  },
  {
   "cell_type": "code",
   "execution_count": 4,
   "metadata": {},
   "outputs": [
    {
     "name": "stdout",
     "output_type": "stream",
     "text": [
      "(0, 0)\n",
      "-----------------\n",
      "| * | 0 | 0 | 0 | \n",
      "-----------------\n",
      "| 0 | 0 | 0 | 0 | \n",
      "-----------------\n",
      "| 0 | 0 | 0 | 0 | \n",
      "-----------------\n"
     ]
    }
   ],
   "source": [
    "start = State()\n",
    "print(start.state)\n",
    "start.show_board()"
   ]
  },
  {
   "cell_type": "code",
   "execution_count": 5,
   "metadata": {},
   "outputs": [
    {
     "name": "stdout",
     "output_type": "stream",
     "text": [
      "(2, 3)\n",
      "-----------------\n",
      "| 0 | 0 | 0 | 0 | \n",
      "-----------------\n",
      "| 0 | 0 | 0 | 0 | \n",
      "-----------------\n",
      "| 0 | 0 | 0 | * | \n",
      "-----------------\n"
     ]
    }
   ],
   "source": [
    "end = State(state=END)\n",
    "print(end.state)\n",
    "end.show_board()"
   ]
  },
  {
   "cell_type": "markdown",
   "metadata": {},
   "source": [
    "### Agent Setting"
   ]
  },
  {
   "cell_type": "code",
   "execution_count": 6,
   "metadata": {},
   "outputs": [],
   "source": [
    "class Agent:\n",
    "\n",
    "    def __init__(self, learning=\"sv\"):\n",
    "        \"\"\"\n",
    "        :param: learning=\"q\" for Q-learning, \"sv\" for learning based on the state values\n",
    "        \"\"\"\n",
    "        self.learning = learning  \n",
    "        self.actions = [\"up\", \"down\", \"left\", \"right\"]      # space\n",
    "        self.State = State()\n",
    "        self.is_end = self.State.is_end\n",
    "        self.alpha = 0.3\n",
    "        self.exp_rate = 1\n",
    "        self.decay_gamma = 0.9\n",
    "        self.state_values = {}         # init state values\n",
    "        for i in range(BOARD_ROWS):\n",
    "            for j in range(BOARD_COLS):\n",
    "                self.state_values[(i, j)] = 0\n",
    "        self.state_values[END] = 1\n",
    "        self.Q_values = {}             # init Q values (dict)\n",
    "        for i in range(BOARD_ROWS):\n",
    "            for j in range(BOARD_COLS):\n",
    "                self.Q_values[(i, j)] = {}\n",
    "                for a in self.actions:\n",
    "                    self.Q_values[(i, j)][a] = 0\n",
    "                    \n",
    "    def get_action(self):\n",
    "        max_value = 0\n",
    "        action = \"\"\n",
    "        if np.random.uniform(0, 1) <= self.exp_rate:\n",
    "            action = np.random.choice(self.actions)\n",
    "        else:\n",
    "            # greedy action\n",
    "            for a in self.actions:\n",
    "                if self.learning == \"q\":\n",
    "                    next_value = self.Q_values[self.State.state][a]\n",
    "                else:\n",
    "                    next_value = self.state_values[self.State.next_position(a)]\n",
    "                if next_value >= max_value:\n",
    "                    action = a\n",
    "                    max_value = next_value\n",
    "        return action\n",
    "\n",
    "    def set_action(self, action):\n",
    "        curr_state = self.State.state  \n",
    "        next_state = self.State.next_position(action)  \n",
    "        self.State = State(state=next_state) \n",
    "        qs_of_next_state = []\n",
    "        for q_value in self.Q_values[next_state]:  \n",
    "            qs_of_next_state.append(self.Q_values[next_state][q_value])\n",
    "        delta = self.alpha*(self.State.give_reward() +\n",
    "                            self.decay_gamma*(max(qs_of_next_state)) -\n",
    "                            self.Q_values[curr_state][action])\n",
    "        self.Q_values[curr_state][action] = round(self.Q_values[curr_state][action]+delta,2)\n",
    "\n",
    "        self.state_values[curr_state] += self.alpha*(self.state_values[next_state] -\n",
    "                                                self.state_values[curr_state])\n",
    "        self.state_values[curr_state] = round(self.state_values[curr_state], 3)\n",
    "                \n",
    "\n",
    "    def show_state_values(self):\n",
    "        for i in range(0, BOARD_ROWS):\n",
    "            print('----------------------------------')\n",
    "            out = '| '\n",
    "            for j in range(0, BOARD_COLS):\n",
    "                out += str(self.state_values[(i, j)]) + ' | '\n",
    "            print(out)\n",
    "        print('----------------------------------')\n",
    "\n",
    "    def reset(self):\n",
    "        self.State = State()\n",
    "        self.is_end = self.State.is_end\n",
    "\n",
    "    def train(self, rounds=200):\n",
    "        print(\"Training...\")\n",
    "        for r in range(rounds): \n",
    "            self.reset()\n",
    "            while not self.is_end:\n",
    "                action = self.get_action()\n",
    "                self.set_action(action)\n",
    "                self.State.check_end()\n",
    "                self.is_end = self.State.is_end\n",
    "        print(\"Training finished!\")"
   ]
  },
  {
   "cell_type": "markdown",
   "metadata": {},
   "source": [
    "### Training"
   ]
  },
  {
   "cell_type": "code",
   "execution_count": 7,
   "metadata": {},
   "outputs": [
    {
     "name": "stdout",
     "output_type": "stream",
     "text": [
      "Training...\n",
      "Training finished!\n"
     ]
    }
   ],
   "source": [
    "agent = Agent(learning=\"q\")\n",
    "agent.train()"
   ]
  },
  {
   "cell_type": "code",
   "execution_count": 8,
   "metadata": {},
   "outputs": [
    {
     "data": {
      "text/plain": [
       "{(0, 0): {'down': 0.61, 'left': 0.54, 'right': 0.61, 'up': 0.54},\n",
       " (0, 1): {'down': 0.69, 'left': 0.54, 'right': 0.69, 'up': 0.61},\n",
       " (0, 2): {'down': 0.78, 'left': 0.61, 'right': 0.78, 'up': 0.69},\n",
       " (0, 3): {'down': 0.88, 'left': 0.69, 'right': 0.78, 'up': 0.78},\n",
       " (1, 0): {'down': 0.69, 'left': 0.61, 'right': 0.69, 'up': 0.54},\n",
       " (1, 1): {'down': 0.78, 'left': 0.61, 'right': 0.78, 'up': 0.61},\n",
       " (1, 2): {'down': 0.88, 'left': 0.69, 'right': 0.88, 'up': 0.69},\n",
       " (1, 3): {'down': 0.99, 'left': 0.78, 'right': 0.88, 'up': 0.78},\n",
       " (2, 0): {'down': 0.69, 'left': 0.69, 'right': 0.78, 'up': 0.61},\n",
       " (2, 1): {'down': 0.78, 'left': 0.69, 'right': 0.88, 'up': 0.69},\n",
       " (2, 2): {'down': 0.88, 'left': 0.78, 'right': 0.99, 'up': 0.78},\n",
       " (2, 3): {'down': 0, 'left': 0, 'right': 0, 'up': 0}}"
      ]
     },
     "execution_count": 8,
     "metadata": {},
     "output_type": "execute_result"
    }
   ],
   "source": [
    "agent.Q_values"
   ]
  },
  {
   "cell_type": "code",
   "execution_count": 9,
   "metadata": {
    "scrolled": true
   },
   "outputs": [
    {
     "name": "stdout",
     "output_type": "stream",
     "text": [
      "----------------------------------\n",
      "| 0.995 | 0.996 | 0.997 | 0.998 | \n",
      "----------------------------------\n",
      "| 0.996 | 0.997 | 0.998 | 0.999 | \n",
      "----------------------------------\n",
      "| 0.997 | 0.998 | 0.999 | 1 | \n",
      "----------------------------------\n"
     ]
    }
   ],
   "source": [
    "agent.show_state_values()"
   ]
  },
  {
   "cell_type": "markdown",
   "metadata": {},
   "source": [
    "### Observation\n",
    "\n",
    "The ***state values*** will converge after training around 200 times whereas ***Q values*** will converge after only training around 50 times. Therefore, Q learning method learns faster. "
   ]
  },
  {
   "cell_type": "markdown",
   "metadata": {},
   "source": [
    " "
   ]
  },
  {
   "cell_type": "markdown",
   "metadata": {},
   "source": [
    " "
   ]
  },
  {
   "cell_type": "markdown",
   "metadata": {},
   "source": [
    "***References:***\n",
    "\n",
    "https://www.cs.swarthmore.edu/~bryce/cs63/s16/slides/3-21_value_iteration.pdf\n",
    "\n",
    "https://mohitmayank.com/interactive-q-learning/\n",
    "\n",
    "https://github.com/JaeDukSeo/reinforcement-learning-an-introduction"
   ]
  }
 ],
 "metadata": {
  "kernelspec": {
   "display_name": "Python 3",
   "language": "python",
   "name": "python3"
  },
  "language_info": {
   "codemirror_mode": {
    "name": "ipython",
    "version": 3
   },
   "file_extension": ".py",
   "mimetype": "text/x-python",
   "name": "python",
   "nbconvert_exporter": "python",
   "pygments_lexer": "ipython3",
   "version": "3.6.4"
  }
 },
 "nbformat": 4,
 "nbformat_minor": 2
}
