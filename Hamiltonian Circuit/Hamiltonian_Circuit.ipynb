{
 "cells": [
  {
   "cell_type": "markdown",
   "metadata": {},
   "source": [
    "# Shortest Coverage Problem — solved by Hamiltonian Ciruit\n",
    "\n",
    "###### Charles Zhang\n",
    "###### Jun 30"
   ]
  },
  {
   "cell_type": "code",
   "execution_count": 1,
   "metadata": {},
   "outputs": [],
   "source": [
    "class Graph:\n",
    "    def __init__(self, vertices):\n",
    "        self.graph = [[0 for column in range(vertices)]\n",
    "                      for row in range(vertices)]\n",
    "        self.V = vertices\n",
    "        \n",
    "    def is_safe(self, v, pos, path):\n",
    "        '''\n",
    "        Check if this vertex is an adjacent vertex  \n",
    "        of the previously added vertex and is not  \n",
    "        included in the path earlier \n",
    "        '''\n",
    "        # Check if current vertex and last vertex\n",
    "        # in path are adjacent\n",
    "        if self.graph[path[pos - 1]][v] == 0:\n",
    "            return False\n",
    "        # Check if current vertex not already in path\n",
    "        for vertex in path:\n",
    "            if vertex == v:\n",
    "                return False\n",
    "        return True\n",
    "\n",
    "    def hc_tool(self, path, pos):\n",
    "        # base case: if all vertices are included in the path\n",
    "        if pos == self.V:\n",
    "            # Last vertex must be adjacent to the\n",
    "            # first vertex in path to make a cycle\n",
    "            if self.graph[path[pos - 1]][path[0]] == 1:\n",
    "                return True\n",
    "            else:\n",
    "                return False\n",
    "\n",
    "        # Try different vertices as a next candidate\n",
    "        # in Hamiltonian Circuit, exclude 0.\n",
    "        for v in range(1, self.V):\n",
    "            if self.is_safe(v, pos, path) is True:\n",
    "                path[pos] = v\n",
    "                if self.hc_tool(path, pos + 1) is True:\n",
    "                    return True\n",
    "                # Remove current vertex if it doesn't lead to a solution\n",
    "                path[pos] = -1\n",
    "        return False\n",
    "\n",
    "    def ham_circuit(self):\n",
    "        path = [-1] * self.V\n",
    "        ''' \n",
    "        put vertex 0 as the first vertex in the path. \n",
    "        If there is a Hamiltonian Circuit, then the path can be started from any point of the cycle as \n",
    "        the graph is undirected \n",
    "        '''\n",
    "        path[0] = 0\n",
    "        if self.hc_tool(path, 1) is False:\n",
    "            print(\"Solution does not exist!\")\n",
    "            return None\n",
    "        self.print_solution(path)\n",
    "        return None\n",
    "\n",
    "    @staticmethod\n",
    "    def print_solution(path):\n",
    "        print(\"Solution Exists! \\nHamiltonian Circuit Order:\")\n",
    "        for vertex in path:\n",
    "            print(vertex, end=' ')\n",
    "        print(path[0])"
   ]
  },
  {
   "cell_type": "code",
   "execution_count": 2,
   "metadata": {},
   "outputs": [],
   "source": [
    "\n",
    "'''\n",
    " Graph: 4x5 GridWorld\n",
    " \n",
    "      0 ——1 ——2 ——3 ——4\n",
    "      |   |   |   |   |\n",
    "      5 ——6 ——7 ——8 ——9\n",
    "      |   |   |   |   |\n",
    "      10——11——12——13——14\n",
    "      |   |   |   |   |\n",
    "      15——16——17——18——19   \n",
    "'''\n",
    "g1 = Graph(20)\n",
    "g1.graph = [[0, 1, 0, 0, 0, 1, 0, 0, 0, 0, 0, 0, 0, 0, 0, 0, 0, 0, 0, 0],\n",
    "            [1, 0, 1, 0, 0, 0, 1, 0, 0, 0, 0, 0, 0, 0, 0, 0, 0, 0, 0, 0],\n",
    "            [0, 1, 0, 1, 0, 0, 0, 1, 0, 0, 0, 0, 0, 0, 0, 0, 0, 0, 0, 0],\n",
    "            [0, 0, 1, 0, 1, 0, 0, 0, 1, 0, 0, 0, 0, 0, 0, 0, 0, 0, 0, 0],\n",
    "            [0, 0, 0, 1, 0, 0, 0, 0, 0, 1, 0, 0, 0, 0, 0, 0, 0, 0, 0, 0, ],\n",
    "            [1, 0, 0, 0, 0, 0, 1, 0, 0, 0, 1, 0, 0, 0, 0, 0, 0, 0, 0, 0],\n",
    "            [0, 1, 0, 0, 0, 1, 0, 1, 0, 0, 0, 1, 0, 0, 0, 0, 0, 0, 0, 0],\n",
    "            [0, 0, 1, 0, 0, 0, 1, 0, 1, 0, 0, 0, 1, 0, 0, 0, 0, 0, 0, 0],\n",
    "            [0, 0, 0, 1, 0, 0, 0, 1, 0, 1, 0, 0, 0, 1, 0, 0, 0, 0, 0, 0],\n",
    "            [0, 0, 0, 0, 1, 0, 0, 0, 1, 0, 0, 0, 0, 0, 1, 0, 0, 0, 0, 0, ],\n",
    "            [0, 0, 0, 0, 0, 1, 0, 0, 0, 0, 0, 1, 0, 0, 0, 1, 0, 0, 0, 0],\n",
    "            [0, 0, 0, 0, 0, 0, 1, 0, 0, 0, 1, 0, 1, 0, 0, 0, 1, 0, 0, 0],\n",
    "            [0, 0, 0, 0, 0, 0, 0, 1, 0, 0, 0, 1, 0, 1, 0, 0, 0, 1, 0, 0],\n",
    "            [0, 0, 0, 0, 0, 0, 0, 0, 1, 0, 0, 0, 1, 0, 1, 0, 0, 0, 1, 0],\n",
    "            [0, 0, 0, 0, 0, 0, 0, 0, 0, 1, 0, 0, 0, 1, 0, 0, 0, 0, 0, 1, ],\n",
    "            [0, 0, 0, 0, 0, 0, 0, 0, 0, 0, 1, 0, 0, 0, 0, 0, 1, 0, 0, 0],\n",
    "            [0, 0, 0, 0, 0, 0, 0, 0, 0, 0, 0, 1, 0, 0, 0, 1, 0, 1, 0, 0],\n",
    "            [0, 0, 0, 0, 0, 0, 0, 0, 0, 0, 0, 0, 1, 0, 0, 0, 1, 0, 1, 0],\n",
    "            [0, 0, 0, 0, 0, 0, 0, 0, 0, 0, 0, 0, 0, 1, 0, 0, 0, 1, 0, 1],\n",
    "            [0, 0, 0, 0, 0, 0, 0, 0, 0, 0, 0, 0, 0, 0, 1, 0, 0, 0, 1, 0], ]"
   ]
  },
  {
   "cell_type": "code",
   "execution_count": 3,
   "metadata": {
    "scrolled": true
   },
   "outputs": [
    {
     "name": "stdout",
     "output_type": "stream",
     "text": [
      "Solution Exists! \n",
      "Hamiltonian Circuit Order:\n",
      "0 1 2 3 4 9 8 7 6 11 12 13 14 19 18 17 16 15 10 5 0\n"
     ]
    }
   ],
   "source": [
    "import datetime\n",
    "start_time = datetime.datetime.now()\n",
    "g1.ham_circuit()\n",
    "end_time = datetime.datetime.now()"
   ]
  },
  {
   "cell_type": "code",
   "execution_count": 4,
   "metadata": {},
   "outputs": [
    {
     "name": "stdout",
     "output_type": "stream",
     "text": [
      "Running time:  0.001935\n"
     ]
    }
   ],
   "source": [
    "time_period = (end_time - start_time).total_seconds()\n",
    "print(\"Running time: \", time_period)"
   ]
  },
  {
   "cell_type": "code",
   "execution_count": 5,
   "metadata": {},
   "outputs": [],
   "source": [
    "'''\n",
    "    3x3 Grid World\n",
    "      0——1——2\n",
    "      |  |  |   \n",
    "      3——4——5 \n",
    "      |  |  |   \n",
    "      6——7——8\n",
    "      \n",
    "'''\n",
    "g2 = Graph(9)\n",
    "g2.graph = [[0, 1, 0, 1, 0, 0, 0, 0, 0],\n",
    "            [1, 0, 1, 0, 1, 0, 0, 0, 0],\n",
    "            [0, 1, 0, 0, 0, 1, 0, 0, 0, ],\n",
    "            [1, 0, 0, 0, 1, 0, 1, 0, 0],\n",
    "            [0, 1, 0, 1, 0, 1, 0, 1, 0],\n",
    "            [0, 0, 1, 0, 1, 0, 0, 0, 1, ],\n",
    "            [0, 0, 0, 1, 0, 0, 0, 1, 0],\n",
    "            [0, 0, 0, 0, 1, 0, 1, 0, 1],\n",
    "            [0, 0, 0, 0, 0, 1, 0, 1, 0], ]"
   ]
  },
  {
   "cell_type": "code",
   "execution_count": 6,
   "metadata": {},
   "outputs": [
    {
     "name": "stdout",
     "output_type": "stream",
     "text": [
      "Solution does not exist!\n"
     ]
    }
   ],
   "source": [
    "start_time = datetime.datetime.now()\n",
    "g2.ham_circuit()\n",
    "end_time = datetime.datetime.now()"
   ]
  },
  {
   "cell_type": "code",
   "execution_count": 7,
   "metadata": {},
   "outputs": [
    {
     "name": "stdout",
     "output_type": "stream",
     "text": [
      "Running time:  0.000595\n"
     ]
    }
   ],
   "source": [
    "time_period = (end_time - start_time).total_seconds()\n",
    "print(\"Running time: \", time_period)"
   ]
  }
 ],
 "metadata": {
  "kernelspec": {
   "display_name": "Python 3",
   "language": "python",
   "name": "python3"
  },
  "language_info": {
   "codemirror_mode": {
    "name": "ipython",
    "version": 3
   },
   "file_extension": ".py",
   "mimetype": "text/x-python",
   "name": "python",
   "nbconvert_exporter": "python",
   "pygments_lexer": "ipython3",
   "version": "3.6.4"
  }
 },
 "nbformat": 4,
 "nbformat_minor": 2
}
