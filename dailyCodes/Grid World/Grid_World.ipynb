{
 "cells": [
  {
   "cell_type": "markdown",
   "metadata": {},
   "source": [
    "# Reinforcement Learning Practice: Grid World\n",
    "\n",
    "***Charles Zhang***\n",
    "\n",
    "***Jun 9***"
   ]
  },
  {
   "cell_type": "code",
   "execution_count": 1,
   "metadata": {},
   "outputs": [],
   "source": [
    "import numpy as np"
   ]
  },
  {
   "cell_type": "code",
   "execution_count": 2,
   "metadata": {},
   "outputs": [],
   "source": [
    "BOARD_ROWS = 3\n",
    "BOARD_COLS = 4\n",
    "START = (0, 0)\n",
    "END = (2, 3)"
   ]
  },
  {
   "cell_type": "markdown",
   "metadata": {},
   "source": [
    "### Environment Setting"
   ]
  },
  {
   "cell_type": "code",
   "execution_count": 3,
   "metadata": {},
   "outputs": [],
   "source": [
    "class State:\n",
    "\n",
    "    def __init__(self, state=START):\n",
    "        self.board = np.zeros([BOARD_ROWS, BOARD_COLS])\n",
    "        self.state = state\n",
    "        self.is_end = False\n",
    "\n",
    "    def give_reward(self):\n",
    "        if self.state == END:\n",
    "            return 1\n",
    "        else:\n",
    "            return 0\n",
    "\n",
    "    def check_end(self):\n",
    "        if self.state == END:\n",
    "            self.is_end = True\n",
    "\n",
    "    def next_position(self, action):\n",
    "        if action == \"up\":\n",
    "            next_state = (self.state[0] - 1, self.state[1])\n",
    "        elif action == \"down\":\n",
    "            next_state = (self.state[0] + 1, self.state[1])\n",
    "        elif action == \"left\":\n",
    "            next_state = (self.state[0], self.state[1] - 1)\n",
    "        else:\n",
    "            next_state = (self.state[0], self.state[1] + 1)\n",
    "        # boundary check\n",
    "        if (next_state[0] >= 0) and (next_state[0] < BOARD_ROWS):\n",
    "            if (next_state[1] >= 0) and (next_state[1] < BOARD_COLS):\n",
    "                return next_state\n",
    "        return self.state\n",
    "\n",
    "    def show_board(self):\n",
    "        self.board[self.state] = 1\n",
    "        for i in range(0, BOARD_ROWS):\n",
    "            print('-----------------')\n",
    "            out = '| '\n",
    "            for j in range(0, BOARD_COLS):\n",
    "                if self.board[i, j] == 1:\n",
    "                    token = '*'\n",
    "                if self.board[i, j] == -1:\n",
    "                    token = 'z'\n",
    "                if self.board[i, j] == 0:\n",
    "                    token = '0'\n",
    "                out += token + ' | '\n",
    "            print(out)\n",
    "        print('-----------------')"
   ]
  },
  {
   "cell_type": "code",
   "execution_count": 4,
   "metadata": {},
   "outputs": [
    {
     "name": "stdout",
     "output_type": "stream",
     "text": [
      "(0, 0)\n",
      "-----------------\n",
      "| * | 0 | 0 | 0 | \n",
      "-----------------\n",
      "| 0 | 0 | 0 | 0 | \n",
      "-----------------\n",
      "| 0 | 0 | 0 | 0 | \n",
      "-----------------\n"
     ]
    }
   ],
   "source": [
    "start = State()\n",
    "print(start.state)\n",
    "start.show_board()"
   ]
  },
  {
   "cell_type": "code",
   "execution_count": 5,
   "metadata": {},
   "outputs": [
    {
     "name": "stdout",
     "output_type": "stream",
     "text": [
      "(2, 3)\n",
      "-----------------\n",
      "| 0 | 0 | 0 | 0 | \n",
      "-----------------\n",
      "| 0 | 0 | 0 | 0 | \n",
      "-----------------\n",
      "| 0 | 0 | 0 | * | \n",
      "-----------------\n"
     ]
    }
   ],
   "source": [
    "end = State(state=END)\n",
    "print(end.state)\n",
    "end.show_board()"
   ]
  },
  {
   "cell_type": "markdown",
   "metadata": {},
   "source": [
    "### Agent Setting"
   ]
  },
  {
   "cell_type": "code",
   "execution_count": 6,
   "metadata": {},
   "outputs": [],
   "source": [
    "class Agent:\n",
    "\n",
    "    def __init__(self):\n",
    "        self.states = []\n",
    "        self.actions = [\"up\", \"down\", \"left\", \"right\"]      # space\n",
    "        self.State = State()\n",
    "        self.is_end = self.State.is_end\n",
    "        self.alpha = 0.3\n",
    "        self.exp_rate = 1\n",
    "        self.state_values = {}\n",
    "        for i in range(BOARD_ROWS):\n",
    "            for j in range(BOARD_COLS):\n",
    "                self.state_values[(i, j)] = 0\n",
    "\n",
    "    def get_action(self):\n",
    "        max_reward = 0\n",
    "        action = \"\"\n",
    "        if np.random.uniform(0, 1) <= self.exp_rate:\n",
    "            action = np.random.choice(self.actions)\n",
    "        else:\n",
    "            # greedy action\n",
    "            for a in self.actions:\n",
    "                next_reward = self.state_values[self.State.next_position(a)]\n",
    "                if next_reward >= max_reward:\n",
    "                    action = a\n",
    "                    max_reward = next_reward\n",
    "        return action\n",
    "\n",
    "    def set_action(self, action):\n",
    "        position = self.State.next_position(action)\n",
    "        return State(state=position)\n",
    "\n",
    "    def show_values(self):\n",
    "        for i in range(0, BOARD_ROWS):\n",
    "            print('----------------------------------')\n",
    "            out = '| '\n",
    "            for j in range(0, BOARD_COLS):\n",
    "                out += str(self.state_values[(i, j)]) + ' | '\n",
    "            print(out)\n",
    "        print('----------------------------------')\n",
    "\n",
    "    def reset(self):\n",
    "        self.states = []\n",
    "        self.State = State()\n",
    "        self.is_end = self.State.is_end\n",
    "\n",
    "    def train(self, rounds=500):\n",
    "        i = 1\n",
    "        while i <= rounds:\n",
    "            if self.State.is_end:\n",
    "                reward = self.State.give_reward()  # 1 for the end\n",
    "                self.state_values[self.State.state] = reward\n",
    "                if i % 100 == 0:\n",
    "                    print(\"Game Round {} End\".format(i))\n",
    "                for s in reversed(self.states):\n",
    "                    reward = self.state_values[s] + self.alpha * (reward - self.state_values[s])\n",
    "                    self.state_values[s] = round(reward, 4)\n",
    "                self.reset()\n",
    "                i += 1\n",
    "            else:\n",
    "                action = self.get_action()\n",
    "                self.states.append(self.State.next_position(action))\n",
    "                self.State = self.set_action(action)\n",
    "                self.State.check_end()  # renew is_end\n",
    "                self.is_end = self.State.is_end"
   ]
  },
  {
   "cell_type": "markdown",
   "metadata": {},
   "source": [
    "### Training"
   ]
  },
  {
   "cell_type": "code",
   "execution_count": 7,
   "metadata": {},
   "outputs": [
    {
     "name": "stdout",
     "output_type": "stream",
     "text": [
      "Training...\n",
      "Game Round 100 End\n",
      "Game Round 200 End\n",
      "Game Round 300 End\n",
      "Game Round 400 End\n",
      "Game Round 500 End\n",
      "Training finished!\n"
     ]
    }
   ],
   "source": [
    "agent = Agent()\n",
    "print(\"Training...\")\n",
    "agent.train()\n",
    "print(\"Training finished!\")"
   ]
  },
  {
   "cell_type": "code",
   "execution_count": 8,
   "metadata": {
    "scrolled": true
   },
   "outputs": [
    {
     "name": "stdout",
     "output_type": "stream",
     "text": [
      "----------------------------------\n",
      "| 0.9995 | 0.9996 | 0.9997 | 0.9998 | \n",
      "----------------------------------\n",
      "| 0.9996 | 0.9997 | 0.9998 | 0.9999 | \n",
      "----------------------------------\n",
      "| 0.9997 | 0.9998 | 0.9999 | 1.0 | \n",
      "----------------------------------\n"
     ]
    }
   ],
   "source": [
    "agent.show_values()"
   ]
  },
  {
   "cell_type": "markdown",
   "metadata": {},
   "source": [
    "***References:***\n",
    "\n",
    "https://www.cs.swarthmore.edu/~bryce/cs63/s16/slides/3-21_value_iteration.pdf\n",
    "\n",
    "https://mohitmayank.com/interactive-q-learning/\n",
    "\n",
    "https://github.com/JaeDukSeo/reinforcement-learning-an-introduction"
   ]
  }
 ],
 "metadata": {
  "kernelspec": {
   "display_name": "Python 3",
   "language": "python",
   "name": "python3"
  },
  "language_info": {
   "codemirror_mode": {
    "name": "ipython",
    "version": 3
   },
   "file_extension": ".py",
   "mimetype": "text/x-python",
   "name": "python",
   "nbconvert_exporter": "python",
   "pygments_lexer": "ipython3",
   "version": "3.6.4"
  }
 },
 "nbformat": 4,
 "nbformat_minor": 2
}
